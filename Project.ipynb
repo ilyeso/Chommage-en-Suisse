{
 "cells": [
  {
   "cell_type": "code",
   "execution_count": 1,
   "metadata": {
    "id": "4c87EFPCHh7d"
   },
   "outputs": [
    {
     "name": "stdout",
     "output_type": "stream",
     "text": [
      "Requirement already satisfied: pygal_maps_ch in c:\\users\\ilyes omri\\anaconda3\\lib\\site-packages (1.0.1)\n",
      "Requirement already satisfied: pygal>=1.9.9 in c:\\users\\ilyes omri\\anaconda3\\lib\\site-packages (from pygal_maps_ch) (3.0.0)\n"
     ]
    },
    {
     "name": "stderr",
     "output_type": "stream",
     "text": [
      "\n",
      "[notice] A new release of pip available: 22.3.1 -> 23.0\n",
      "[notice] To update, run: python.exe -m pip install --upgrade pip\n"
     ]
    }
   ],
   "source": [
    "!pip install pygal_maps_ch"
   ]
  },
  {
   "cell_type": "code",
   "execution_count": 2,
   "metadata": {
    "colab": {
     "base_uri": "https://localhost:8080/",
     "height": 352
    },
    "id": "13968a4e",
    "outputId": "7f8dd037-e499-4a09-fa37-838b8158b7f6"
   },
   "outputs": [],
   "source": [
    "import numpy as np\n",
    "import matplotlib.pyplot as plt\n",
    "import pandas as pd \n",
    "from pandas import read_csv\n",
    "import seaborn as sns\n",
    "import ipywidgets as widgets\n",
    "import pygal"
   ]
  },
  {
   "cell_type": "code",
   "execution_count": 3,
   "metadata": {
    "id": "ACNyZ9fk0mwS"
   },
   "outputs": [],
   "source": [
    "#Importation des données\n",
    "file=\"data_emploi_cantons.csv\"\n",
    "df = pd.read_csv(file, sep=';')\n"
   ]
  },
  {
   "cell_type": "markdown",
   "metadata": {
    "id": "RInMbOIV_Lrg"
   },
   "source": [
    "**Affichage et Exploitation des données**"
   ]
  },
  {
   "cell_type": "code",
   "execution_count": 4,
   "metadata": {
    "colab": {
     "base_uri": "https://localhost:8080/",
     "height": 206
    },
    "id": "8rcS6zPi_STT",
    "outputId": "30f57c3f-dbdb-455d-87b8-f61345e329ba"
   },
   "outputs": [
    {
     "data": {
      "text/html": [
       "<div>\n",
       "<style scoped>\n",
       "    .dataframe tbody tr th:only-of-type {\n",
       "        vertical-align: middle;\n",
       "    }\n",
       "\n",
       "    .dataframe tbody tr th {\n",
       "        vertical-align: top;\n",
       "    }\n",
       "\n",
       "    .dataframe thead th {\n",
       "        text-align: right;\n",
       "    }\n",
       "</style>\n",
       "<table border=\"1\" class=\"dataframe\">\n",
       "  <thead>\n",
       "    <tr style=\"text-align: right;\">\n",
       "      <th></th>\n",
       "      <th>TIME_PERIOD</th>\n",
       "      <th>GEO</th>\n",
       "      <th>ERWP</th>\n",
       "      <th>ERWL</th>\n",
       "      <th>POP1564</th>\n",
       "      <th>UNIT_MEA</th>\n",
       "      <th>OBS_VALUE</th>\n",
       "      <th>OBS_CONFIDENCE</th>\n",
       "      <th>OBS_STATUS</th>\n",
       "    </tr>\n",
       "  </thead>\n",
       "  <tbody>\n",
       "    <tr>\n",
       "      <th>0</th>\n",
       "      <td>2010</td>\n",
       "      <td>CH040</td>\n",
       "      <td>1</td>\n",
       "      <td>Total</td>\n",
       "      <td>Total</td>\n",
       "      <td>pers</td>\n",
       "      <td>790988.0</td>\n",
       "      <td>0.6410</td>\n",
       "      <td>A</td>\n",
       "    </tr>\n",
       "    <tr>\n",
       "      <th>1</th>\n",
       "      <td>2010</td>\n",
       "      <td>CH040</td>\n",
       "      <td>Total</td>\n",
       "      <td>Total</td>\n",
       "      <td>Total</td>\n",
       "      <td>pers</td>\n",
       "      <td>1153705.0</td>\n",
       "      <td>0.1205</td>\n",
       "      <td>A</td>\n",
       "    </tr>\n",
       "    <tr>\n",
       "      <th>2</th>\n",
       "      <td>2010</td>\n",
       "      <td>CH021</td>\n",
       "      <td>1</td>\n",
       "      <td>Total</td>\n",
       "      <td>Total</td>\n",
       "      <td>pers</td>\n",
       "      <td>545121.0</td>\n",
       "      <td>0.8064</td>\n",
       "      <td>A</td>\n",
       "    </tr>\n",
       "    <tr>\n",
       "      <th>3</th>\n",
       "      <td>2010</td>\n",
       "      <td>CH021</td>\n",
       "      <td>Total</td>\n",
       "      <td>Total</td>\n",
       "      <td>Total</td>\n",
       "      <td>pers</td>\n",
       "      <td>824336.0</td>\n",
       "      <td>0.1226</td>\n",
       "      <td>A</td>\n",
       "    </tr>\n",
       "    <tr>\n",
       "      <th>4</th>\n",
       "      <td>2010</td>\n",
       "      <td>CH061</td>\n",
       "      <td>1</td>\n",
       "      <td>Total</td>\n",
       "      <td>Total</td>\n",
       "      <td>pers</td>\n",
       "      <td>213370.0</td>\n",
       "      <td>0.9513</td>\n",
       "      <td>A</td>\n",
       "    </tr>\n",
       "  </tbody>\n",
       "</table>\n",
       "</div>"
      ],
      "text/plain": [
       "   TIME_PERIOD    GEO   ERWP   ERWL POP1564 UNIT_MEA  OBS_VALUE  \\\n",
       "0         2010  CH040      1  Total   Total     pers   790988.0   \n",
       "1         2010  CH040  Total  Total   Total     pers  1153705.0   \n",
       "2         2010  CH021      1  Total   Total     pers   545121.0   \n",
       "3         2010  CH021  Total  Total   Total     pers   824336.0   \n",
       "4         2010  CH061      1  Total   Total     pers   213370.0   \n",
       "\n",
       "   OBS_CONFIDENCE OBS_STATUS  \n",
       "0          0.6410          A  \n",
       "1          0.1205          A  \n",
       "2          0.8064          A  \n",
       "3          0.1226          A  \n",
       "4          0.9513          A  "
      ]
     },
     "execution_count": 4,
     "metadata": {},
     "output_type": "execute_result"
    }
   ],
   "source": [
    "#Affichage des 5 premieres lignes \n",
    "df.head()"
   ]
  },
  {
   "cell_type": "code",
   "execution_count": 5,
   "metadata": {
    "colab": {
     "base_uri": "https://localhost:8080/"
    },
    "id": "t1gJQzcF2TrR",
    "outputId": "a54c0440-aab0-4a1f-9237-56f064274de7"
   },
   "outputs": [
    {
     "data": {
      "text/plain": [
       "(4158, 9)"
      ]
     },
     "execution_count": 5,
     "metadata": {},
     "output_type": "execute_result"
    }
   ],
   "source": [
    "#Taille de données\n",
    "df.shape"
   ]
  },
  {
   "cell_type": "code",
   "execution_count": 6,
   "metadata": {},
   "outputs": [
    {
     "name": "stdout",
     "output_type": "stream",
     "text": [
      "On a des statisuques sur : 26 cantons\n"
     ]
    }
   ],
   "source": [
    "#liste des cantons \n",
    "cantons_counts = df[\"GEO\"].unique()\n",
    "print(\"On a des statisuques sur : \"+ str(len(cantons_counts)-1) + \" cantons\")"
   ]
  },
  {
   "cell_type": "code",
   "execution_count": 7,
   "metadata": {
    "colab": {
     "base_uri": "https://localhost:8080/"
    },
    "id": "HTmsBhVcPY-C",
    "outputId": "ec280ff6-acfb-4802-ec0a-4d2d2605ab45"
   },
   "outputs": [
    {
     "data": {
      "text/plain": [
       "TIME_PERIOD       0\n",
       "GEO               0\n",
       "ERWP              0\n",
       "ERWL              0\n",
       "POP1564           0\n",
       "UNIT_MEA          0\n",
       "OBS_VALUE         8\n",
       "OBS_CONFIDENCE    8\n",
       "OBS_STATUS        0\n",
       "dtype: int64"
      ]
     },
     "execution_count": 7,
     "metadata": {},
     "output_type": "execute_result"
    }
   ],
   "source": [
    "# Afficher le total des valeurs nulles par colonne\n",
    "df.isnull().sum()"
   ]
  },
  {
   "cell_type": "code",
   "execution_count": 8,
   "metadata": {
    "colab": {
     "base_uri": "https://localhost:8080/",
     "height": 364
    },
    "id": "4BuSZFrG3MTD",
    "outputId": "46856e34-d79e-4f2d-d680-77b1ca58a289"
   },
   "outputs": [
    {
     "data": {
      "text/plain": [
       "<AxesSubplot:>"
      ]
     },
     "execution_count": 8,
     "metadata": {},
     "output_type": "execute_result"
    },
    {
     "data": {
      "image/png": "[encoded data removed]",
      "text/plain": [
       "<Figure size 432x288 with 1 Axes>"
      ]
     },
     "metadata": {
      "needs_background": "light"
     },
     "output_type": "display_data"
    }
   ],
   "source": [
    "#observation des colonnes  contenant des valeurs null\n",
    "df.isna().sum()[df.isna().sum()>0].plot(kind='bar')"
   ]
  },
  {
   "cell_type": "markdown",
   "metadata": {
    "id": "qMsID4IZn1Xa"
   },
   "source": [
    "**Ces données ne sont pas complètes sur les années disponibles.\n",
    "Il manque quelques valeur d'observation**"
   ]
  },
  {
   "cell_type": "code",
   "execution_count": 9,
   "metadata": {
    "id": "5axgTaG7PC8k"
   },
   "outputs": [],
   "source": [
    "#On trouve 8 valeurs null dans la colonne de Valeur d'observation et Intervalle de confiance\n",
    "#On supprime les lignes qui contiennent les valeurs null et on sauvgarde la nouvelle Data frame dans df1\n",
    "dfNew=df.dropna()"
   ]
  },
  {
   "cell_type": "code",
   "execution_count": 10,
   "metadata": {
    "colab": {
     "base_uri": "https://localhost:8080/"
    },
    "id": "KjRhMI3eQ0Zh",
    "outputId": "83c6929a-281a-45f6-a95f-aea7774d73ae"
   },
   "outputs": [
    {
     "data": {
      "text/plain": [
       "TIME_PERIOD       0\n",
       "GEO               0\n",
       "ERWP              0\n",
       "ERWL              0\n",
       "POP1564           0\n",
       "UNIT_MEA          0\n",
       "OBS_VALUE         0\n",
       "OBS_CONFIDENCE    0\n",
       "OBS_STATUS        0\n",
       "dtype: int64"
      ]
     },
     "execution_count": 10,
     "metadata": {},
     "output_type": "execute_result"
    }
   ],
   "source": [
    "#on verifie s'il reste de valeur null \n",
    "dfNew.isnull().sum()"
   ]
  },
  {
   "cell_type": "code",
   "execution_count": 11,
   "metadata": {},
   "outputs": [
    {
     "data": {
      "text/plain": [
       "<BarContainer object of 27 artists>"
      ]
     },
     "execution_count": 11,
     "metadata": {},
     "output_type": "execute_result"
    },
    {
     "data": {
      "image/png": "[encoded data removed]",
      "text/plain": [
       "<Figure size 1296x360 with 1 Axes>"
      ]
     },
     "metadata": {
      "needs_background": "light"
     },
     "output_type": "display_data"
    }
   ],
   "source": [
    "fig, ax = plt.subplots(figsize=(18,5))\n",
    "\n",
    "ax.bar(cantons_counts, np.array(1), label='Personnes au chomage')"
   ]
  },
  {
   "cell_type": "code",
   "execution_count": 12,
   "metadata": {
    "colab": {
     "base_uri": "https://localhost:8080/",
     "height": 300
    },
    "id": "_vUsR21EPCg4",
    "outputId": "76a1b5a8-7693-4fad-a3e4-88535b8ae344"
   },
   "outputs": [
    {
     "data": {
      "text/html": [
       "<div>\n",
       "<style scoped>\n",
       "    .dataframe tbody tr th:only-of-type {\n",
       "        vertical-align: middle;\n",
       "    }\n",
       "\n",
       "    .dataframe tbody tr th {\n",
       "        vertical-align: top;\n",
       "    }\n",
       "\n",
       "    .dataframe thead th {\n",
       "        text-align: right;\n",
       "    }\n",
       "</style>\n",
       "<table border=\"1\" class=\"dataframe\">\n",
       "  <thead>\n",
       "    <tr style=\"text-align: right;\">\n",
       "      <th></th>\n",
       "      <th>OBS_VALUE</th>\n",
       "      <th>OBS_CONFIDENCE</th>\n",
       "    </tr>\n",
       "  </thead>\n",
       "  <tbody>\n",
       "    <tr>\n",
       "      <th>count</th>\n",
       "      <td>4.150000e+03</td>\n",
       "      <td>4150.000000</td>\n",
       "    </tr>\n",
       "    <tr>\n",
       "      <th>mean</th>\n",
       "      <td>1.596492e+05</td>\n",
       "      <td>2.576461</td>\n",
       "    </tr>\n",
       "    <tr>\n",
       "      <th>std</th>\n",
       "      <td>6.459056e+05</td>\n",
       "      <td>6.971004</td>\n",
       "    </tr>\n",
       "    <tr>\n",
       "      <th>min</th>\n",
       "      <td>1.118900e+00</td>\n",
       "      <td>0.000000</td>\n",
       "    </tr>\n",
       "    <tr>\n",
       "      <th>25%</th>\n",
       "      <td>9.575801e+01</td>\n",
       "      <td>0.233250</td>\n",
       "    </tr>\n",
       "    <tr>\n",
       "      <th>50%</th>\n",
       "      <td>1.407620e+02</td>\n",
       "      <td>0.908800</td>\n",
       "    </tr>\n",
       "    <tr>\n",
       "      <th>75%</th>\n",
       "      <td>1.067618e+05</td>\n",
       "      <td>1.994250</td>\n",
       "    </tr>\n",
       "    <tr>\n",
       "      <th>max</th>\n",
       "      <td>7.187715e+06</td>\n",
       "      <td>86.907700</td>\n",
       "    </tr>\n",
       "  </tbody>\n",
       "</table>\n",
       "</div>"
      ],
      "text/plain": [
       "          OBS_VALUE  OBS_CONFIDENCE\n",
       "count  4.150000e+03     4150.000000\n",
       "mean   1.596492e+05        2.576461\n",
       "std    6.459056e+05        6.971004\n",
       "min    1.118900e+00        0.000000\n",
       "25%    9.575801e+01        0.233250\n",
       "50%    1.407620e+02        0.908800\n",
       "75%    1.067618e+05        1.994250\n",
       "max    7.187715e+06       86.907700"
      ]
     },
     "execution_count": 12,
     "metadata": {},
     "output_type": "execute_result"
    }
   ],
   "source": [
    "#Afficher un résumé des statistiques descriptives des données (description quatitatives)\n",
    "dfNew[[\"OBS_VALUE\",\"OBS_CONFIDENCE\"]].describe()"
   ]
  },
  {
   "cell_type": "code",
   "execution_count": 13,
   "metadata": {
    "colab": {
     "base_uri": "https://localhost:8080/",
     "height": 288
    },
    "id": "u9djpnHj1BXo",
    "outputId": "618ad032-0d35-4e9b-eeae-81b083198863"
   },
   "outputs": [
    {
     "data": {
      "image/png": "[encoded data removed]",
      "text/plain": [
       "<Figure size 432x288 with 1 Axes>"
      ]
     },
     "metadata": {
      "needs_background": "light"
     },
     "output_type": "display_data"
    }
   ],
   "source": [
    "#On verifie le nombre d'occurence de chaque status d'observation\n",
    "OBS_status_Count=len(dfNew[\"OBS_STATUS\"])\n",
    "ax = sns.countplot(x=\"OBS_STATUS\", data=dfNew)\n",
    "for p in ax.patches:\n",
    "    ax.annotate('{:.1f} = {:.1f}%'.format(p.get_height(),100*p.get_height()/OBS_status_Count), (p.get_x()+0.2, p.get_height()+200))"
   ]
  },
  {
   "cell_type": "code",
   "execution_count": 14,
   "metadata": {
    "colab": {
     "base_uri": "https://localhost:8080/",
     "height": 291
    },
    "id": "BSiPsC_SWgqt",
    "outputId": "0a212cb1-b112-4d11-a392-35b626ca5ee5"
   },
   "outputs": [
    {
     "data": {
      "image/png": "[encoded data removed]",
      "text/plain": [
       "<Figure size 432x288 with 1 Axes>"
      ]
     },
     "metadata": {
      "needs_background": "light"
     },
     "output_type": "display_data"
    }
   ],
   "source": [
    "#On verifie le nombre d'occurence de chaque type de population par rapport au personnes au chomage\n",
    "OBS_chomage_Count=len(dfNew[\"ERWL\"])\n",
    "ax = sns.countplot(x=\"ERWL\", data=dfNew)\n",
    "for p in ax.patches:\n",
    "    ax.annotate('{:.1f} = {:.1f}%'.format(p.get_height(),100*p.get_height()/OBS_chomage_Count), (p.get_x()+0.2, p.get_height()+200))"
   ]
  },
  {
   "cell_type": "code",
   "execution_count": 15,
   "metadata": {
    "colab": {
     "base_uri": "https://localhost:8080/",
     "height": 291
    },
    "id": "LeZCq6RSdlo-",
    "outputId": "458a93ca-73db-4f8a-df23-e64cce8642ff"
   },
   "outputs": [
    {
     "data": {
      "image/png": "[encoded data removed]",
      "text/plain": [
       "<Figure size 432x288 with 1 Axes>"
      ]
     },
     "metadata": {
      "needs_background": "light"
     },
     "output_type": "display_data"
    }
   ],
   "source": [
    "#On verifie le nombre d'occurence de chaque type de population par rapport au personnes actives\n",
    "OBS_actif_Count=len(dfNew[\"ERWP\"])\n",
    "ax = sns.countplot(x=\"ERWP\", data=dfNew)\n",
    "for p in ax.patches:\n",
    "    ax.annotate('{:.1f} = {:.1f}%'.format(p.get_height(),100*p.get_height()/OBS_actif_Count), (p.get_x()+0.2, p.get_height()+200))"
   ]
  },
  {
   "cell_type": "markdown",
   "metadata": {
    "id": "RIhe6v38fn7Q"
   },
   "source": [
    "**Les principales données qu'on pense utilisables pour étudier le chomage dans les cantons suisses sont :**\n",
    "\n",
    "1.   **TIME_PERIOD** : La periode\n",
    "2.   **GEO** : La localisation\n",
    "3.   **ERWP** : population concernée par rapport au personnes actives\n",
    "4.   **ERW**L :  population concernée par rapport au personnes au chomage\n",
    "5.   **POP1564** :  population concernée par rapport a l'age\n",
    "6.   **UNIT_MEA** : Unité de mesure\n",
    "7.   **OBS_VALUE** : La valeur de l'observation\n",
    "\n",
    "\n",
    "\n"
   ]
  },
  {
   "cell_type": "code",
   "execution_count": 16,
   "metadata": {},
   "outputs": [
    {
     "name": "stderr",
     "output_type": "stream",
     "text": [
      "C:\\Users\\ilyes omri\\anaconda3\\lib\\site-packages\\pandas\\core\\frame.py:4163: SettingWithCopyWarning: \n",
      "A value is trying to be set on a copy of a slice from a DataFrame\n",
      "\n",
      "See the caveats in the documentation: https://pandas.pydata.org/pandas-docs/stable/user_guide/indexing.html#returning-a-view-versus-a-copy\n",
      "  return super().drop(\n"
     ]
    }
   ],
   "source": [
    "#supprimer la colonne 'OBS_Confidence'\n",
    "dfNew.drop('OBS_CONFIDENCE', axis=1, inplace=True)"
   ]
  },
  {
   "cell_type": "code",
   "execution_count": 17,
   "metadata": {},
   "outputs": [],
   "source": [
    "#supprimer la colonne 'OBS_Status'\n",
    "dfNew.drop('OBS_STATUS', axis=1, inplace=True)"
   ]
  },
  {
   "cell_type": "code",
   "execution_count": 18,
   "metadata": {
    "colab": {
     "base_uri": "https://localhost:8080/",
     "height": 394
    },
    "id": "kG1nfqpPQamg",
    "outputId": "9f1f2967-0efd-4a65-88a2-38fdc72d6632"
   },
   "outputs": [
    {
     "data": {
      "text/html": [
       "<div>\n",
       "<style scoped>\n",
       "    .dataframe tbody tr th:only-of-type {\n",
       "        vertical-align: middle;\n",
       "    }\n",
       "\n",
       "    .dataframe tbody tr th {\n",
       "        vertical-align: top;\n",
       "    }\n",
       "\n",
       "    .dataframe thead th {\n",
       "        text-align: right;\n",
       "    }\n",
       "</style>\n",
       "<table border=\"1\" class=\"dataframe\">\n",
       "  <thead>\n",
       "    <tr style=\"text-align: right;\">\n",
       "      <th></th>\n",
       "      <th>TIME_PERIOD</th>\n",
       "      <th>GEO</th>\n",
       "      <th>ERWP</th>\n",
       "      <th>ERWL</th>\n",
       "      <th>POP1564</th>\n",
       "      <th>UNIT_MEA</th>\n",
       "      <th>OBS_VALUE</th>\n",
       "    </tr>\n",
       "  </thead>\n",
       "  <tbody>\n",
       "    <tr>\n",
       "      <th>43</th>\n",
       "      <td>2010</td>\n",
       "      <td>CH011</td>\n",
       "      <td>Total</td>\n",
       "      <td>Total</td>\n",
       "      <td>Total</td>\n",
       "      <td>pers</td>\n",
       "      <td>573030.0</td>\n",
       "    </tr>\n",
       "    <tr>\n",
       "      <th>421</th>\n",
       "      <td>2011</td>\n",
       "      <td>CH011</td>\n",
       "      <td>Total</td>\n",
       "      <td>Total</td>\n",
       "      <td>Total</td>\n",
       "      <td>pers</td>\n",
       "      <td>585680.0</td>\n",
       "    </tr>\n",
       "    <tr>\n",
       "      <th>799</th>\n",
       "      <td>2012</td>\n",
       "      <td>CH011</td>\n",
       "      <td>Total</td>\n",
       "      <td>Total</td>\n",
       "      <td>Total</td>\n",
       "      <td>pers</td>\n",
       "      <td>596537.0</td>\n",
       "    </tr>\n",
       "    <tr>\n",
       "      <th>1177</th>\n",
       "      <td>2013</td>\n",
       "      <td>CH011</td>\n",
       "      <td>Total</td>\n",
       "      <td>Total</td>\n",
       "      <td>Total</td>\n",
       "      <td>pers</td>\n",
       "      <td>608946.0</td>\n",
       "    </tr>\n",
       "    <tr>\n",
       "      <th>1555</th>\n",
       "      <td>2014</td>\n",
       "      <td>CH011</td>\n",
       "      <td>Total</td>\n",
       "      <td>Total</td>\n",
       "      <td>Total</td>\n",
       "      <td>pers</td>\n",
       "      <td>619668.0</td>\n",
       "    </tr>\n",
       "    <tr>\n",
       "      <th>1933</th>\n",
       "      <td>2015</td>\n",
       "      <td>CH011</td>\n",
       "      <td>Total</td>\n",
       "      <td>Total</td>\n",
       "      <td>Total</td>\n",
       "      <td>pers</td>\n",
       "      <td>630312.0</td>\n",
       "    </tr>\n",
       "    <tr>\n",
       "      <th>2311</th>\n",
       "      <td>2016</td>\n",
       "      <td>CH011</td>\n",
       "      <td>Total</td>\n",
       "      <td>Total</td>\n",
       "      <td>Total</td>\n",
       "      <td>pers</td>\n",
       "      <td>640606.0</td>\n",
       "    </tr>\n",
       "    <tr>\n",
       "      <th>2689</th>\n",
       "      <td>2017</td>\n",
       "      <td>CH011</td>\n",
       "      <td>Total</td>\n",
       "      <td>Total</td>\n",
       "      <td>Total</td>\n",
       "      <td>pers</td>\n",
       "      <td>647327.0</td>\n",
       "    </tr>\n",
       "    <tr>\n",
       "      <th>3067</th>\n",
       "      <td>2018</td>\n",
       "      <td>CH011</td>\n",
       "      <td>Total</td>\n",
       "      <td>Total</td>\n",
       "      <td>Total</td>\n",
       "      <td>pers</td>\n",
       "      <td>652435.0</td>\n",
       "    </tr>\n",
       "    <tr>\n",
       "      <th>3445</th>\n",
       "      <td>2019</td>\n",
       "      <td>CH011</td>\n",
       "      <td>Total</td>\n",
       "      <td>Total</td>\n",
       "      <td>Total</td>\n",
       "      <td>pers</td>\n",
       "      <td>657154.0</td>\n",
       "    </tr>\n",
       "    <tr>\n",
       "      <th>3823</th>\n",
       "      <td>2020</td>\n",
       "      <td>CH011</td>\n",
       "      <td>Total</td>\n",
       "      <td>Total</td>\n",
       "      <td>Total</td>\n",
       "      <td>pers</td>\n",
       "      <td>665074.0</td>\n",
       "    </tr>\n",
       "  </tbody>\n",
       "</table>\n",
       "</div>"
      ],
      "text/plain": [
       "      TIME_PERIOD    GEO   ERWP   ERWL POP1564 UNIT_MEA  OBS_VALUE\n",
       "43           2010  CH011  Total  Total   Total     pers   573030.0\n",
       "421          2011  CH011  Total  Total   Total     pers   585680.0\n",
       "799          2012  CH011  Total  Total   Total     pers   596537.0\n",
       "1177         2013  CH011  Total  Total   Total     pers   608946.0\n",
       "1555         2014  CH011  Total  Total   Total     pers   619668.0\n",
       "1933         2015  CH011  Total  Total   Total     pers   630312.0\n",
       "2311         2016  CH011  Total  Total   Total     pers   640606.0\n",
       "2689         2017  CH011  Total  Total   Total     pers   647327.0\n",
       "3067         2018  CH011  Total  Total   Total     pers   652435.0\n",
       "3445         2019  CH011  Total  Total   Total     pers   657154.0\n",
       "3823         2020  CH011  Total  Total   Total     pers   665074.0"
      ]
     },
     "execution_count": 18,
     "metadata": {},
     "output_type": "execute_result"
    }
   ],
   "source": [
    "#Data frame pour la population total de Vaud de 2010 jusqu'à  2020\n",
    "VaudTotalPopulationParAn= dfNew.loc[(df['GEO'] == 'CH011') & (df['ERWP'] == 'Total') & (df['ERWL'] == 'Total') & (df['POP1564'] == 'Total') & (df['UNIT_MEA'] == 'pers' ) ]\n",
    "VaudTotalPopulationParAn"
   ]
  },
  {
   "cell_type": "code",
   "execution_count": 19,
   "metadata": {
    "colab": {
     "base_uri": "https://localhost:8080/",
     "height": 394
    },
    "id": "1AQp6DqLsTbR",
    "outputId": "06b20d7c-effe-4005-bea3-8661541f8264"
   },
   "outputs": [
    {
     "data": {
      "text/html": [
       "<div>\n",
       "<style scoped>\n",
       "    .dataframe tbody tr th:only-of-type {\n",
       "        vertical-align: middle;\n",
       "    }\n",
       "\n",
       "    .dataframe tbody tr th {\n",
       "        vertical-align: top;\n",
       "    }\n",
       "\n",
       "    .dataframe thead th {\n",
       "        text-align: right;\n",
       "    }\n",
       "</style>\n",
       "<table border=\"1\" class=\"dataframe\">\n",
       "  <thead>\n",
       "    <tr style=\"text-align: right;\">\n",
       "      <th></th>\n",
       "      <th>TIME_PERIOD</th>\n",
       "      <th>GEO</th>\n",
       "      <th>ERWP</th>\n",
       "      <th>ERWL</th>\n",
       "      <th>POP1564</th>\n",
       "      <th>UNIT_MEA</th>\n",
       "      <th>OBS_VALUE</th>\n",
       "    </tr>\n",
       "  </thead>\n",
       "  <tbody>\n",
       "    <tr>\n",
       "      <th>280</th>\n",
       "      <td>2010</td>\n",
       "      <td>CH011</td>\n",
       "      <td>Total</td>\n",
       "      <td>1</td>\n",
       "      <td>1</td>\n",
       "      <td>pers</td>\n",
       "      <td>25084.0</td>\n",
       "    </tr>\n",
       "    <tr>\n",
       "      <th>658</th>\n",
       "      <td>2011</td>\n",
       "      <td>CH011</td>\n",
       "      <td>Total</td>\n",
       "      <td>1</td>\n",
       "      <td>1</td>\n",
       "      <td>pers</td>\n",
       "      <td>25328.0</td>\n",
       "    </tr>\n",
       "    <tr>\n",
       "      <th>1036</th>\n",
       "      <td>2012</td>\n",
       "      <td>CH011</td>\n",
       "      <td>Total</td>\n",
       "      <td>1</td>\n",
       "      <td>1</td>\n",
       "      <td>pers</td>\n",
       "      <td>28105.0</td>\n",
       "    </tr>\n",
       "    <tr>\n",
       "      <th>1414</th>\n",
       "      <td>2013</td>\n",
       "      <td>CH011</td>\n",
       "      <td>Total</td>\n",
       "      <td>1</td>\n",
       "      <td>1</td>\n",
       "      <td>pers</td>\n",
       "      <td>28392.0</td>\n",
       "    </tr>\n",
       "    <tr>\n",
       "      <th>1792</th>\n",
       "      <td>2014</td>\n",
       "      <td>CH011</td>\n",
       "      <td>Total</td>\n",
       "      <td>1</td>\n",
       "      <td>1</td>\n",
       "      <td>pers</td>\n",
       "      <td>29344.0</td>\n",
       "    </tr>\n",
       "    <tr>\n",
       "      <th>2170</th>\n",
       "      <td>2015</td>\n",
       "      <td>CH011</td>\n",
       "      <td>Total</td>\n",
       "      <td>1</td>\n",
       "      <td>1</td>\n",
       "      <td>pers</td>\n",
       "      <td>30497.0</td>\n",
       "    </tr>\n",
       "    <tr>\n",
       "      <th>2548</th>\n",
       "      <td>2016</td>\n",
       "      <td>CH011</td>\n",
       "      <td>Total</td>\n",
       "      <td>1</td>\n",
       "      <td>1</td>\n",
       "      <td>pers</td>\n",
       "      <td>32235.0</td>\n",
       "    </tr>\n",
       "    <tr>\n",
       "      <th>2926</th>\n",
       "      <td>2017</td>\n",
       "      <td>CH011</td>\n",
       "      <td>Total</td>\n",
       "      <td>1</td>\n",
       "      <td>1</td>\n",
       "      <td>pers</td>\n",
       "      <td>31645.0</td>\n",
       "    </tr>\n",
       "    <tr>\n",
       "      <th>3304</th>\n",
       "      <td>2018</td>\n",
       "      <td>CH011</td>\n",
       "      <td>Total</td>\n",
       "      <td>1</td>\n",
       "      <td>1</td>\n",
       "      <td>pers</td>\n",
       "      <td>31199.0</td>\n",
       "    </tr>\n",
       "    <tr>\n",
       "      <th>3682</th>\n",
       "      <td>2019</td>\n",
       "      <td>CH011</td>\n",
       "      <td>Total</td>\n",
       "      <td>1</td>\n",
       "      <td>1</td>\n",
       "      <td>pers</td>\n",
       "      <td>31063.0</td>\n",
       "    </tr>\n",
       "    <tr>\n",
       "      <th>4060</th>\n",
       "      <td>2020</td>\n",
       "      <td>CH011</td>\n",
       "      <td>Total</td>\n",
       "      <td>1</td>\n",
       "      <td>1</td>\n",
       "      <td>pers</td>\n",
       "      <td>34851.0</td>\n",
       "    </tr>\n",
       "  </tbody>\n",
       "</table>\n",
       "</div>"
      ],
      "text/plain": [
       "      TIME_PERIOD    GEO   ERWP ERWL POP1564 UNIT_MEA  OBS_VALUE\n",
       "280          2010  CH011  Total    1       1     pers    25084.0\n",
       "658          2011  CH011  Total    1       1     pers    25328.0\n",
       "1036         2012  CH011  Total    1       1     pers    28105.0\n",
       "1414         2013  CH011  Total    1       1     pers    28392.0\n",
       "1792         2014  CH011  Total    1       1     pers    29344.0\n",
       "2170         2015  CH011  Total    1       1     pers    30497.0\n",
       "2548         2016  CH011  Total    1       1     pers    32235.0\n",
       "2926         2017  CH011  Total    1       1     pers    31645.0\n",
       "3304         2018  CH011  Total    1       1     pers    31199.0\n",
       "3682         2019  CH011  Total    1       1     pers    31063.0\n",
       "4060         2020  CH011  Total    1       1     pers    34851.0"
      ]
     },
     "execution_count": 19,
     "metadata": {},
     "output_type": "execute_result"
    }
   ],
   "source": [
    "#Data frame pour le total des chomeurs de Vaud de 2010 jusqu'à  2020\n",
    "VaudTotalChomageParAn = dfNew.loc[(df['GEO'] == 'CH011') & (df['ERWP'] == 'Total') & (df['ERWL'] == '1') & (df['POP1564'] == '1') & (df['UNIT_MEA'] == 'pers' ) ]\n",
    "VaudTotalChomageParAn"
   ]
  },
  {
   "cell_type": "code",
   "execution_count": 20,
   "metadata": {
    "id": "pCytGhRxvJGs"
   },
   "outputs": [],
   "source": [
    "#liste contient les valeur de l'observation ( nombre de chomeurs)\n",
    "ChommageValue = VaudTotalChomageParAn['OBS_VALUE'].tolist()\n",
    "#liste contient les valeur de l'observation ( nombre de population)\n",
    "populationValue = VaudTotalPopulationParAn['OBS_VALUE']\n",
    "#liste contient les années\n",
    "annee  = VaudTotalPopulationParAn.TIME_PERIOD\n"
   ]
  },
  {
   "cell_type": "code",
   "execution_count": 21,
   "metadata": {
    "colab": {
     "base_uri": "https://localhost:8080/",
     "height": 412
    },
    "id": "65edOvzRvudq",
    "outputId": "ac31c96d-014e-4fdf-d82a-ca2326726163"
   },
   "outputs": [
    {
     "data": {
      "text/html": [
       "<div>\n",
       "<style scoped>\n",
       "    .dataframe tbody tr th:only-of-type {\n",
       "        vertical-align: middle;\n",
       "    }\n",
       "\n",
       "    .dataframe tbody tr th {\n",
       "        vertical-align: top;\n",
       "    }\n",
       "\n",
       "    .dataframe thead th {\n",
       "        text-align: right;\n",
       "    }\n",
       "</style>\n",
       "<table border=\"1\" class=\"dataframe\">\n",
       "  <thead>\n",
       "    <tr style=\"text-align: right;\">\n",
       "      <th></th>\n",
       "      <th>annee</th>\n",
       "      <th>population</th>\n",
       "      <th>chomage</th>\n",
       "    </tr>\n",
       "  </thead>\n",
       "  <tbody>\n",
       "    <tr>\n",
       "      <th>43</th>\n",
       "      <td>2010</td>\n",
       "      <td>573030.0</td>\n",
       "      <td>25084.0</td>\n",
       "    </tr>\n",
       "    <tr>\n",
       "      <th>421</th>\n",
       "      <td>2011</td>\n",
       "      <td>585680.0</td>\n",
       "      <td>25328.0</td>\n",
       "    </tr>\n",
       "    <tr>\n",
       "      <th>799</th>\n",
       "      <td>2012</td>\n",
       "      <td>596537.0</td>\n",
       "      <td>28105.0</td>\n",
       "    </tr>\n",
       "    <tr>\n",
       "      <th>1177</th>\n",
       "      <td>2013</td>\n",
       "      <td>608946.0</td>\n",
       "      <td>28392.0</td>\n",
       "    </tr>\n",
       "    <tr>\n",
       "      <th>1555</th>\n",
       "      <td>2014</td>\n",
       "      <td>619668.0</td>\n",
       "      <td>29344.0</td>\n",
       "    </tr>\n",
       "    <tr>\n",
       "      <th>1933</th>\n",
       "      <td>2015</td>\n",
       "      <td>630312.0</td>\n",
       "      <td>30497.0</td>\n",
       "    </tr>\n",
       "    <tr>\n",
       "      <th>2311</th>\n",
       "      <td>2016</td>\n",
       "      <td>640606.0</td>\n",
       "      <td>32235.0</td>\n",
       "    </tr>\n",
       "    <tr>\n",
       "      <th>2689</th>\n",
       "      <td>2017</td>\n",
       "      <td>647327.0</td>\n",
       "      <td>31645.0</td>\n",
       "    </tr>\n",
       "    <tr>\n",
       "      <th>3067</th>\n",
       "      <td>2018</td>\n",
       "      <td>652435.0</td>\n",
       "      <td>31199.0</td>\n",
       "    </tr>\n",
       "    <tr>\n",
       "      <th>3445</th>\n",
       "      <td>2019</td>\n",
       "      <td>657154.0</td>\n",
       "      <td>31063.0</td>\n",
       "    </tr>\n",
       "    <tr>\n",
       "      <th>3823</th>\n",
       "      <td>2020</td>\n",
       "      <td>665074.0</td>\n",
       "      <td>34851.0</td>\n",
       "    </tr>\n",
       "  </tbody>\n",
       "</table>\n",
       "</div>"
      ],
      "text/plain": [
       "      annee  population  chomage\n",
       "43     2010    573030.0  25084.0\n",
       "421    2011    585680.0  25328.0\n",
       "799    2012    596537.0  28105.0\n",
       "1177   2013    608946.0  28392.0\n",
       "1555   2014    619668.0  29344.0\n",
       "1933   2015    630312.0  30497.0\n",
       "2311   2016    640606.0  32235.0\n",
       "2689   2017    647327.0  31645.0\n",
       "3067   2018    652435.0  31199.0\n",
       "3445   2019    657154.0  31063.0\n",
       "3823   2020    665074.0  34851.0"
      ]
     },
     "execution_count": 21,
     "metadata": {},
     "output_type": "execute_result"
    }
   ],
   "source": [
    "# creation de nouvelle dataFrame à partir  de la liste d'années et liste de population \n",
    "stati = pd.DataFrame().assign(annee =annee, population=populationValue)\n",
    "# ajouter une colonne de liste de nombre de chomeurs\n",
    "StatData = stati.assign(chomage= ChommageValue )\n",
    "StatData\n"
   ]
  },
  {
   "cell_type": "code",
   "execution_count": 22,
   "metadata": {
    "colab": {
     "base_uri": "https://localhost:8080/",
     "height": 377
    },
    "id": "8_cbRTAqLTk6",
    "outputId": "86891f19-d26f-4c02-c527-da5fd38a6983"
   },
   "outputs": [
    {
     "data": {
      "text/plain": [
       "<matplotlib.legend.Legend at 0x2595a40e490>"
      ]
     },
     "execution_count": 22,
     "metadata": {},
     "output_type": "execute_result"
    },
    {
     "data": {
      "image/png": "[encoded data removed]",
      "text/plain": [
       "<Figure size 1296x360 with 1 Axes>"
      ]
     },
     "metadata": {
      "needs_background": "light"
     },
     "output_type": "display_data"
    }
   ],
   "source": [
    "fig, ax = plt.subplots(figsize=(18,5))\n",
    "#affichage de stats de chomage\n",
    "ax.bar(StatData.annee, StatData['chomage'], label='Personnes au chomage')\n",
    "# ajouter le graphe de toute la population\n",
    "ax.bar(StatData.annee, StatData['population'], bottom=StatData['chomage'],\n",
    "       label='reste de la population')\n",
    "ax.set_title('Chomeurs vs population vaudoise',fontsize=25)\n",
    "ax.set_xlabel('Années',fontsize=12)\n",
    "ax.set_ylabel('Nombre de personnes',fontsize=12)\n",
    "ax.legend()"
   ]
  },
  {
   "cell_type": "code",
   "execution_count": 23,
   "metadata": {
    "id": "k0Yon6jTqI4C"
   },
   "outputs": [
    {
     "data": {
      "image/png": "[encoded data removed]",
      "text/plain": [
       "<Figure size 1008x432 with 1 Axes>"
      ]
     },
     "metadata": {
      "needs_background": "light"
     },
     "output_type": "display_data"
    }
   ],
   "source": [
    "#creation de la courbe à partir des valeurs de listes année et chommageValue déjà créés\n",
    "x = annee\n",
    "y = ChommageValue\n",
    "#changer taille de figure\n",
    "plt.rcParams[\"figure.figsize\"] = (14,6)\n",
    "plt.plot(x,y,\"r-\")\n",
    "\n",
    "plt.xlabel(\"Années\",fontsize=12)\n",
    "plt.ylabel(\"Nombre de personnes\",fontsize=12)\n",
    "plt.title(\"Evolution du chomage dans le canton de Vaud\",fontsize=25)\n",
    "plt.show()"
   ]
  },
  {
   "cell_type": "code",
   "execution_count": 24,
   "metadata": {},
   "outputs": [
    {
     "name": "stderr",
     "output_type": "stream",
     "text": [
      "C:\\Users\\ilyes omri\\anaconda3\\lib\\site-packages\\pandas\\core\\frame.py:4163: SettingWithCopyWarning: \n",
      "A value is trying to be set on a copy of a slice from a DataFrame\n",
      "\n",
      "See the caveats in the documentation: https://pandas.pydata.org/pandas-docs/stable/user_guide/indexing.html#returning-a-view-versus-a-copy\n",
      "  return super().drop(\n"
     ]
    }
   ],
   "source": [
    "#supprimer les ligne qui concernent toute la Suisse , pour faciliter l'affichage de map\n",
    "dfNew.drop(dfNew[(dfNew['GEO']== 'CH') ].index, inplace=True)"
   ]
  },
  {
   "cell_type": "markdown",
   "metadata": {},
   "source": [
    "## Carte interactive de la suisse qui représente les données par canton "
   ]
  },
  {
   "cell_type": "code",
   "execution_count": 25,
   "metadata": {},
   "outputs": [],
   "source": [
    "#la liste de codes des cantons\n",
    "listOfCantons= [\n",
    "    \"kt-vd\",\n",
    "    \"kt-vs\",\n",
    "    \"kt-ge\" ,\n",
    "    \"kt-be\", \n",
    "    \"kt-fr\",\n",
    "    \"kt-so\" ,\n",
    "    \"kt-ne\" ,\n",
    "    \"kt-ju\" ,\n",
    "    \"kt-bs\",\n",
    "    \"kt-bl\" ,\n",
    "    \"kt-ag\" ,\n",
    "    \"kt-zh\" ,\n",
    "    \"kt-gl\",\n",
    "    \"kt-sh\" ,\n",
    "    \"kt-ar\",\n",
    "    \"kt-ai\" ,\n",
    "    \"kt-sg\" ,\n",
    "    \"kt-gr\",\n",
    "    \"kt-tg\",\n",
    "    \"kt-lu\" ,\n",
    "    \"kt-ur\"  ,\n",
    "    \"kt-sz\" ,\n",
    "    \"kt-ow\" ,\n",
    "    \"kt-nw\" , \n",
    "    \"kt-zg\",\n",
    "    \"kt-ti\"\n",
    "]"
   ]
  },
  {
   "cell_type": "code",
   "execution_count": 26,
   "metadata": {},
   "outputs": [],
   "source": [
    "#fonction pour generer une dataset à partir des filtres , et retourner un dictionnaire de cle : code de cantons , valeur : l'observation\n",
    "def generate_data(df,date,chomage, age , unite,keys_list):\n",
    "    new_df = df.loc[(df['TIME_PERIOD'] == date) & (df['ERWP'] == 'Total') & (df['ERWL'] == chomage) & (df['POP1564'] == age) & (df['UNIT_MEA'] == unite ) ]\n",
    "    #sort the values \n",
    "    k = new_df.sort_values(by=['GEO'])\n",
    "    #supprimer les valeurs dupliqués\n",
    "    l = k.drop_duplicates(subset=['TIME_PERIOD', 'GEO','ERWP','ERWL','POP1564','UNIT_MEA'], keep='first')\n",
    "    \n",
    "    #creer le dict \n",
    "    keys_list =listOfCantons\n",
    "    values_list = l['OBS_VALUE'].tolist()\n",
    "    zip_iterator = zip(keys_list, values_list)\n",
    "    map_dictionary = dict(zip_iterator)\n",
    "    return map_dictionary"
   ]
  },
  {
   "cell_type": "code",
   "execution_count": 27,
   "metadata": {},
   "outputs": [],
   "source": [
    "from ipywidgets import interact, interact_manual\n",
    "import IPython.display\n",
    "from IPython.display import display, clear_output\n",
    "# affichage des cartes géographiques pygal dans un notebook \n",
    "from IPython.display import display, HTML\n",
    "base_html = \"\"\"\n",
    "<!DOCTYPE html>\n",
    "<html>\n",
    "  <head>\n",
    "  <script type=\"text/javascript\" src=\"https://kozea.github.io/pygal.js/2.0.x/pygal-tooltips.min.js\"\"></script>\n",
    "  </head>\n",
    "  <body>\n",
    "    <figure>\n",
    "      {rendered_chart}\n",
    "    </figure>\n",
    "  </body>\n",
    "</html>\n",
    "\"\"\"\n",
    "\n",
    "# cette variable base_html s'utilise pour afficher une carte dans le notebook:\n",
    "# display(HTML(base_html.format(rendered_chart = ma_carte.render(is_unicode=True))))"
   ]
  },
  {
   "cell_type": "code",
   "execution_count": 28,
   "metadata": {},
   "outputs": [],
   "source": [
    "#fonction d'affichage de map\n",
    "def display_map(pers,date,chomage,age):\n",
    "    ch_chart = pygal.maps.ch.Cantons()\n",
    "    ch_chart.title = 'La suisse :'+ pers+ \"  en \"+ str(date)\n",
    "    #appel à la fonction de generation de dataframe et dictionnaire\n",
    "    ch_chart.add(pers,generate_data(dfNew,date,chomage,age,pers,listOfCantons))\n",
    "    \n",
    "    #ch_chart.render()\n",
    "\n",
    "    display(HTML(base_html.format(rendered_chart = ch_chart.render(is_unicode=True))))"
   ]
  },
  {
   "cell_type": "code",
   "execution_count": 29,
   "metadata": {},
   "outputs": [],
   "source": [
    "# creation et affichage des widgets \n",
    "def display_widgets():\n",
    "    output = widgets.Output()\n",
    "    \n",
    "    # creation widget pour la langue\n",
    "    langue = widgets.RadioButtons(\n",
    "    options=['EN', 'FR', 'DE','IT'],\n",
    "    value='FR', # Defaults to 'FR'\n",
    "    description='Langue: ',\n",
    "    disabled=False\n",
    "    )\n",
    "    \n",
    "    englishOptions = ['Other persons','Unemployed','Total','Resident permanent population of 15 to 64']\n",
    "    deutchOptions = ['Andere Personen', 'Erwerbslose', 'Total','Ständige Wohnbevölkerung von 15 und 64 Jahren']\n",
    "    italianOptions = [ 'Altre persone', 'Disoccupati', 'Totale', 'Popolazione residente permanente di 15 a 64 anni' ]\n",
    "    frenchOptions = ['Autres personnes', 'Personnes au chômage' , 'Total','Population résidente permanente de 15 à 64 ans' ]\n",
    " \n",
    "    # creation widget pour l'année\n",
    "    date = widgets.IntSlider(\n",
    "        value=2010,\n",
    "        min=2010,\n",
    "        max=2020,\n",
    "        step=1,\n",
    "        description='year:',\n",
    "        disabled=False,\n",
    "        continuous_update=False,\n",
    "        orientation='horizontal',\n",
    "        readout=True,\n",
    "        readout_format='d'\n",
    "    )\n",
    "    \n",
    "     # creation widget pour l'unité\n",
    "    pers = widgets.Dropdown(\n",
    "        options=['pers', 'pers in %'],\n",
    "        value='pers',\n",
    "        description='Unit:',\n",
    "    )\n",
    "\n",
    "     # creation widget pour la population\n",
    "    population = widgets.Dropdown(\n",
    "        options=[('Population résidente permanente de 15 à 64 ans', 0), ('Total', 1)],\n",
    "        value=0,\n",
    "        description='Population:',\n",
    "    )\n",
    "    \n",
    "     # creation widget pour le chomage\n",
    "    chomage = widgets.Dropdown(\n",
    "        options=[('Autres personnes', 0), ('Personnes au chômage', 1),('Total', 2)],\n",
    "        value=2,\n",
    "        description='Chomage:',\n",
    "    )\n",
    "    \n",
    "\n",
    "        \n",
    "\n",
    "    \n",
    "    #event handler pour modifier les labels des autres widget \n",
    "    def radio_langue_eventhandler(change):     \n",
    "        \"\"\"\n",
    "        Event handler for the langue dropdown widget\n",
    "        \"\"\"\n",
    "        global radio_input\n",
    "        \n",
    "        radio_input = change.new\n",
    "\n",
    "        if change.new=='EN':\n",
    "            chomage.options= [(englishOptions[0],0),(englishOptions[1],1),(englishOptions[2],2)]\n",
    "            population.options =[ (englishOptions[3],0),(englishOptions[2],1) ]\n",
    "        elif change.new=='DE':\n",
    "            chomage.options=[(deutchOptions[0],0) , (deutchOptions[1],1), (deutchOptions[2],2)]\n",
    "            population.options =[ (deutchOptions[3],0),(deutchOptions[2],1) ]\n",
    "        elif change.new=='IT':\n",
    "            chomage.options=[(italianOptions[0],0) , (italianOptions[1],1), (italianOptions[2],2)]\n",
    "            population.options =[ (italianOptions[3],0),(italianOptions[2],1) ]\n",
    "        else:\n",
    "            chomage.options=[(frenchOptions[0],0) , (frenchOptions[1],1), (frenchOptions[2],2)]\n",
    "            population.options =[ (frenchOptions[3],0),(frenchOptions[2],1) ]\n",
    "\n",
    "            \n",
    "            \n",
    "        display(input_widgets)\n",
    "        \n",
    "        chom =\"\"\n",
    "        if chomage.value == 0:\n",
    "            chom='0'\n",
    "        elif chomage.value == 1:\n",
    "            chom = '1'\n",
    "        else:\n",
    "            chom = 'Total'\n",
    "\n",
    "        if population.value == 0 :\n",
    "            display_map(pers.value,date.value,chom,\"1\")\n",
    "\n",
    "        else:\n",
    "            display_map(pers.value,date.value,chom,\"Total\")\n",
    "        IPython.display.clear_output(wait=True)\n",
    "        \n",
    "\n",
    "\n",
    "    def slider_year_eventhandler(change):     \n",
    "        \"\"\"\n",
    "        Event handler for the year dropdown widget\n",
    "        \"\"\"\n",
    "\n",
    "        display(input_widgets)\n",
    "        chom =\"\"\n",
    "        if chomage.value == 0:\n",
    "            chom='0'\n",
    "        elif chomage.value == 1:\n",
    "            chom = '1'\n",
    "        else:\n",
    "            chom = 'Total'\n",
    "        if population.value == 0 :\n",
    "            display_map(pers.value,date.value,chom,\"1\")\n",
    "        else:\n",
    "            display_map(pers.value,date.value,chom,\"Total\")\n",
    "        \n",
    "        IPython.display.clear_output(wait=True)\n",
    "        \n",
    "        \n",
    "    def dropdown_pers_eventhandler(change):     \n",
    "        \"\"\"\n",
    "        Event handler for the pers dropdown widget\n",
    "        \"\"\"\n",
    "\n",
    "        \n",
    "        display(input_widgets)\n",
    "        chom =\"\"\n",
    "        if chomage.value == 0:\n",
    "            chom='0'\n",
    "        elif chomage.value == 1:\n",
    "            chom = '1'\n",
    "        else:\n",
    "            chom = 'Total'\n",
    "        if population.value == 0 :\n",
    "            display_map(pers.value,date.value,chom,\"1\")\n",
    "\n",
    "        else:\n",
    "            display_map(pers.value,date.value,chom,\"Total\")\n",
    "       \n",
    "        IPython.display.clear_output(wait=True)\n",
    "        \n",
    "    \n",
    "    def dropdown_population_eventhandler(change):     \n",
    "        \"\"\"\n",
    "        Event handler for the population dropdown widget\n",
    "        \"\"\"\n",
    "        display(input_widgets)\n",
    "        chom =\"\"\n",
    "        if chomage.value == 0:\n",
    "            chom='0'\n",
    "        elif chomage.value == 1:\n",
    "            chom = '1'\n",
    "        else:\n",
    "            chom = 'Total'\n",
    "\n",
    "    \n",
    "        if population.value == 0 :\n",
    "            display_map(pers.value,date.value,chom,\"1\")\n",
    "        else:\n",
    "            display_map(\"pers in %\",date.value,chom,\"Total\")\n",
    "        \n",
    "        IPython.display.clear_output(wait=True)\n",
    "        \n",
    "        \n",
    "    def dropdown_chomage_eventhandler(change):     \n",
    "        \"\"\"\n",
    "        Event handler for the chomage dropdown widget\n",
    "        \"\"\"\n",
    "        display(input_widgets)\n",
    "        chom =\"\"\n",
    "        if chomage.value == 0:\n",
    "            chom='0'\n",
    "        elif chomage.value == 1:\n",
    "            chom = '1'\n",
    "        else:\n",
    "            chom = 'Total'\n",
    "            \n",
    "\n",
    "        if population.value == 0 :\n",
    "            display_map(pers.value,date.value,chom,\"1\")\n",
    "\n",
    "        else:\n",
    "            display_map(pers.value,date.value,chom,\"Total\")\n",
    "        \n",
    "        IPython.display.clear_output(wait=True)\n",
    "        \n",
    "        \n",
    "\n",
    "     \n",
    "    #observer toute les modifications faites au niveau des widgets\n",
    "    langue.observe(radio_langue_eventhandler, names='value') \n",
    "    date.observe(slider_year_eventhandler, names='value')\n",
    "    pers.observe(dropdown_pers_eventhandler, names='value')\n",
    "    chomage.observe(dropdown_chomage_eventhandler, names='value')\n",
    "    population.observe(dropdown_population_eventhandler, names='value')\n",
    "    \n",
    "    interact( population = population, chomage = chomage, langue = langue)\n",
    "    \n",
    "    input_widgets = widgets.VBox([langue,date,pers,population,chomage])\n",
    "    display(input_widgets)\n",
    "    \n",
    "    chom =\"\"\n",
    "    if chomage.value == 0:\n",
    "        chom='0'\n",
    "    elif chomage.value == 1:\n",
    "        chom = '1'\n",
    "    else:\n",
    "        chom = 'Total'\n",
    "\n",
    "\n",
    "    if population.value == 0 :\n",
    "        display_map(pers.value,date.value,chom,\"1\")\n",
    "\n",
    "    else:\n",
    "        display_map(pers.value,date.value,chom,\"Total\")\n",
    "    \n",
    "    IPython.display.clear_output(wait=True)  "
   ]
  },
  {
   "cell_type": "code",
   "execution_count": 30,
   "metadata": {},
   "outputs": [
    {
     "data": {
      "application/vnd.jupyter.widget-view+json": {
       "model_id": "15a192947242421bbfb06999537428da",
       "version_major": 2,
       "version_minor": 0
      },
      "text/plain": [
       "VBox(children=(RadioButtons(description='Langue: ', index=1, options=('EN', 'FR', 'DE', 'IT'), value='FR'), In…"
      ]
     },
     "metadata": {},
     "output_type": "display_data"
    },
    {
     "data": {
      "text/html": [
       "\n",
       "<!DOCTYPE html>\n",
       "<html>\n",
       "  <head>\n",
       "  <script type=\"text/javascript\" src=\"https://kozea.github.io/pygal.js/2.0.x/pygal-tooltips.min.js\"\"></script>\n",
       "  </head>\n",
       "  <body>\n",
       "    <figure>\n",
       "      <?xml version='1.0' encoding='utf-8'?>\n",
       "<svg xmlns=\"http://www.w3.org/2000/svg\" xmlns:xlink=\"http://www.w3.org/1999/xlink\" id=\"chart-6c85f60a-dacd-4337-a83a-b1974ad8f27f\" class=\"pygal-chart\" viewBox=\"0 0 800 600\"><!--Generated with pygal 3.0.0 (lxml) ©Kozea 2012-2016 on 2023-02-10--><!--http://pygal.org--><!--http://github.com/Kozea/pygal--><defs><style type=\"text/css\">#chart-6c85f60a-dacd-4337-a83a-b1974ad8f27f{-webkit-user-select:none;-webkit-font-smoothing:antialiased;font-family:Consolas,\"Liberation Mono\",Menlo,Courier,monospace}#chart-6c85f60a-dacd-4337-a83a-b1974ad8f27f .title{font-family:Consolas,\"Liberation Mono\",Menlo,Courier,monospace;font-size:16px}#chart-6c85f60a-dacd-4337-a83a-b1974ad8f27f .legends .legend text{font-family:Consolas,\"Liberation Mono\",Menlo,Courier,monospace;font-size:14px}#chart-6c85f60a-dacd-4337-a83a-b1974ad8f27f .axis text{font-family:Consolas,\"Liberation Mono\",Menlo,Courier,monospace;font-size:10px}#chart-6c85f60a-dacd-4337-a83a-b1974ad8f27f .axis text.major{font-family:Consolas,\"Liberation Mono\",Menlo,Courier,monospace;font-size:10px}#chart-6c85f60a-dacd-4337-a83a-b1974ad8f27f .text-overlay text.value{font-family:Consolas,\"Liberation Mono\",Menlo,Courier,monospace;font-size:16px}#chart-6c85f60a-dacd-4337-a83a-b1974ad8f27f .text-overlay text.label{font-family:Consolas,\"Liberation Mono\",Menlo,Courier,monospace;font-size:10px}#chart-6c85f60a-dacd-4337-a83a-b1974ad8f27f .tooltip{font-family:Consolas,\"Liberation Mono\",Menlo,Courier,monospace;font-size:14px}#chart-6c85f60a-dacd-4337-a83a-b1974ad8f27f text.no_data{font-family:Consolas,\"Liberation Mono\",Menlo,Courier,monospace;font-size:64px}\n",
       "#chart-6c85f60a-dacd-4337-a83a-b1974ad8f27f{background-color:rgba(249,249,249,1)}#chart-6c85f60a-dacd-4337-a83a-b1974ad8f27f path,#chart-6c85f60a-dacd-4337-a83a-b1974ad8f27f line,#chart-6c85f60a-dacd-4337-a83a-b1974ad8f27f rect,#chart-6c85f60a-dacd-4337-a83a-b1974ad8f27f circle{-webkit-transition:150ms;-moz-transition:150ms;transition:150ms}#chart-6c85f60a-dacd-4337-a83a-b1974ad8f27f .graph &gt; .background{fill:rgba(249,249,249,1)}#chart-6c85f60a-dacd-4337-a83a-b1974ad8f27f .plot &gt; .background{fill:rgba(255,255,255,1)}#chart-6c85f60a-dacd-4337-a83a-b1974ad8f27f .graph{fill:rgba(0,0,0,.87)}#chart-6c85f60a-dacd-4337-a83a-b1974ad8f27f text.no_data{fill:rgba(0,0,0,1)}#chart-6c85f60a-dacd-4337-a83a-b1974ad8f27f .title{fill:rgba(0,0,0,1)}#chart-6c85f60a-dacd-4337-a83a-b1974ad8f27f .legends .legend text{fill:rgba(0,0,0,.87)}#chart-6c85f60a-dacd-4337-a83a-b1974ad8f27f .legends .legend:hover text{fill:rgba(0,0,0,1)}#chart-6c85f60a-dacd-4337-a83a-b1974ad8f27f .axis .line{stroke:rgba(0,0,0,1)}#chart-6c85f60a-dacd-4337-a83a-b1974ad8f27f .axis .guide.line{stroke:rgba(0,0,0,.54)}#chart-6c85f60a-dacd-4337-a83a-b1974ad8f27f .axis .major.line{stroke:rgba(0,0,0,.87)}#chart-6c85f60a-dacd-4337-a83a-b1974ad8f27f .axis text.major{fill:rgba(0,0,0,1)}#chart-6c85f60a-dacd-4337-a83a-b1974ad8f27f .axis.y .guides:hover .guide.line,#chart-6c85f60a-dacd-4337-a83a-b1974ad8f27f .line-graph .axis.x .guides:hover .guide.line,#chart-6c85f60a-dacd-4337-a83a-b1974ad8f27f .stackedline-graph .axis.x .guides:hover .guide.line,#chart-6c85f60a-dacd-4337-a83a-b1974ad8f27f .xy-graph .axis.x .guides:hover .guide.line{stroke:rgba(0,0,0,1)}#chart-6c85f60a-dacd-4337-a83a-b1974ad8f27f .axis .guides:hover text{fill:rgba(0,0,0,1)}#chart-6c85f60a-dacd-4337-a83a-b1974ad8f27f .reactive{fill-opacity:.7;stroke-opacity:.8;stroke-width:1}#chart-6c85f60a-dacd-4337-a83a-b1974ad8f27f .ci{stroke:rgba(0,0,0,.87)}#chart-6c85f60a-dacd-4337-a83a-b1974ad8f27f .reactive.active,#chart-6c85f60a-dacd-4337-a83a-b1974ad8f27f .active .reactive{fill-opacity:.8;stroke-opacity:.9;stroke-width:4}#chart-6c85f60a-dacd-4337-a83a-b1974ad8f27f .ci .reactive.active{stroke-width:1.5}#chart-6c85f60a-dacd-4337-a83a-b1974ad8f27f .series text{fill:rgba(0,0,0,1)}#chart-6c85f60a-dacd-4337-a83a-b1974ad8f27f .tooltip rect{fill:rgba(255,255,255,1);stroke:rgba(0,0,0,1);-webkit-transition:opacity 150ms;-moz-transition:opacity 150ms;transition:opacity 150ms}#chart-6c85f60a-dacd-4337-a83a-b1974ad8f27f .tooltip .label{fill:rgba(0,0,0,.87)}#chart-6c85f60a-dacd-4337-a83a-b1974ad8f27f .tooltip .label{fill:rgba(0,0,0,.87)}#chart-6c85f60a-dacd-4337-a83a-b1974ad8f27f .tooltip .legend{font-size:.8em;fill:rgba(0,0,0,.54)}#chart-6c85f60a-dacd-4337-a83a-b1974ad8f27f .tooltip .x_label{font-size:.6em;fill:rgba(0,0,0,1)}#chart-6c85f60a-dacd-4337-a83a-b1974ad8f27f .tooltip .xlink{font-size:.5em;text-decoration:underline}#chart-6c85f60a-dacd-4337-a83a-b1974ad8f27f .tooltip .value{font-size:1.5em}#chart-6c85f60a-dacd-4337-a83a-b1974ad8f27f .bound{font-size:.5em}#chart-6c85f60a-dacd-4337-a83a-b1974ad8f27f .max-value{font-size:.75em;fill:rgba(0,0,0,.54)}#chart-6c85f60a-dacd-4337-a83a-b1974ad8f27f .map-element{fill:rgba(255,255,255,1);stroke:rgba(0,0,0,.54) !important}#chart-6c85f60a-dacd-4337-a83a-b1974ad8f27f .map-element .reactive{fill-opacity:inherit;stroke-opacity:inherit}#chart-6c85f60a-dacd-4337-a83a-b1974ad8f27f .color-0,#chart-6c85f60a-dacd-4337-a83a-b1974ad8f27f .color-0 a:visited{stroke:#F44336;fill:#F44336}#chart-6c85f60a-dacd-4337-a83a-b1974ad8f27f .text-overlay .color-0 text{fill:black}\n",
       "#chart-6c85f60a-dacd-4337-a83a-b1974ad8f27f text.no_data{text-anchor:middle}#chart-6c85f60a-dacd-4337-a83a-b1974ad8f27f .guide.line{fill:none}#chart-6c85f60a-dacd-4337-a83a-b1974ad8f27f .centered{text-anchor:middle}#chart-6c85f60a-dacd-4337-a83a-b1974ad8f27f .title{text-anchor:middle}#chart-6c85f60a-dacd-4337-a83a-b1974ad8f27f .legends .legend text{fill-opacity:1}#chart-6c85f60a-dacd-4337-a83a-b1974ad8f27f .axis.x text{text-anchor:middle}#chart-6c85f60a-dacd-4337-a83a-b1974ad8f27f .axis.x:not(.web) text[transform]{text-anchor:start}#chart-6c85f60a-dacd-4337-a83a-b1974ad8f27f .axis.x:not(.web) text[transform].backwards{text-anchor:end}#chart-6c85f60a-dacd-4337-a83a-b1974ad8f27f .axis.y text{text-anchor:end}#chart-6c85f60a-dacd-4337-a83a-b1974ad8f27f .axis.y text[transform].backwards{text-anchor:start}#chart-6c85f60a-dacd-4337-a83a-b1974ad8f27f .axis.y2 text{text-anchor:start}#chart-6c85f60a-dacd-4337-a83a-b1974ad8f27f .axis.y2 text[transform].backwards{text-anchor:end}#chart-6c85f60a-dacd-4337-a83a-b1974ad8f27f .axis .guide.line{stroke-dasharray:4,4;stroke:black}#chart-6c85f60a-dacd-4337-a83a-b1974ad8f27f .axis .major.guide.line{stroke-dasharray:6,6;stroke:black}#chart-6c85f60a-dacd-4337-a83a-b1974ad8f27f .horizontal .axis.y .guide.line,#chart-6c85f60a-dacd-4337-a83a-b1974ad8f27f .horizontal .axis.y2 .guide.line,#chart-6c85f60a-dacd-4337-a83a-b1974ad8f27f .vertical .axis.x .guide.line{opacity:0}#chart-6c85f60a-dacd-4337-a83a-b1974ad8f27f .horizontal .axis.always_show .guide.line,#chart-6c85f60a-dacd-4337-a83a-b1974ad8f27f .vertical .axis.always_show .guide.line{opacity:1 !important}#chart-6c85f60a-dacd-4337-a83a-b1974ad8f27f .axis.y .guides:hover .guide.line,#chart-6c85f60a-dacd-4337-a83a-b1974ad8f27f .axis.y2 .guides:hover .guide.line,#chart-6c85f60a-dacd-4337-a83a-b1974ad8f27f .axis.x .guides:hover .guide.line{opacity:1}#chart-6c85f60a-dacd-4337-a83a-b1974ad8f27f .axis .guides:hover text{opacity:1}#chart-6c85f60a-dacd-4337-a83a-b1974ad8f27f .nofill{fill:none}#chart-6c85f60a-dacd-4337-a83a-b1974ad8f27f .subtle-fill{fill-opacity:.2}#chart-6c85f60a-dacd-4337-a83a-b1974ad8f27f .dot{stroke-width:1px;fill-opacity:1;stroke-opacity:1}#chart-6c85f60a-dacd-4337-a83a-b1974ad8f27f .dot.active{stroke-width:5px}#chart-6c85f60a-dacd-4337-a83a-b1974ad8f27f .dot.negative{fill:transparent}#chart-6c85f60a-dacd-4337-a83a-b1974ad8f27f text,#chart-6c85f60a-dacd-4337-a83a-b1974ad8f27f tspan{stroke:none !important}#chart-6c85f60a-dacd-4337-a83a-b1974ad8f27f .series text.active{opacity:1}#chart-6c85f60a-dacd-4337-a83a-b1974ad8f27f .tooltip rect{fill-opacity:.95;stroke-width:.5}#chart-6c85f60a-dacd-4337-a83a-b1974ad8f27f .tooltip text{fill-opacity:1}#chart-6c85f60a-dacd-4337-a83a-b1974ad8f27f .showable{visibility:hidden}#chart-6c85f60a-dacd-4337-a83a-b1974ad8f27f .showable.shown{visibility:visible}#chart-6c85f60a-dacd-4337-a83a-b1974ad8f27f .gauge-background{fill:rgba(229,229,229,1);stroke:none}#chart-6c85f60a-dacd-4337-a83a-b1974ad8f27f .bg-lines{stroke:rgba(249,249,249,1);stroke-width:2px}</style><script type=\"text/javascript\">window.pygal = window.pygal || {};window.pygal.config = window.pygal.config || {};window.pygal.config['6c85f60a-dacd-4337-a83a-b1974ad8f27f'] = {\"allow_interruptions\": false, \"box_mode\": \"extremes\", \"classes\": [\"pygal-chart\"], \"css\": [\"file://style.css\", \"file://graph.css\"], \"defs\": [], \"disable_xml_declaration\": false, \"dots_size\": 2.5, \"dynamic_print_values\": false, \"explicit_size\": false, \"fill\": false, \"force_uri_protocol\": \"https\", \"formatter\": null, \"half_pie\": false, \"height\": 600, \"include_x_axis\": false, \"inner_radius\": 0, \"interpolate\": null, \"interpolation_parameters\": {}, \"interpolation_precision\": 250, \"inverse_y_axis\": false, \"js\": [\"//kozea.github.io/pygal.js/2.0.x/pygal-tooltips.min.js\"], \"legend_at_bottom\": false, \"legend_at_bottom_columns\": null, \"legend_box_size\": 12, \"logarithmic\": false, \"margin\": 20, \"margin_bottom\": null, \"margin_left\": null, \"margin_right\": null, \"margin_top\": null, \"max_scale\": 16, \"min_scale\": 4, \"missing_value_fill_truncation\": \"x\", \"no_data_text\": \"No data\", \"no_prefix\": false, \"order_min\": null, \"pretty_print\": false, \"print_labels\": false, \"print_values\": false, \"print_values_position\": \"center\", \"print_zeroes\": true, \"range\": null, \"rounded_bars\": null, \"secondary_range\": null, \"show_dots\": true, \"show_legend\": true, \"show_minor_x_labels\": true, \"show_minor_y_labels\": true, \"show_only_major_dots\": false, \"show_x_guides\": false, \"show_x_labels\": true, \"show_y_guides\": true, \"show_y_labels\": true, \"spacing\": 10, \"stack_from_top\": false, \"strict\": false, \"stroke\": true, \"stroke_style\": null, \"style\": {\"background\": \"rgba(249, 249, 249, 1)\", \"ci_colors\": [], \"colors\": [\"#F44336\", \"#3F51B5\", \"#009688\", \"#FFC107\", \"#FF5722\", \"#9C27B0\", \"#03A9F4\", \"#8BC34A\", \"#FF9800\", \"#E91E63\", \"#2196F3\", \"#4CAF50\", \"#FFEB3B\", \"#673AB7\", \"#00BCD4\", \"#CDDC39\", \"#9E9E9E\", \"#607D8B\"], \"dot_opacity\": \"1\", \"font_family\": \"Consolas, \\\"Liberation Mono\\\", Menlo, Courier, monospace\", \"foreground\": \"rgba(0, 0, 0, .87)\", \"foreground_strong\": \"rgba(0, 0, 0, 1)\", \"foreground_subtle\": \"rgba(0, 0, 0, .54)\", \"guide_stroke_color\": \"black\", \"guide_stroke_dasharray\": \"4,4\", \"label_font_family\": \"Consolas, \\\"Liberation Mono\\\", Menlo, Courier, monospace\", \"label_font_size\": 10, \"legend_font_family\": \"Consolas, \\\"Liberation Mono\\\", Menlo, Courier, monospace\", \"legend_font_size\": 14, \"major_guide_stroke_color\": \"black\", \"major_guide_stroke_dasharray\": \"6,6\", \"major_label_font_family\": \"Consolas, \\\"Liberation Mono\\\", Menlo, Courier, monospace\", \"major_label_font_size\": 10, \"no_data_font_family\": \"Consolas, \\\"Liberation Mono\\\", Menlo, Courier, monospace\", \"no_data_font_size\": 64, \"opacity\": \".7\", \"opacity_hover\": \".8\", \"plot_background\": \"rgba(255, 255, 255, 1)\", \"stroke_opacity\": \".8\", \"stroke_opacity_hover\": \".9\", \"stroke_width\": \"1\", \"stroke_width_hover\": \"4\", \"title_font_family\": \"Consolas, \\\"Liberation Mono\\\", Menlo, Courier, monospace\", \"title_font_size\": 16, \"tooltip_font_family\": \"Consolas, \\\"Liberation Mono\\\", Menlo, Courier, monospace\", \"tooltip_font_size\": 14, \"transition\": \"150ms\", \"value_background\": \"rgba(229, 229, 229, 1)\", \"value_colors\": [], \"value_font_family\": \"Consolas, \\\"Liberation Mono\\\", Menlo, Courier, monospace\", \"value_font_size\": 16, \"value_label_font_family\": \"Consolas, \\\"Liberation Mono\\\", Menlo, Courier, monospace\", \"value_label_font_size\": 10}, \"title\": \"La suisse :pers  en 2010\", \"tooltip_border_radius\": 0, \"tooltip_fancy_mode\": true, \"truncate_label\": null, \"truncate_legend\": null, \"width\": 800, \"x_label_rotation\": 0, \"x_labels\": [\"kt-zh\", \"kt-be\", \"kt-lu\", \"kt-ju\", \"kt-ur\", \"kt-sz\", \"kt-ow\", \"kt-nw\", \"kt-gl\", \"kt-zg\", \"kt-fr\", \"kt-so\", \"kt-bl\", \"kt-bs\", \"kt-sh\", \"kt-ar\", \"kt-ai\", \"kt-sg\", \"kt-gr\", \"kt-ag\", \"kt-tg\", \"kt-ti\", \"kt-vd\", \"kt-vs\", \"kt-ne\", \"kt-ge\"], \"x_labels_major\": null, \"x_labels_major_count\": null, \"x_labels_major_every\": null, \"x_title\": null, \"xrange\": null, \"y_label_rotation\": 0, \"y_labels\": null, \"y_labels_major\": null, \"y_labels_major_count\": null, \"y_labels_major_every\": null, \"y_title\": null, \"zero\": 1, \"legends\": [\"pers\"]}</script><script type=\"text/javascript\" xlink:href=\"https://kozea.github.io/pygal.js/2.0.x/pygal-tooltips.min.js\"/></defs><title>La suisse :pers  en 2010</title><g class=\"graph cantons-graph vertical\"><rect x=\"0\" y=\"0\" width=\"800\" height=\"600\" class=\"background\"/><g transform=\"translate(75, 46)\" class=\"plot\"><rect x=\"0\" y=\"0\" width=\"704.4\" height=\"534\" class=\"background\"/><svg version=\"1.1\" viewBox=\"0 0 696 534\" width=\"704.4\" height=\"534\">\n",
       "  <g id=\"cantons\" transform=\"translate(-265.0,-825.0) matrix(0.53050535,0,0,0.53379421,130.8741,392.31231)\">\n",
       "    <g class=\"zkt-zh canton map-element color-0 serie-0 series\" style=\"fill-opacity: 1.000000\"><path d=\"m 950.10063,1055.077 0,-1.8258 c 0,0 -0.75,-2.1909 -0.75,-3.4081 0,-1.2172 -1,-3.1647 -1,-3.1647 l -0.5,-5.1122 -3.75,-3.6516 4,0.7303 1.75,-1.9475 2.75,0.2434 1.5,-2.4344 2.25,-0.7303 0.25,-3.4081 c 0,0 1.25,-2.191 2.25,-2.9213 1,-0.7303 2.5,-2.1909 3.25,-3.1647 0.75,-0.9737 0.75,-3.895 0.75,-3.895 0,0 -2,2.1909 -4,2.4344 -2,0.2434 -4.5,0.9737 -5.5,1.2172 -1,0.2434 -3,0 -2,-1.9475 1,-1.9475 1.5,-2.6779 0,-4.1385 -1.5,-1.4606 -2.25,-1.7041 -1.75,-3.6516 0.5,-1.9475 0.75,-3.895 0.75,-3.895 l -0.5,-3.6516 -3.25,-3.895 -0.25,-6.32941 -2.75,-0.4869 -1,-1.704 -3.75,0 0,-2.191 3.5,-0.4869 0.75,-3.6515 1,-1.7041 1.25,-2.4344 -4.25,-1.4606 2.25,-3.1647 -0.75,-3.1647 1.5,-2.191 -1,-3.4081 -3,-0.4869 -1.25,-3.895 2.25,-1.2172 -0.5,-3.6516 -2.75,0.2435 -0.75,-5.5991 1,-1.9475 -1.25,-2.6779 1.5,-2.6778 4,0 0.5,-3.1647 1.25,-2.9212 2.75,1.704 0.75,-3.1647 1.75,-0.4869 0,-3.1647 2.25,-1.9475 1.75,-0.7303 -0.75,-2.9212 0.75,-2.9213 1.25,-2.6778 1.6133,-3.1761 3e-4,0 0.252,0.078 0.7519,-0.061 2.0806,-1.0752 3.0454,-0.2813 4.8438,-1.2058 3.2661,-0.9595 0.7309,-0.2106 1.9268,-0.5694 -0.9463,-1.2212 -4.9253,1.3701 -2.7231,-4.3646 3.4267,-2.0552 2.1109,-4.0217 7.2964,-1.7131 2.1108,-3.083 1.4068,-2.6516 4.8339,0.2539 0.7041,2.3977 3.4263,0.3426 4.5737,4.1107 -3.3062,5.6322 -1.8985,2.8917 -3.4268,1.3703 -0.7036,3.4255 1.7588,2.0552 3.0752,6.0774 1.416,-1.1268 0.25,-2.9213 0.5,-1.7041 2.5,-2.9212 1.75,-3.4082 0.75,-1.9475 0.2795,0.2051 1.2251,-1.3959 0.1621,-1.8634 2.18997,-3.9616 0.3882,-1.6926 -2.32037,-9.1263 1.05767,-4.1742 4.7417,-3.6815 -1.4062,-3.4141 -0.049,-0.6238 -0.082,-0.9671 -10e-5,-10e-5 1.0928,-1.4768 1,-2.5561 2,-1.9475 0.875,-4.1385 2.125,-1.8258 4.375,0.1218 2.875,0.852 3.75,3.895 1.625,-0.4868 -1.375,6.0859 3,1.9476 0.5,4.8687 2,3.6516 3.75,0.9738 1.25,1.704 3.5,0.4869 2.75,-0.4869 4.5,0.9738 3.25,-0.9738 2.5,-2.6778 3.25,0 2.25,-2.4344 1,-3.895 4,0 0.5,5.3557 4.5,1.4606 1.25,3.1647 -0.5,1.7041 -3,2.9212 c 0,0 -0.5,0.4869 -0.5,2.9213 0,2.4344 -2.75,3.1647 -2.75,3.1647 l -0.25,5.1122 -3.5,-0.9738 -0.25,-2.4343 -7.25,-3.6516 -3.75,-0.9738 -2,6.086 2.75,1.9475 -0.75,3.4081 4,0 11.25,4.6254 1.25,4.1384 7.5,-0.7303 3.75,4.3819 -2.5,1.7041 -2.75,0.7303 1.75,4.6253 2.25,4.8688 7,0 2.25,1.7041 5.5,0.4868 0,9.2507 -1.75,4.1385 1.25,4.1384 -3.25,0.9738 -0.25,2.9212 2.75,2.191 1.75,4.8687 2,1.2172 0.25,1.9475 -1,1.9476 1.5,2.4343 5,0.4869 0,1.9475 -5.25,0.2435 2,3.6515 -0.75,3.4082 -2,3.1647 0.25,2.1909 3.75,0.7303 2.25,2.4344 4,2.4344 -0.25,2.92131 3,2.1909 2,7.3032 2.5,0 1.75,2.9213 -1,3.1647 2.25,0.7303 -0.75,4.1384 2.5,2.9213 -3.75,5.5991 -4,0.4869 -1.5,2.1909 -0.75,2.9213 -3.75,1.4606 1,3.4081 2.5,0.4869 -3.5,7.79 -5.75,1.7041 -7.25,0.9738 -3.25,0.2434 -1.25,2.6778 -4.75,0.9738 -1.5,-3.1647 -2.25,1.9475 -4.5,-2.191 -4.75,1.4607 -4.084,2.4508 -1.166,6.313 -4e-4,0 -14.75,0.9737 -5.251,6.3099 -4.499,4.6449 -3.75,2.6778 -1.25,2.6778 0.5,3.895 2.25,1.4607 0.5,2.1909 4e-4,0 -3.5,0.7303 -2.5,1.7041 -3.5,-1.2172 0.25,-2.9213 -3,-0.9737 -2,1.2172 -1.75,-1.2172 -3.75,-0.7303 1.5,-2.4344 -2.5,-3.895 -1.5,-5.5991 -3.5,0 0.25,-1.7041 -1.25,-1.7041 -3.75007,0.7303 0,-2.9212 -7.5,-1.9475 -5.5,-0.2435 -1.25,1.9475 -2.5,-1.2171 -2.75,0.2434 -0.75,1.9475 -2.25,1.2172 -2.75,0 -2.75,1.2172 -1.75,-0.2435 -3.5,-2.6778 -3.75,-1.2172 -1.75,-2.4344 -5.5,0.4869 -1.25,-3.895 -0.5,-2.4344 -2.25,-3.5298 z\" id=\"kt-zh\" class=\" reactive tooltip-trigger map-area\"/><desc class=\"value\">ZH: 938365</desc><desc class=\"x auto\">0</desc><desc class=\"y auto\">0</desc></g>\n",
       "    <g class=\"zkt-fr canton map-element color-0 serie-0 series\" style=\"fill-opacity: 0.407643\"><path id=\"kt-fr\" d=\"m 621.75323,1152.403 -4.5,2.4375 -2.25,2.1875 -22.5,7.0625 -13,-0.75 -3.32813,-0.4063 2.70313,3.7501 -0.75,6.0937 1,2.6875 -1.25,3.625 6.09375,8.2812 4.15625,4.625 -1,1.7188 3.5,2.1875 -3.5,3.4063 -2.75,-2.1876 -5,5.8438 3.5,3.1562 -9,10.9688 -3.25,-1.9688 3,-4.625 -3.5,-1.9374 2,-3.1563 -4.75,-2.6875 -3.25,1.7188 -3,-2.6876 3.25,-3.4062 -7.25,-7.0625 2.75,-2.6875 -2.25,-2.4375 -3,0.25 -11.0625,-13.9219 -12.0625,11.3282 11.5,11.9062 -1.25,2.1875 3.25,1.2187 3.75,5.375 3.25,3.6563 2,-1.2187 -2.5,-4.1563 3.25,-2.6563 0.21875,0.25 -0.0937,-0.3437 c 1.2014,1.0762 1.9731,2.1743 2.46875,3.25 l 1.40625,1.6875 c -1.57221,4.2392 -2.13664,7.4511 -2.77047,11.3438 l 3.5651,0.1918 -0.79458,4.308 1.34067,2.4512 -1.34067,3.8612 -3,-0.9687 -2,-1.9375 -2.75,2.6875 0.75,4.375 1.75,3.875 -2.25,2.4375 0.5,2.1875 -1.25,2.4375 -2.5,-0.25 -3.5,3.4375 0.75,2.4063 -3.75,3.9062 -3,-1.4688 -1.75,2.6876 1,1.7187 2.75,-0.5 1.25,1.2187 2.75,-1.2187 2.75,3.6563 -1.25,2.1874 -0.25,2.6876 -4,4.625 -4,1.9374 -3.25,4.375 -0.25,4.1563 -4.75,5.0937 -1.5,-1.9374 -2.25,1.6874 0,2.2188 2,1.6875 -1.25,2.6875 1.25,2.4375 -2.75,0 -1.25,1.9375 -2.75,-0.25 -1,-1.9375 -3.75,0.7187 -1.75,3.6563 -2.75,-0.7187 -3.5,0.9687 -2,1.6875 -1,6.5938 1.5,1.4374 2.25,7.8126 -2,1.2187 0,4.625 -1.5,5.0937 3.75,0 1.21875,-3.5937 2.28125,0.6875 2,3.1562 3,0 2.75,-2.9062 4.5,2.1875 2.75,3.1563 4,0 1.5,-1.4688 2.75,0 1,5.5938 -3.5,1.2187 c 0,0 -4.25,4.4013 -5.25,5.375 -1,0.9738 -1.75,3.4062 -1.75,3.4063 l -2.25,0.4687 -1.25,-3.625 -3.5,1.2187 -3.5,0.4688 -1.75,-2.4375 -2.5,7.7813 1.75,3.6562 2.75,0.9688 0.25,3.1874 2.25,2.6563 c 0,0 2.75,1.4754 4,1.7187 1.25,0.2435 2.25,-0.9687 2.25,-0.9687 l 4.5,-6.5937 4.75,-2.9063 -0.25,3.9063 5.25,-1.2188 5.25,4.625 5.25,-0.5 c 0,0 2.25,1.9391 3.25,3.1562 1,1.2173 2.25,1.7188 2.25,1.7188 l 0,3.6562 2.5,2.1876 -0.75,6.3124 2.75,1.9688 0.5,2.1875 -2.5,3.1563 0.25,2.4374 9.75,-5.3437 0.5,-4.875 5.78125,-5.0937 1.46875,-3.4376 2.75,0 1.75,-2.4374 11.5,0 1.75,-2.9063 3.5,-1.4687 2.5,-3.1563 3.25,-9 4.5,0.7187 6,-4.625 2.25,-2.9374 2.5,0.75 3.25,5.3437 3.5,-5.8437 2.25,-1.2188 c 0,0 2.25,-0.9638 3.5,-1.9375 1.25,-0.9738 2.5,-2.189 3.5,-3.4063 1,-1.2172 6,-7.7812 6,-7.7812 l 3,1.9375 3.5,-0.25 1.75,-3.6563 2.5,-1.4374 -2.25,-3.4376 c 0,0 1.75,-3.1512 2,-4.125 0.25,-0.9737 0.5,-2.6875 0.5,-2.6874 l -2,-1.4376 0,-5.8437 3.25,0.2187 1.5,-2.1874 -2.25,-5.3438 6.75,0.25 1.5,2.9062 1.5,3.4063 c 0,0 1.5,-2.1891 2.75,-3.4063 1.25,-1.2172 1.75,-2.1874 1.75,-2.1874 0,0 -0.75,-1.9588 -0.5,-3.9063 0.25,-1.9475 2.25,-3.1644 1,-4.625 -1.25,-1.4606 -1,-2.4259 0,-3.1563 1,-0.7302 1,-3.1562 1,-3.1562 l -2.75,-0.5 -1.25,-2.9062 -5.75,-0.5 1.5,-4.625 -11,-2.6563 -2.71875,-0.375 -3.34375,-6 2.53125,-8.375 -0.4375,-1.6563 -0.4375,-0.8124 -3.34375,-6.2813 0.84375,-2.5937 1.1875,-0.5938 0.6875,-1.375 0.71875,-0.3438 -0.75,-0.9687 0.59375,-3.6875 1.375,-1.3438 0.40625,-2.9687 2.15625,-3.3437 -1,-2.1876 2.03125,-0.4687 -0.71875,-1.1875 1.375,-2.3125 1.5,-0.4375 0.34375,-2.0312 -2.75,-2.5313 -1.75,-1.6875 2.5,-4.625 2.75,0 0,3.4062 1.53125,0.5 0.6875,-2.5312 3.25,-1.125 1.59375,-2.375 0.0937,-0.75 -1.3125,-1.5312 -0.96875,-5.8438 -0.71875,-0.6875 -0.46875,-0.4687 -4.28125,-0.7813 -1.4375,0.7187 -0.90625,0.4376 -1.625,0.8437 -1.34375,-1.0937 -1.625,-1.3126 -1.4375,0.063 -2.8125,1.3437 -2.25,-0.062 -2.15625,-1.4062 -0.53124,-0.094 -1.6875,-0.1875 -1.84375,-1.6875 -4.46875,-0.75 -2.03125,1.75 -2.5,-1.4688 -5.75,0.4688 -0.25,-2.1875 3.75,-2.1875 0.5,-5.5938 1.5,-1.7187 -2.25,-4.375 2,-2.1875 -1,-2.9062 1.25,-2.9376 -3.5,0 -0.25,-1.9374 2.75,-1.2188 2.25,-2.4375 5,-4.875 -3,-3.1563 1.25,-1.9374 -2,-3.4063 z m -97.71875,38.1875 c 0,0 -31.53125,30.9456 -33.28125,32.4062 -1.75,1.4607 11,11.4376 11,11.4376 l 2.25,0 -3.5,4.375 1.5,1.7187 2.25,-1.7187 3.25,3.4062 c 0,0 2.5,-0.954 3.75,0.75 1.25,1.7041 3.25,2.4375 3.25,2.4375 l 2,0 2.5,-1.9687 2,0.25 3,-3.6563 1.5,0.75 -0.25,2.6563 5.5,2.6874 2.5,-1.9374 3.25,-0.5 1.5,-1.9376 0.5,-4.4062 3,-3.875 -3,-1.7188 -1.5,1.9688 -2,-1.2188 1.75,-3.4062 0,-3.6562 c 0,0 0.25,-5.8453 1.5,-7.0626 1.25,-1.2172 3.5,-4.375 3.5,-4.375 l -3,-3.6562 -4,1.4688 -2.75,-2.4376 4.5,-1.7187 1.5,0.7187 2.25,-0.9687 -1.25,-2.6563 -2.5,-0.5 z m -2.28125,55.5312 -5.5,6.5626 0.5,2.1874 -5.0625,6.0938 -2.9375,0.25 -2.25,0.7188 -1.5,2.4374 2.5,0.9688 3.75,-0.4688 3,-2.4374 3.25,0 1.75,1.4687 6,1.9375 1.25,-3.1562 -1.5,-1.4688 4,-7.3125 z m -21.75,9.5 -1.25,3.875 -3.75,1.4688 -1.75,2.6875 3.25,1.2187 0,3.1563 2,1.4687 2.5,-2.6874 0.5,-2.6876 2.25,-2.4374 -0.5,-4.8438 z\" class=\" reactive tooltip-trigger map-area\"/><desc class=\"value\">FR: 151244</desc><desc class=\"x auto\">0</desc><desc class=\"y auto\">0</desc></g>\n",
       "    <g class=\"zkt-vs canton map-element color-0 serie-0 series\" style=\"fill-opacity: 0.413771\"><path d=\"m 942.7849,1374.2323 1.25,-4.6253 1.75,-0.7303 -1.25,-3.6516 1.75,-2.4344 0,-4.1385 3.75,0.7304 10.5,-1.7041 0.75,-2.6778 6.91668,-7.6527 -1.91667,-5.0061 -3.25,-0.2435 -7.25,-3.4081 -2.25,-10.2244 -3.75,-6.086 1.5,-7.0597 2.75,-5.8426 -0.25,-13.3891 -2.75,-1.704 -3.25,0.4868 -4,6.086 -3.5,2.4344 -0.25,7.79 -2.25,3.895 0,4.8688 0,3.895 -6.5,7.5466 -6,0.9738 -4.25,5.3556 -3.5,0.9738 -2,2.6778 -4.5,0.2434 -1.5,2.191 -12.25,1.9475 -10.75,1.4606 -1,-4.1384 -5.5,-0.2435 -7.25,-2.1909 -3.25,-4.1385 -11.25,-3.6516 -3.75,1.7041 -2.5,-1.9475 c 0,0 -1,-0.2434 -2.75,-0.2434 -1.75,0 -2,-1.9475 -2,-1.9475 l -5.25,0 -2.25,1.4606 -3.75,0.4869 -1.5,3.4081 -4.75,0.2435 -2.5,3.4081 -0.25,0.9737 c 0,0 1.25,1.4607 1.5,2.4344 0.25,0.9738 1.5,5.5991 1.5,5.5991 l -3.5,5.1122 -5,0.4869 -3.25,4.6253 -7.25,4.3819 -8.5,2.9213 -7.25,0 -5.25,3.4081 c 0,0 -3.5,2.9213 -6,3.4082 -2.5,0.4869 -8,7.0597 -8,7.0597 l -11.25,8.2769 -3.25,0.2434 -1.75,2.4344 -3.25,0 -3.75,-3.895 -17.75,-7.5466 -2,1.7041 -2.75,0.9737 -0.25,3.4082 -2.75,2.1909 0.5,3.1647 c 0,0 -1.25,1.4607 -2.5,0.9738 -1.25,-0.4869 -2.25,-1.7041 -2.25,-1.7041 l -2.5,0.2435 -3.25,0.9737 -7.5,0.9738 -2.25,5.1122 8,3.4081 -3.75,1.9475 -2,3.4082 -4.75,0.2434 -3.25,-0.7303 -1,2.4344 -5.25,-0.2435 0,-2.9212 -1.5,-2.9213 -2.25,0.2434 -0.25,2.6779 -3.75,0.9737 -0.75,-2.6778 -4.5,-1.2172 -2.5,1.7041 -8.75,2.1909 -11.5,9.4941 -11.75,3.1647 c 0,0 -1.5,-1.4606 -1.5,-4.1384 0,-2.6779 1.25,-3.895 1.25,-3.895 l -0.75,-4.3819 -3.75,3.1647 -4.25,0.4868 -5.75,2.6779 -0.25,8.2769 c 0,0 -2.25,3.1647 -5.75,3.895 -3.5,0.7303 -5.90886,-0.1748 -5.90886,-0.1748 l -7.84114,8.6951 0,4.6254 2.25,0.7303 -0.25,2.1909 -2.75,0.7304 -0.25,2.4343 1.5,2.6779 -4,1.4606 -2.5,3.6516 c -1,1.4606 -3.75,2.9212 -3.75,2.9212 l -0.5,2.9213 -2,2.4344 -5.75,0.4869 -0.25,5.8425 -9.75,8.5203 -5.25,0.2435 -6.83984,4.9733 -6.75098,-7.9897 -2.4668,-8.8874 -5.37451,-9.7195 -4.02393,-4.8977 -5.26611,-8.3026 -3.57861,-3.9493 -1.97046,-11.7516 -3.42651,-6.9513 -6.6062,0 -3.67603,-5.5682 c 1.46387,-2.3469 1.83496,-3.566 0.9834,-6.355 -0.3728,-1.221 -0.93213,-2.3855 -0.93213,-2.3855 l -6.19165,-6.5714 -12.62935,-10.6327 -3.4997,11.5751 -0.25,8.0335 c 0,0 -2.25,3.4081 -4,4.1385 -1.75,0.7303 -5,2.4343 -5,2.4343 l 4,9.0073 2.25,-0.4869 2,2.6778 0,2.4344 4,1.7041 4.5,4.1384 0.25,2.6779 c 0,0 1.25,0.7303 3,2.1909 1.75,1.4606 2.5,0.4869 2.5,0.4869 l 4.5,4.3819 -3.25,12.9022 -3.5,2.6778 -2.5,5.3557 -3,0.9737 -0.75,4.1385 c 0,0 -1.25,1.4606 -1.75,2.6778 -0.5,1.2172 -1.75,5.1122 -1.75,5.1122 l 1.25,8.2769 -3.25,4.8688 c 0,0 -2.25,2.9213 -2.5,4.3819 -0.25,1.4606 2.25,7.5466 2.25,7.5466 l 2.5,-0.4869 1,2.4344 2.25,-0.7303 6.25,0 1.75,2.1909 14.25,1.7041 -1,8.0335 -2.75,3.4081 1.75,4.3819 -0.5,5.1122 -2.75,2.6779 -1.25,5.8425 3.25,1.9475 2.5,-2.191 2.75,-0.9737 3.25,-5.5991 5.25,1.2172 -1,3.1647 1.5,1.9475 2.43506,-1.7507 4.31494,9.5407 4.75,5.5991 1,3.895 2.5,3.1647 3,-0.2434 1.75,5.1122 3.75,4.3819 -4.25,2.9213 2.75,4.1384 4.5,0.9738 1,1.9475 -0.25,6.8163 1.25,5.1122 6.5,4.6253 0.5,4.1385 2.25,2.4344 0.5,2.9212 c 0,0 3.75,1.9475 4.75,2.9213 1,0.9737 0.75,2.4344 0.75,3.6516 0,1.2172 1.25,3.895 1.25,3.895 0,0 3.25,0.2434 5.75,-0.9738 2.5,-1.2172 3.25,-4.3819 3.25,-4.3819 l 7.5,-2.6778 3,5.1122 c 1,1.7041 6.75,2.4344 6.75,2.4344 l -0.75,-4.8688 4.75,-4.1384 2,-3.4082 10.25,-0.4868 4,-3.4082 2.75,-7.3031 7.5,2.1909 1.75,2.9213 4.75,-1.9475 4.75,1.2172 0.25,2.6778 7.25,2.9212 4.75,-5.3556 2.5,0.7303 5.25,-3.4081 4.75,-5.8426 6.25,-0.7303 0.75,-5.3556 6.75,-5.1122 5.75,-0.2435 6.5,2.4344 0,-7.3031 2.25,-4.3819 7.75,-0.9738 1.75,3.6516 0.5,2.9213 16.25,0.2434 c 0,0 3,-3.1647 5.75,-2.191 2.75,0.9738 4,3.8951 4,3.8951 l 0.75,3.895 4.75,0.7303 3.75,2.6778 0.25,5.8425 1.75,3.4082 4.25,0.4869 3.75,-6.086 5.75,0.4869 5.25,4.3819 3.75,3.895 5.25,-3.4082 c 0,0 4.5,1.4607 5.75,1.7041 1.25,0.2435 6.5,1.7041 6.5,1.7041 l 3,-2.191 c 0,0 -3.5,-4.1384 -2,-6.5728 1.5,-2.4344 1.75,-5.8425 1.75,-5.8425 l 1.25,-7.5466 c 0,0 3.5,-1.7041 5,-3.6516 1.5,-1.9475 3.5,-6.3294 3.5,-6.3294 l 15.5,0.2434 5.75,-0.2434 0.76562,-1.4606 1.23438,-4.8688 3,-0.7303 0.5,-7.5466 5,-5.3557 c 0,0 -2.5,-4.1384 -2.5,-7.0597 l 0,-5.3556 1.5,-2.4344 1.5,-7.7901 7.25,-0.7303 3.5,-1.4606 5.5,-0.4869 4,-1.9475 2,-2.1909 -0.25,-4.3819 4.75,-3.1647 3.75,0 3.25,-4.6254 -2.25,-2.1909 c 0,0 0.75,-3.895 1.75,-5.1122 1,-1.2172 3.25,-4.3819 3.25,-4.3819 l -2.5,-4.3819 -3.25,-7.3032 0.25,-3.1647 -9,-8.2769 0,-3.6516 -8.5,-3.1647 0.5,-4.6253 9,-8.0335 2.25,-3.6515 5.25,-3.8951 2.5,0.4869 4,2.191 5.25,-1.4607 c 0,0 2,-0.9737 3.25,-0.9737 1.25,0 2.25,-0.7303 2.25,-0.7303 l 2.25,-2.191 2.5,-5.1122 0.5,-3.4081 3.25,-3.6516 4.25,0 c 0,0 0,-1.9475 1.75,-2.4344 1.75,-0.4869 2.25,-1.9475 2.25,-1.9475 l -0.75,-2.6778 0.75,-1.7041 3.5,-2.191 3.25,0.7304 3.75,-3.4082 3,-1.2172 0.25,-7.5466 -6.25,-3.1647 4.5,-8.0334 4.5,0 7.75,-6.3294 4.75,-4.8688 4.9994,0.2434\" id=\"kt-vs\" class=\" reactive tooltip-trigger map-area\"/><desc class=\"value\">VS: 159387</desc><desc class=\"x auto\">0</desc><desc class=\"y auto\">0</desc></g>\n",
       "    <g class=\"zkt-vd canton map-element color-0 serie-0 series\" style=\"fill-opacity: 0.568180\"><path d=\"m 531.48136,1183.8009 11.5,11.9285 -1.25,2.1909 3.25,1.2172 3.75,5.3557 3.25,3.6516 2,-1.2172 -2.5,-4.1385 3.25,-2.6778 4,4.8688 -1.5,4.6253 -0.5,3.6516 -1,3.1647 3.75,0 -0.75,4.3819 1.5,2.1909 -1.5,4.1385 -3,-0.9738 -2,-1.9475 -2.75,2.6778 0.75,4.3819 1.75,3.895 -2.25,2.4344 0.5,2.191 -1.25,2.4344 -2.5,-0.2435 -3.5,3.4082 0.75,2.4343 -3.75,3.8951 -3,-1.4607 -1.75,2.6779 1,1.704 2.75,-0.4868 1.25,1.2171 2.75,-1.2171 2.75,3.6515 -1.25,2.191 -0.25,2.6778 -4,4.6253 -4,1.9475 -3.25,4.3819 -0.25,4.1385 -4.75,5.1122 -1.5,-1.9475 -2.25,1.7041 0,2.1909 2,1.7041 -1.25,2.6778 1.25,2.4344 -2.75,0 -1.25,1.9475 -2.75,-0.2434 -1,-1.9475 -3.75,0.7303 -1.75,3.6515 -2.75,-0.7303 -3.5,0.9738 -2,1.7041 -1,6.5728 1.5,1.4606 2.25,7.7901 -2,1.2172 0,4.6253 -1.5,5.1122 3.75,0 1.22705,-3.6083 2.27295,0.687 2,3.1647 3,0 2.75,-2.9212 4.5,2.1909 2.75,3.1647 4,0 1.5,-1.4606 2.75,0 1,5.5991 -3.5,1.2172 c 0,0 -4.25,4.3819 -5.25,5.3556 -1,0.9738 -1.75,3.4082 -1.75,3.4082 l -2.25,0.4868 -1.25,-3.6515 -3.5,1.2172 -3.5,0.4868 -1.75,-2.4344 -2.5,7.7901 1.75,3.6516 2.75,0.9737 0.25,3.1647 2.25,2.6778 c 0,0 2.75,1.4607 4,1.7041 1.25,0.2434 2.25,-0.9737 2.25,-0.9737 l 4.5,-6.5729 4.75,-2.9213 -0.25,3.8951 5.25,-1.2172 5.25,4.6253 5.25,-0.4869 c 0,0 2.25,1.9475 3.25,3.1647 1,1.2172 2.25,1.7041 2.25,1.7041 l 0,3.6516 2.5,2.1909 -0.75,6.3294 2.75,1.9475 0.5,2.191 -2.5,3.1647 0.25,2.4344 9.75,-5.3557 0.5,-4.8687 5.76538,-5.0856 1.48462,-3.4348 2.75,0 1.75,-2.4344 11.5,0 1.75,-2.9212 3.5,-1.4607 2.5,-3.1647 3.25,-9.0072 4.5,0.7303 6,-4.6253 2.25,-2.9213 2.5,0.7303 3.25,5.3557 3.5,-5.8425 2.25782,-1.2172 3.24219,5.1122 c 0,0 0.25,3.4081 0.5,5.5991 0.25,2.1909 -0.5,5.1122 -0.75,7.5466 -0.25,2.4343 -2.75,4.6253 -2.75,4.6253 l -0.25,2.4344 -2.5,0 0,4.8687 2,4.1385 c 0,0 -1.5,2.4344 -1.25,3.895 0.25,1.4606 -0.75,2.9213 -0.75,2.9213 l -1,2.6778 c 0,0 -0.75,0.7303 -2.75,0.9738 -2,0.2434 -5,-0.7304 -5,-0.7304 l -0.5,3.1647 1.25,1.7041 0.75,2.191 2,2.1909 -0.25,6.086 c 0,0 -1,2.4344 -2,3.895 -1,1.4606 -2.25,6.086 -2.25,6.086 l 4.33789,0.5615 0.91211,3.09 1.25,1.9475 3.75,0.4869 -2.5,2.6778 0.75,5.3557 -1,5.5991 -8.5,9.2506 0,4.6254 2.25,0.7303 -0.25,2.1909 -2.75,0.7304 -0.25,2.4343 1.5,2.6779 -4,1.4606 -2.5,3.6516 c -1,1.4606 -3.75,2.9212 -3.75,2.9212 l -0.5,2.9213 -2,2.4344 -5.75,0.4869 -0.25,5.8425 -9.75,8.5203 -5.25,0.2435 -6.83984,4.9733 -6.75098,-7.9897 -2.4668,-8.8874 -5.37451,-9.7195 -4.02393,-4.8977 -5.26611,-8.3026 -3.57861,-3.9493 -1.97046,-11.7516 -3.42651,-6.9513 -6.6062,0 -3.67603,-5.5682 c 1.46387,-2.3469 1.83496,-3.566 0.9834,-6.355 -0.3728,-1.221 -0.93213,-2.3855 -0.93213,-2.3855 l -6.19165,-6.5714 -12.30931,-10.8039 -19.52318,-6.5354 -61.54656,-7.0359 -28,16.5538 -23.25,4.3819 -23.5,18.0145 -3.26714,6.3442 -9.54601,-3.6856 -1.35621,-3.013 -4.25,-1.9475 -1.75,2.1909 1,2.9213 -1.75,-0.7304 -2.25,4.6254 2.17457,1.5757 1.75,-1.7041 2.5,-2.1909 0.25,1.704 2.32543,1.589 8.88105,3.9578 -3.17137,7.2959 -6.45968,10.6558 -12.75,-5.5991 -3.75,-2.9212 -2.25907,-5.0205 4.17843,-6.5536 m 0,0 8,-13.3891 -5,-5.3557 -2,1.4607 -9.75,-8.7638 -2.5,-0.9738 -1.25,-3.1647 -8.25,-2.9213 5.25,-8.5203 -0.5,-3.6516 -2.75,-2.1909 0.75,-4.8688 6,-5.5991 4.75,-13.1457 5,-6.0859 2.5,0.9737 4.75,-6.3294 -7,-7.3031 -5.25,-7.0598 5,-6.0859 12,-8.0335 1.25,-2.9213 13,-10.4678 10.75,-10.4679 0.75,-3.1647 3.25,-2.9212 27,-15.0932 c 0,0 3,-1.4607 3.25,-3.4082 0.25,-1.9475 1.25,-3.6516 2.5,-4.1384 1.25,-0.4869 7.75,-2.6779 7.75,-2.6779 l 3.5,-3.1647 3.25,-4.1384 2.75,-7.79 c 0,0 -3,-1.7041 -5,-3.1647 -2,-1.4607 -4,-2.9213 -2.25,-4.8688 1.75,-1.9475 1.25,-5.8425 1.25,-5.8425 l 5.4997,-9.4942 2.9997,0.7303 c 0,0 6,-0.9737 8.5,-1.9475 2.5,-0.9737 7.25,-2.9212 7.25,-2.9212 0,0 5,-4.3819 7.5,-5.5991 2.5,-1.2172 8.25,-4.6253 8.25,-4.6253 l 3.5,0.4868 2.75,-1.704 5.75,-0.9738 4.5,-8.0335 7.75,-5.1122 12,-4.6253 c 0,0 0.5,1.7041 0.25,3.895 -0.25,2.191 -1.25,7.5466 -1.25,7.5466 l 5.75,3.6516 -2,10.7113 4.5,-1.2172 7.94249,6.5284 c 0,0 -8.19246,8.5648 -9.94246,10.0254 -1.75,1.4606 11,11.4416 11,11.4416 l 2.25,0 -3.5,4.3819 1.5,1.7041 2.25,-1.7041 3.25,3.4082 c 0,0 2.5,-0.9738 3.75,0.7303 1.25,1.704 3.25,2.4344 3.25,2.4344 l 2,0 2.5,-1.9475 2,0.2434 3,-3.6516 1.5,0.7303 -0.25,2.6779 5.5,2.6778 2.5,-1.9475 3.25,-0.4869 1.5,-1.9475 0.5,-4.3819 3,-3.895 -3,-1.7041 -1.5,1.9475 -2,-1.2172 1.75,-3.4081 0,-3.6516 c 0,0 0.25,-5.8425 1.5,-7.0597 1.25,-1.2172 3.5,-4.3819 3.5,-4.3819 l -3,-3.6516 -4,1.4606 -2.75,-2.4343 4.5,-1.7041 1.5,0.7303 2.25,-0.9738 -1.25,-2.6778 -2.5,-0.4869 -12.6406,-13.7362 7.64057,-6.7126 m 30.75003,-23.6135 -18.67445,12.0513 10.92442,14.24 3,-0.2434 2.25,2.4344 -2.75,2.6778 7.25,7.0597 -3.25,3.4082 3,2.6778 3.25,-1.7041 4.75,2.6778 -2,3.1647 3.5,1.9475 -3,4.6254 3.25,1.9475 9,-10.9547 -3.5,-3.1648 5,-5.8425 2.75,2.191 3.5,-3.4082 -3.5,-2.1909 1,-1.7041 -4.14965,-4.6253 -6.10035,-8.2769 1.25,-3.6516 -1,-2.6778 0.75,-6.086 -2.25,-2.6778 -0.99998,-2.3127 z m -60.75003,103.9482 2.25,-2.4344 -0.5,-4.8687 -3.25,-1.2172 0,0 -1.25,3.895 -3.75,1.4606 -1.75,2.6779 3.25,1.2171 0,3.1647 2,1.4607 2.5,-2.6778 z m 7.25,-2.9212 -2.25,0.7303 0,0 -1.5,2.4344 2.5,0.9737 3.75,-0.4869 3,-2.4343 3.25,0 1.75,1.4606 6,1.9475 1.25,-3.1647 -1.5,-1.4606 4,-7.3032 -7.25,-7.79 -5.5,6.5728 0.5,2.191 -5.08007,6.0907 z\" id=\"kt-vd\" class=\" reactive tooltip-trigger map-area\"/><desc class=\"value\">VD: 364565</desc><desc class=\"x auto\">0</desc><desc class=\"y auto\">0</desc></g>\n",
       "    <g class=\"zkt-ge canton map-element color-0 serie-0 series\" style=\"fill-opacity: 0.456849\"><path d=\"m 324.75931,1432.3813 3.75,2.9213 12.75,5.5991 6.5003,-10.7113 4.7503,2.9213 3.25,6.3294 -3,4.3818 5.75,11.9285 3.25,0.4869 5.75,-5.1122 1.5,2.9213 2.75,0 0.5,4.3819 -4,6.5728 c 0,0 -4.75,3.1647 -5.75,3.895 -1,0.7303 -5.5,2.4344 -5.5,2.4344 l -2.5,1.9475 -4,-0.7303 -11.75,9.7375 -1.25,7.3032 -4,0.9738 -10.5,8.2769 -3.25,-1.4607 -4,0.2435 -4.75,-2.6779 -2.75,0.2435 -7,-0.4869 -1,3.6516 -4.5,2.1909 -3.25,-2.4343 -9.5,-0.2435 -4,4.8688 -4.25,-5.3557 0.5,-3.4081 5,-10.7113 2.5,-0.4869 2.25,-2.4344 -6.25,-3.895 1.75,-7.3031 5.5,-0.7304 4.75,-4.6253 5.25,-3.4081 4,2.4344 3.25,-4.3819 7.5,-1.2172 4.5,2.6778 3.75,-1.7041 2.25,-3.6516 -0.75,-5.3556 -2.25,-1.9475 -0.5,-2.6778 -2.5,-1.9475 4.75,-5.8426 0.69359,-7.1503 1.92463,-2.2793 z m 26.25,-9.4941 -9,-3.895 -2.32543,-1.589 -0.25,-1.7041 -2.5,2.191 -1.75,1.704 -2.17457,-1.5757 2.25,-4.6253 1.75,0.7303 -1,-2.9212 1.75,-2.191 4.25,1.9475 1.35621,3.0131 9.64379,4.0466 z\" id=\"kt-ge\" class=\" reactive tooltip-trigger map-area\"/><desc class=\"value\">GE: 216628</desc><desc class=\"x auto\">0</desc><desc class=\"y auto\">0</desc></g>\n",
       "    <g class=\"zkt-ne canton map-element color-0 serie-0 series\" style=\"fill-opacity: 0.359739\"><path d=\"m 414.94054,1216.1513 1.5,-17.771 -5,-8.7638 -3,-4.3819 6.5,-5.5991 3,-5.1122 6.75,-7.5466 3,2.6778 18.75,-7.0597 5.5,-2.9213 c 0,0 5.25,-0.2434 6.5,-0.9737 1.25,-0.7303 6,-4.3819 6,-4.3819 l 0,-2.4344 0.25,-2.4344 3.5,-5.8425 6.75,-4.3819 4,0 2.5,-3.895 3,-1.4606 -0.75,-3.8951 -6.5,-2.6778 4.75,-3.4081 1,-4.1385 3.25,-1.7041 6.5,0 0.25,-5.8425 -1.75,-1.704 5.5,-5.1123 4.5,-0.4868 5.75,-3.4082 7,-4.8687 7,-5.3557 1.8373,-4.3093 3.4121,4.5529 3,5.5991 2.5,4.3819 -1.75,7.3032 c 0,0 -1.75,2.9212 -3,4.8687 -1.25,1.9475 -0.75,6.8163 -0.75,6.8163 l 2.5,-1.9475 2.25,-0.4869 2.25,-1.9475 6.5,-3.4081 3.25,-2.6778 2.24998,0.2434 2,-0.7303 c 0,0 9,-1.9475 11.5,-1.9475 2.5,0 5.5,-3.6516 5.5,-3.6516 l 3,0.9737 3.5,-1.704 3,0.9737 -5,4.6254 3,4.6253 2.5,-2.4344 5.5,3.6516 4.5,1.2172 1,3.1647 0.75,3.4081 -2.5,2.6778 2.25,5.5991 -1.75,3.1647 -4,4.1385 -5.25,0.7303 -3.5,4.1385 c 0,0 0.25,2.9212 0,6.0859 -0.25,3.1647 -2,3.895 -2,3.895 l 3.85073,7.8003 -10.60071,-0.4971 -19,12.4154 -43,39.9239 -7.5,-6.086 -4.5,1.2172 2,-10.7113 -5.75,-3.6516 c 0,0 1,-5.3556 1.25,-7.5465 0.25,-2.191 -0.25,-3.8951 -0.25,-3.8951 l -12,4.6254 -7.75,5.1122 -4.5,8.0334 -5.75,0.9738 -2.75,1.7041 -3.5,-0.4869 c 0,0 -5.75,3.4081 -8.25,4.6253 -2.5,1.2172 -7.5,5.5991 -7.5,5.5991 0,0 -4.75,1.9475 -7.25,2.9213 -2.5,0.9737 -8.5,1.9475 -8.5,1.9475 l -3,-0.7303\" id=\"kt-ne\" class=\" reactive tooltip-trigger map-area\"/><desc class=\"value\">NE: 87589</desc><desc class=\"x auto\">0</desc><desc class=\"y auto\">0</desc></g>\n",
       "    <g class=\"zkt-ju canton map-element color-0 serie-0 series\" style=\"fill-opacity: 0.327923\"><path d=\"m 665.44678,987.78343 -5,0.2434 0,-1.94746 c 0,0 -1.75,-0.97375 -3.25,-1.9475 -1.5,-0.97376 -2,-2.67783 -2,-2.67783 l -2.75,0 0.2503,-3.89476 -6.9997,1.21745 c 0,0 -3.75,1.70407 -5.25,1.70407 -1.5,0 -2.5,1.70407 -4.25,2.19095 -1.75,0.48687 -6,3.40814 -6,3.40814 l 0.25,-2.67783 -3,-0.97375 c 0,0 0.25,-0.73032 0.25,-2.19095 0,-1.46063 -2,-2.67782 -3.75,-2.19095 -1.75,0.48688 -3.5,1.70407 -3.5,1.70407 l -4.25,0 -0.25,-1.46063 -2.75,-1.21719 -4.25,-0.48688 2,-6.08596 0.75,-5.84253 2.25,-4.62533 1.5,-3.40814 -9.25,0.73031 -5.25,-4.86877 -3.5,0 -2.5,2.92126 -5.75,0.24344 c 0,0 -0.75,0.24344 -3.5,1.70407 -2.75,1.46063 -3.5,-1.46063 -3.5,-1.46063 l -4,-0.48688 -2.5,-1.21719 -3.25,-0.24344 -4.5,-1.70407 -4.75,2.19095 -3,2.19095 0,6.3294 3,2.67782 -0.25,3.16471 0.5,2.43438 c 0,0 -3,2.67783 -4.75,2.67783 -1.75,0 -4.5,1.21719 -4.5,1.21719 l -0.5,2.67782 -1.75,2.19095 -4.75,0.24344 -0.25,7.30317 -1.5,3.895 -5.25,1.2172 -1.25,3.6516 c 0,0 0,2.1909 -0.75,3.1647 -0.75,0.97367 -4.25,1.70397 -4.25,1.70397 l -3,3.1647 -0.5,3.1647 -1.25,3.1647 c 0,0 3,-0.7303 4.5,-1.2171 1.5,-0.4869 2,-1.2172 4,-0.2435 2,0.9738 1.75,1.7041 4.25,0.9738 2.5,-0.7303 2.75,-0.7303 4.5,-0.7303 1.75,0 8.5,-0.9738 8.5,-0.9738 l 2.75,-1.4606 4.25,0 4.25,-3.1647 5.25,0.9737 1.25,2.6778 3.25,0.7304 1.25,4.3819 2.75,4.1384 -2,4.1385 -2.25,2.6778 -6.5,0 -2.5,2.9213 -2.5,4.6253 0.75,2.4344 -3.25,1.9475 -3.25,0.7303 -2.75,1.7041 -6.5,-0.2435 -1.5,2.191 1.75,4.1384 0,5.8426 -1,2.6778 2.25,2.1909 0,2.6779 -3,1.4606 -0.75,2.9212 -3,0.7304 -1.5,3.1647 -4.25,1.4606 -2.75,2.9213 -6,3.895 -2,4.8687 -2.6179,2.3194 -5.3821,2.5494 -0.25,3.1647 3.3373,0.072 3.6621,-3.2372 1.5,1.9475 0,2.6778 2.5,4.8688 4,-1.4606 4.75,-4.1385 4.75,-1.9475 1.25,-2.6778 -0.25,-2.4344 4.5,-2.4344 1,2.9213 3.25,0 2,2.6778 2.25,-0.4869 3.5,-6.5728 7.75,-1.7041 3.5,-6.0859 2.25,-5.5991 3.5,-1.4607 -0.5,-5.3556 7.25,-1.2172 1,3.6516 2.75,-0.4869 1.25,-1.4606 6.75,-1.2172 4,0.9737 c 0,0 1.5,-1.4606 2.75,-1.4606 1.25,0 1.5,-0.4869 0.75,-1.4606 -0.75,-0.9738 -1.75,-2.4344 -1.75,-2.4344 l 0,-4.3819 5.75,-2.9213 0.25,-7.5466 10.75,-0.4869 0,2.9213 c 0,0 4,-1.4606 6.25,-0.4869 2.25,0.9738 5.25,1.2172 6.5,1.2172 1.25,0 5.75,0.2435 5.75,0.2435 0,0 7,-0.7304 9,-0.9738 2,-0.2434 4,-2.1909 4,-2.1909 l 5.25,-5.3557 c 0,0 4.75,0 6.25,-0.9737 1.5,-0.9738 3.75,-2.191 3.75,-2.191 l 10,0.2435 0.75,1.704 3,0.9738 c 0,0 5.5,-0.7303 8.5,-0.2435 3,0.4869 4.75,0.9738 5.75,1.2172 1,0.2435 2.25,1.2172 2.25,1.2172 l 2.75,0 5.4287,-3.0748 3.7339,-1.2605 5.0874,-2.2375 0,-2.191 -3.25,1.2172 -2,-0.9737 0.5,-2.4344 1.25,-2.4344 3,-2.1909 3,-1.4607 c 0,0 -1.25,-1.704 -2.5,-1.704 -1.25,0 -2.25,0 -2.25,0 l -0.75,-1.9476 1.25,-1.4606 -1,-1.7041 -3.75,-0.9737 -0.5,-3.895 c 0,0 -6.25,0.4868 -7.25,0.7303 -1,0.2434 -9.5,0.4869 -9.5,0.4869 l -6,-3.8951 -6.5,-0.2434 -1,-5.84247 -3,-0.7303 c 0,0 -3.5,-1.7041 -3.75,-3.1647 -0.25,-1.4607 -0.75,-3.4082 -0.75,-3.4082 z\" id=\"kt-ju\" class=\" reactive tooltip-trigger map-area\"/><desc class=\"value\">JH: 45312</desc><desc class=\"x auto\">0</desc><desc class=\"y auto\">0</desc></g>\n",
       "    <g class=\"zkt-so canton map-element color-0 serie-0 series\" style=\"fill-opacity: 0.399718\"><path d=\"m 677.46966,976.38336 -2.6521,1.96536 c 0,0 -1.5,0.97376 -3.5,1.21719 -2,0.24344 -2.5,2.19095 -2.5,2.19095 l -1.5006,-0.4869 -0.5,3.89502 -1.25,2.67782 3,0.73032 c 0,0 3.75,0.48688 5.5,0.73032 1.75,0.24343 4.25,0.48687 4.25,0.48687 l 1.75,-1.94751 2,0 2.5,0.97376 c 0,0 2,-1.70407 2.5,-2.92126 0.5,-1.2172 0.75,-3.40814 0.75,-3.40814 l -1,-3.16471 -3.25,-3.40814 -2.75,0.73032 -4,-0.73032 z m 10.3479,-12.64095 -8.75,-3.65158 3,-5.59909 10.75,6.81628 5,-0.48688 2.25,-2.92126 2.25,-2.67782 1.7497,-1.21721 4.7497,1.21719 1,2.19094 -0.5,4.86877 -1.5,0.48688 0,2.43439 1.75,3.65158 -4,0.24343 -3.75,0.97376 -3.5,-0.73032 -2,1.70407 -3.25,0.24344 -4.75,2.67783 -4.25,-5.35565 1.5006,-0.24342 z m 136.7494,18.01443 2.5,1.21719 3.5,-0.48687 2.75,1.21719 1.25,-1.46063 0,-2.92127 -1.5,-1.9475 0,-2.67783 -2.25,-2.19095 1,-2.67782 -3,-1.94751 -3.25,2.19095 0,0 -0.5,3.1647 -2.25,2.19095 1,4.62533 z m -108,43.33206 c 1,0 2.75,-0.9738 2.75,-0.9738 0,0 0.5,-1.4606 0.25,-2.4344 -0.25,-0.9737 -2.25,-4.1384 -2.25,-4.1384 l -1.5,-1.2172 c 0,0 -1.25,-1.7041 -2.5,-1.7041 -1.25,0 -2.25,0 -2.25,0 l -0.75,-1.9475 1.25,-1.4606 -1,-1.7041 -3.75,-0.9737 -0.5,-3.895 c 0,0 -6.25,0.4868 -7.25,0.7303 -1,0.2434 -9.5,0.4869 -9.5,0.4869 l -6,-3.8951 -0.5,-2.67778 1.5,-0.73032 0,-2.43438 -1.5,-1.70407 2,-1.94751 3.25,0.48687 5.25,0.24344 0.5,4.3819 2.25,1.46063 4.25,0.97372 c 0,0 0.5,-1.94748 2,-1.94748 1.5,0 3.75,-0.24343 3.75,-0.24343 l 2.25,-5.11221 -2,-2.67783 2.25,-1.94751 2.5,-0.24344 11.25,0.24344 -2.5,-2.43438 -1,-1.94751 0,-5.11221 2.75,0.73031 c 0,0 0.25,2.92127 1.75,2.67783 1.5,-0.24344 2.5,-1.70407 2.5,-1.70407 l 6.25,-0.24344 -0.5,-4.38189 2.25,-5.84253 -0.75,-2.92126 -3.25,-1.2172 -0.25,-2.43438 0.75,-1.94751 -0.5,-3.40814 8,2.67782 2.25,-1.70407 3.25,0 -0.25,-1.70407 -2.5,-0.73031 1.25,-1.94751 3,0 2.25,4.62533 2.5,0 1.25,1.70407 3.5,0 3.75,5.59909 -1.5,1.21719 -1,2.92127 -3.5,1.9475 -2,3.16471 0.75,4.13845 -1.25,6.3294 -4.75,3.65158 -8.5,0 1.5,8.76379 -1.5,1.21719 2.25,2.19091 1,4.8688 6.5,-0.7303 2.5,-0.9738 c 0,0 4.25,-0.7303 6,-0.7303 1.75,0 4.25,0.4869 4.25,0.4869 l 3.25,0.7303 5.25,8.7638 2.5,2.1909 3.25,0 1.25,1.4607 4.5,0.2434 2,-1.4606 0,-4.6254 2.25,-3.1646 8.25,-1.4607 1,-3.4081 2.5,-1.7041 9.25,-2.1909 -0.25,-2.43441 -2.25,-2.92127 5.5,-4.13845 5,2.67782 7.5,-2.92126 0,-2.67783 2.75,-0.97375 2.75,0.73032 0.25,-2.19095 1.5,-2.43439 4.75,4.13846 2.5,0.24344 3.75,1.70407 1.25,2.19094 0.75,4.3819 4.92871,0.36278 -0.42871,9.86168 -4.75,4.3818 1.25,2.4344 c 0,0 -0.75,1.2172 -1.75,1.9475 -1,0.7303 -0.75,1.7041 -0.5,3.1647 0.25,1.4606 -0.5,1.9475 -2.25,2.191 -1.75,0.2434 -2.25,1.9475 -2.25,1.9475 l -2.25,0 -0.5,2.4344 -7.5,1.9475 -1.25,-3.1647 1,-2.6779 -7.75,-0.7303 -3.48193,-4.0455 -0.32666,1.691 -0.56445,1.1036 -1.07129,2.0797 -0.32031,0.6159 -0.24707,2.1727 -0.3916,3.3938 -1.62354,1.5676 -3.15039,0.2418 -3.76611,0.2946 -0.84424,0.7864 c -2.01172,3.0427 10e-4,9e-4 -2.01221,3.0427 l -1.22949,3.175 -2.50342,6.4423 -5.12061,5.3946 -3.36621,0.5423 -1.91553,-1.4002 -0.80273,-0.01 -4.26221,3.8279 -2.75,-0.4868 -0.5,-3.6516 -4,1.4606 -0.75,2.6778 -3.5,0.2435 -1.25,-1.4607 -2.25,0.7304 -3,-5.5991 -2.75,-0.9738 -2,-3.895 -2,-0.7303 -1.75,-2.191 -2,0 -1.5,1.9475 -3.5,0 -1.75,1.4607 c 0,0 -2,0.9737 -4.75,0.9737 -2.75,0 -10,0.4869 -11.25,0.7303 -1.25,0.2435 -6.25,1.9475 -6.25,1.9475 l 4.75,4.3819 0,7.7901 8.5,6.8163 4.5,0.2434 2.75,7.3032 -1,2.9212 3.5,0.4869 4.25,3.6516 -1.25,1.2172 0,1.704 2,1.2172 -2.5,5.1122 -3,0.4869 -2.25,3.6516 0,3.6516 -2.75,0 0,-1.7041 -5,0.7303 -1.5,-2.1909 -2.25,2.1909 -5.5,0.7303 -3.5,-5.8425 -2,0.7303 -2.75,-1.9475 -2.5,2.4344 -7,-0.7303 -1.25,2.4344 2.25,3.1647 -4,4.6253 0.25,4.3819 -7.25,4.6253 -3,1.2172 -4.75,1.7041 0,2.4344 1.5,3.1647 2.5,3.6516 -2.5,3.1647 -3.5,1.4606 -3.75,0 c 0,0 -1.25,-0.7303 -2.25,-2.9213 -1,-2.1909 1.5,-3.6515 1.5,-3.6515 l -1,-3.1647 -10.25,2.6778 -3.5,-1.4607 -1.75,-3.6515 -1.75,-3.8951 0,-3.4081 4.25,-0.7303 4.5,2.1909 6.75,-1.9475 3,0.2435 -0.75,-3.4082 -3,-0.2434 -0.75,-1.7041 1.75,-2.4344 3.5,0 -0.5,-3.6515 2,-1.9476 2.75,0 3.5,1.9476 4.75,-3.1647 1.25,-1.9476 1,-2.9212 -3.75,-0.7303 -2.25,-3.895 1.25,-1.9476 -1.5,-1.4606 -2,0.9738 -4,0 0.5,2.6778 -2.5,1.7041 -1.25,-2.4344 -2.25,0.4869 0.75,3.895 -3.75,0.4868 -1.25,3.4082 -3.25,0.2434 -3.5,0.9738 -2.25,-0.9738 -0.5,-2.4344 3,-0.9737 -4,-7.0597 -2.5,-1.4607 -3.25,0 -3.75,-7.0597 0,-2.9212 3,-1.7041 2.75,0.7303 2.25,-0.7303 1.25,-1.7041 8,-3.6516 1,-1.9475 3.25,-0.7303 -0.75,-2.1909 0.25,-2.9213 3,-0.9738 2.5,-2.6778 6.5,-0.2434 2.5,-1.2172 c 0,0 1.75,-5.1122 3,-6.3294 1.25,-1.2172 5.5,-3.1647 6.5,-3.4082 1,-0.2434 3.75,-0.9737 3.75,-0.9737 l 3.75,0 1.75,-1.7041 0.25,-1.9475 2.25,-1.4606 0,-6.816 c 0,0 2.25,0.4871 3.25,0.4871 z m 35.75,68.1628 1.25,-1.9475 2.75,-1.9475 -4,-2.4344 0,0 -1,1.704 -2,0.7304 -1.25,2.9212 z\" id=\"kt-so\" class=\" reactive tooltip-trigger map-area\"/><desc class=\"value\">SO: 140713</desc><desc class=\"x auto\">0</desc><desc class=\"y auto\">0</desc></g>\n",
       "    <g class=\"zkt-be canton map-element color-0 serie-0 series\" style=\"fill-opacity: 0.783265\"><path d=\"m 713.49934,1024.4153 3.66973,0.7863 2.75229,-1.1795 -0.13106,-2.6212 -2.22805,-3.9319 -1.96592,-1.4417 -3.01442,1.7038 -3.4076,2.3591 -1.04849,2.7523 -0.39319,1.966 2.22805,0.7863 z m -0.1318,2.3278 -5.0938,2.25 -3.7187,1.25 -5.4375,3.0937 -2.75,0 c 0,0 -1.25,-0.9753 -2.25,-1.2187 -1,-0.2435 -2.75,-0.7319 -5.75,-1.2188 -3,-0.4869 -8.5,0.25 -8.5,0.25 l -3,-1 -0.75,-1.6875 -10,-0.25 c 0,0 -2.25,1.2138 -3.75,2.1875 -1.5,0.9738 -6.25,0.9688 -6.25,0.9688 l -5.25,5.375 c 0,0 -2,1.944 -4,2.1875 -2,0.2434 -9,0.9687 -9,0.9687 0,0 -4.5,-0.25 -5.75,-0.25 -1.25,0 -4.25,-0.245 -6.5,-1.2187 -2.25,-0.9738 -6.25,0.5 -6.25,0.5 l 0,-2.9375 -10.75,0.5 -0.25,7.5312 -5.75,2.9375 0,4.375 c 0,0 1,1.4638 1.75,2.4375 0.75,0.9738 0.5,1.4688 -0.75,1.4688 -1.25,0 -2.75,1.4687 -2.75,1.4687 l -4,-1 -6.75,1.2188 -1.25,1.4687 -2.75,0.5 -1,-3.6562 -7.25,1.2187 0.5,5.3438 -3.5,1.4687 -2.25,5.5938 -3.5,6.0937 -7.75,1.6875 -3.5,6.5938 -2.25,0.4687 -2,-2.6562 -3.25,0 -1,-2.9375 -4.5,2.4375 0.25,2.4375 -1.25,2.6875 -4.75,1.9375 -4.75,4.125 -4,1.4687 -2.5,-4.875 0,-2.6562 -1.5,-1.9688 -3.6562,3.25 3.4062,4.5625 3,5.5938 2.5,4.375 -1.75,7.3125 c 0,0 -1.75,2.8962 -3,4.8437 -1.25,1.9476 -0.75,6.8438 -0.75,6.8438 l 2.5,-1.9688 2.25,-0.4687 2.25,-1.9688 6.5,-3.4062 3.25,-2.6563 2.25,0.2188 2,-0.7188 c 0,0 9,-1.9375 11.5,-1.9375 2.5,0 5.5,-3.6562 5.5,-3.6562 l 3,0.9687 3.5,-1.7187 3,1 -5,4.625 3,4.625 2.5,-2.4375 5.5,3.6562 4.5,1.2188 1,3.1562 0.75,3.4063 -2.5,2.6875 2.25,5.5937 -1.75,3.1563 -4,4.125 -5.25,0.75 -3.5,4.125 c 0,0 0.25,2.929 0,6.0937 -0.25,3.1647 -2,3.9063 -2,3.9063 l 3.4375,8.625 2.0625,-0.125 5,1.9687 13,0.7188 22.5,-7.0625 2.25,-2.1875 4.5,-2.4375 2.75,0.25 2,3.4062 -1.25,1.9375 3,3.1563 -5,4.875 -2.25,2.4375 -2.75,1.2187 0.25,1.9375 3.5,0 -1.25,2.9375 1,2.9063 -2,2.2187 2.25,4.375 -1.5,1.6875 -0.5,5.5938 -3.75,2.2187 0.25,2.1875 5.75,-0.5 2.5,1.4688 2.0312,-1.7188 4.4688,0.7188 1.8438,1.6875 1.6874,0.2187 0.5313,0.062 2.1563,1.4375 2.2187,0.031 2.8437,-1.3438 1.4376,-0.062 1.625,1.3438 1.3437,1.0937 1.625,-0.8437 0.875,-0.4375 1.4687,-0.75 4.2813,0.7812 0.4687,0.4688 0.7188,0.6875 0.9688,5.875 1.3124,1.5 -0.0937,0.75 -1.625,2.375 -3.2187,1.1562 -0.7188,2.5 -1.5,-0.5 0,-3.4062 -2.75,0 -2.5,4.625 1.75,1.7187 2.7188,2.5 -0.3126,2.0625 -1.5,0.4375 -1.375,2.2813 0.7188,1.1875 -2.0312,0.4687 1,2.1875 -2.1876,3.3438 -0.375,2.9687 -1.375,1.3438 -0.5937,3.7187 0.75,0.9688 -0.7187,0.3125 -0.6876,1.4062 -1.1874,0.5625 -0.8438,2.5938 3.3438,6.2812 0.4374,0.8125 0.4376,1.6563 -2.5313,8.375 3.3437,6 2.7188,0.375 11,2.6875 -1.5,4.625 5.75,0.4687 1.25,2.9375 2.75,0.4688 c 0,0 0,2.4259 -1,3.1562 -1,0.7304 -1.25,1.7269 0,3.1875 1.25,1.4607 -0.75,2.6775 -1,4.625 -0.25,1.9476 0.5,3.875 0.5,3.875 0,0 -0.5,1.0016 -1.75,2.2188 -1.25,1.2172 -2.75,3.4062 -2.75,3.4062 l -1.5,-3.4062 -1.5,-2.9375 -6.75,-0.25 2.25,5.375 -1.5,2.1875 -3.25,-0.25 0,5.8437 2,1.4688 c 0,0 -0.25,1.6825 -0.5,2.6562 -0.25,0.9738 -2,4.1563 -2,4.1563 l 2.25,3.4062 -2.5,1.4688 -1.75,3.625 -3.5,0.25 -3,-1.9375 c 0,0 -5,6.5641 -6,7.7812 -1,1.2172 -2.25,2.4325 -3.5,3.4063 -1.25,0.9737 -3.5,1.9687 -3.5,1.9687 l 3.25,5.0938 c 0,0 0.25,3.4028 0.5,5.5937 0.25,2.191 -0.5,5.1282 -0.75,7.5625 -0.25,2.4344 -2.75,4.625 -2.75,4.625 l -0.25,2.4375 -2.5,0 0,4.875 2,4.125 c 0,0 -1.5,2.4457 -1.25,3.9063 0.25,1.4606 -0.75,2.9062 -0.75,2.9062 l -1,2.6875 c 0,0 -0.75,0.7254 -2.75,0.9688 -2,0.2434 -5,-0.7188 -5,-0.7188 l -0.5,3.1563 1.25,1.6875 0.75,2.1875 2,2.2187 -0.25,6.0625 c 0,0 -1,2.4457 -2,3.9063 -1,1.4606 -2.25,6.0937 -2.25,6.0937 l 4.3438,0.5625 0.9062,3.0938 1.25,1.9375 3.75,0.4687 -2.5,2.6875 0.75,5.375 -1,5.5938 c 0,0 1.75,1.4491 5.25,0.7187 3.5,-0.7303 5.75,-3.9062 5.75,-3.9062 l 0.25,-8.25 5.75,-2.6875 4.25,-0.5 3.75,-3.1563 0.75,4.375 c 0,0 -1.25,1.2285 -1.25,3.9063 0,2.6778 1.5,4.125 1.5,4.125 l 11.75,-3.1563 11.5,-9.5 8.75,-2.1875 2.5,-1.6875 4.5,1.2188 0.75,2.6562 3.75,-0.9687 0.25,-2.6875 2.25,-0.2188 1.5,2.9063 0,2.9375 5.25,0.2187 1,-2.4375 3.25,0.75 4.75,-0.25 2,-3.4062 3.75,-1.9375 -8,-3.4063 2.25,-5.125 7.5,-0.9687 3.25,-0.9688 2.5,-0.25 c 0,0 1,1.2007 2.25,1.6875 1.25,0.4869 2.5,-0.9687 2.5,-0.9687 l -0.5,-3.1563 2.75,-2.1875 0.25,-3.4062 2.75,-0.9688 2,-1.7187 17.75,7.5625 3.75,3.875 3.25,0 1.75,-2.4375 3.25,-0.2188 11.25,-8.2812 c 0,0 5.5,-6.5756 8,-7.0625 2.5,-0.4869 6,-3.4063 6,-3.4063 l 5.25,-3.4062 7.25,0 8.5,-2.9375 7.25,-4.375 3.25,-4.625 5,-0.5 3.5,-5.0938 c 0,0 -1.25,-4.6199 -1.5,-5.5937 -0.25,-0.9738 -1.5,-2.4375 -1.5,-2.4375 l 0.25,-0.9688 2.5,-3.4062 4.75,-0.25 1.5,-3.4063 3.75,-0.5 2.25,-1.4687 5.25,0 c 0,0 0.25,1.9687 2,1.9687 1.75,0 2.75,0.2188 2.75,0.2188 l 2.5,1.9687 3.75,-1.7187 11.25,3.6562 3.25,4.1563 7.25,2.1875 5.5,0.2187 1,4.1563 10.75,-1.4688 12.25,-1.9375 1.5,-2.1875 4.5,-0.25 2,-2.6875 3.5,-0.9687 4.25,-5.3438 6,-0.9687 6.5,-7.5625 0,-3.9063 0,-4.8437 2.25,-3.9063 0.25,-7.7812 3.5,-2.4375 4,-6.0938 3.25,-0.5 -0.25,-4.8437 -3,-2.9375 0.25,-7.7813 6.25,2.6875 9.25,-0.25 0.25,-8.5312 -2.75,-2.9063 0.25,-5.8437 -1.5,-2.9375 0.75,-3.1563 -1,-2.9375 2,-1.2187 0.0312,-3.1563 -0.28125,-2.9062 -2.5,-0.5 -3,0.9687 -2.5,-0.7187 -3,1.9375 -3,0 0.5,-2.1875 -2,-2.4375 -1.5,-0.25 -2,-3.625 -2.75,0 -2.25,2.4375 -6,0 -4,2.9062 -9.5,7.5313 -5.25,-0.2188 -2.75,-4.1562 -4.25,-1.6875 -4,2.6562 -4.25,-1.2187 -1,-1.6875 -5.5,-0.25 -3.25,1.7187 -3.25,-0.25 -5.75,4.375 c 0,0 -3.25,-3.6396 -4.75,-5.3437 -1.5,-1.7041 -6.25,-2.1875 -6.25,-2.1875 l -4.25,-5.625 -3.25,0.75 -2,-1.9688 -2.75,1.4688 -1.25,-2.1875 -2,1.7187 -3,-0.25 c 0,0 -2.5,-0.9868 -4.5,-0.5 -2,0.4869 -3.75,2.1875 -3.75,2.1875 l -2.25,0 -2,3.1875 -6,0.9688 -2,-3.4063 -3,-1.9687 1.25,-2.4063 -1.75,-3.4375 -6.5,-4.625 -8.5,-5.0937 -6.75,-2.9375 -1.75,-4.625 0.25,-5.5938 -0.75,-2.6562 -2.25,0 -0.5,-5.125 1,-1.4688 3.25,-0.9687 3.25,-8.0313 -3.5,-2.6875 c 0,0 1.5,-4.6134 2.75,-5.3437 1.25,-0.7303 4,-1.7188 4,-1.7188 l 2.5,1 3.75,-1 1,-5.5937 3.25,-0.9688 -0.25,-5.3437 3.5,-1.2188 -0.25,-4.625 2,-1.2187 -0.5,-6.0938 1.75,-2.9062 -1.25,-1.7188 -4.25,1.2188 -3,-2.4375 -4,1.2187 -2,0 -1.5,-1.7187 0.5,-1.1875 0.5,-3.6563 -1.75,-1 0,-3.1562 -2.5,-0.4688 -0.5,-3.6562 -2.5,-0.25 -1.25,-3.1563 c 0,0 -0.75,-1.4703 0,-2.6875 0.75,-1.2171 1.5,-5.8437 1.5,-5.8437 l 1.25,-7.5313 -1.5,-3.9062 0,-4.125 -1.25,-2.4375 0.25,-3.4063 4.25,-2.4375 1,-4.625 c 0,0 -0.5,-1.9703 -1.5,-3.1875 -1,-1.2172 -2.5,-2.6528 -2.5,-4.8437 0,-2.191 0,-2.4325 0.75,-3.4063 0.75,-0.9737 1.75,-1.49 1,-3.4375 -0.75,-1.9475 -1.25,-3.3881 -2.25,-3.875 -1,-0.4869 -2.75,-1.4687 -2.75,-1.4687 l -1.5,-4.625 -3.25,-7.3125 -2.25,-2.1875 0,-4.875 c -1.25,-1.2172 -2.75,-2.1891 -3,-3.4063 -0.25,-1.2172 0.5,-3.1562 0.5,-3.1562 l -1.65625,-4.9063 -3.375,0.5313 -1.90625,-1.375 -0.8125,-0.031 -4.25,3.8437 -2.75,-0.5 -0.5,-3.6562 -4,1.4687 -0.75,2.6875 -3.5,0.25 -1.25,-1.4687 -2.25,0.7187 -3,-5.5937 -2.75,-0.9688 -2,-3.9062 -2,-0.7188 -1.75,-2.1875 -2,0 -1.5,1.9375 -3.5,0 -1.75,1.4688 c 0,0 -2,0.9687 -4.75,0.9687 -2.75,0 -10,0.4753 -11.25,0.7188 -1.25,0.2434 -6.25,1.9687 -6.25,1.9687 l 4.75,4.375 0,7.7813 8.5,6.8125 4.5,0.25 2.75,7.3125 -1,2.9062 3.5,0.5 4.25,3.6563 -1.25,1.2187 0,1.6875 2,1.2188 -2.5,5.125 -3,0.4687 -2.25,3.6563 0,3.6562 -2.75,0 0,-1.7187 -5,0.75 -1.5,-2.1875 -2.25,2.1875 -5.5,0.7187 -3.5,-5.8437 -2,0.75 -2.75,-1.9688 -2.5,2.4375 -7,-0.7187 -1.25,2.4375 2.25,3.1562 -4,4.625 0.25,4.375 -7.25,4.625 -3,1.2188 -4.75,1.7187 0,2.4375 1.5,3.1562 2.5,3.6563 -2.5,3.1562 -3.5,1.4688 -3.75,0 c 0,0 -1.25,-0.7466 -2.25,-2.9375 -1,-2.191 1.5,-3.6563 1.5,-3.6563 l -1,-3.1562 -10.25,2.6875 -3.5,-1.4688 -1.75,-3.6562 -1.75,-3.875 0,-3.4062 4.25,-0.75 4.5,2.1875 6.75,-1.9375 3,0.25 -0.75,-3.4063 -3,-0.25 -0.75,-1.7187 1.75,-2.4375 3.5,0 -0.5,-3.625 2,-1.9688 2.75,0 3.5,1.9688 4.75,-3.1875 1.25,-1.9375 1,-2.9063 -3.75,-0.75 -2.25,-3.875 1.25,-1.9687 -1.5,-1.4688 -2,1 -4,0 0.5,2.6563 -2.5,1.7187 -1.25,-2.4375 -2.25,0.5 0.75,3.875 -3.75,0.5 -1.25,3.4063 -3.25,0.25 -3.5,0.9687 -2.25,-0.9687 -0.5,-2.4375 3,-0.9688 -4,-7.0625 -2.5,-1.4687 -3.25,0 -3.75,-7.0625 0,-2.9063 3,-1.7187 2.75,0.7187 2.25,-0.7187 1.25,-1.7188 8,-3.625 1,-1.9687 3.25,-0.7188 -0.75,-2.1875 0.25,-2.9375 3,-0.9687 2.5,-2.6875 6.5,-0.2188 2.5,-1.2187 c 0,0 1.75,-5.1266 3,-6.3438 1.25,-1.2172 5.5,-3.1628 6.5,-3.4062 1,-0.2435 3.75,-0.9688 3.75,-0.9688 l 3.88106,-0.2621 1.95728,-1.3503 0.12241,-2.1366 2.03925,-1.376 0,-4.625 z m 39,60.1562 4,2.4063 -2.75,1.9687 -1.25,1.9375 -4.25,-0.9687 1.25,-2.9375 2,-0.7188 z\" id=\"kt-be\" class=\" reactive tooltip-trigger map-area\"/><desc class=\"value\">BE: 650369</desc><desc class=\"x auto\">0</desc><desc class=\"y auto\">0</desc></g>\n",
       "    <g class=\"zkt-bl canton map-element color-0 serie-0 series\" style=\"fill-opacity: 0.401851\"><path d=\"m 715.58785,927.50776 2,2.67782 -2,1.94751 0,2.92127 4.25,-0.24344 2.5,0.24344 1.75,1.9475 -1.25,2.92127 1.75,2.19094 0.25,3.16471 2.25,-0.24344 2,-4.86877 4.5,-3.40814 0,-3.40814 0,-2.19095 1,-1.21719 3.65704,-2.43748 0.31329,0.42176 1.02148,1.73188 0.87939,0.78451 4.10254,3.67155 1.83936,1.64868 1.57275,1.40429 1.49951,0.43006 2.84131,-0.51707 4.19385,-2.88275 1.62354,-0.93595 0.85145,2.07682 2.10449,3.85436 4.25,0.73032 1,2.67782 5,-0.24344 7.75,2.67783 0.5,5.11221 1.5,2.43438 -1.5,1.46063 -0.25,1.70407 6,-2.19094 2,-3.65158 2.25,-0.97376 2.5,-3.1647 -0.75,-6.08596 6,-0.73032 3.25,5.59909 2.75,-0.48688 0.75,3.1647 1.75,2.43439 2.75,0.97375 0.5,3.40814 2,2.19095 -0.5,2.67783 6.5,0.48687 2.25,0.97376 3,-1.2172 -1,8.03348 2.25,0.24344 2,2.43438 0,0 -0.5,3.1647 -2.25,2.19095 1,4.62533 0.75,1.70407 2.5,1.21719 -1.5,2.43439 -0.25,2.19095 -2.75,-0.73032 -2.75,0.97375 0,2.67783 -7.5,2.92126 -5,-2.67782 -5.5,4.13845 2.25,2.92127 0.25,2.43433 -9.25,2.191 -2.5,1.7041 -1,3.4081 -8.25,1.4606 -2.25,3.1647 0,4.6254 -2,1.4606 -4.5,-0.2434 -1.25,-1.4607 -3.25,0 -2.5,-2.1909 -5.25,-8.7638 -3.25,-0.7303 c 0,0 -2.5,-0.4869 -4.25,-0.4869 -1.75,0 -6,0.7303 -6,0.7303 l -2.5,0.9738 -6.5,0.7303 -1,-4.8688 -2.25,-2.19093 1.5,-1.21719 -1.5,-8.76379 8.5,0 4.75,-3.65158 1.25,-6.32939 -0.75,-4.13846 2,-3.16471 3.5,-1.9475 1,-2.92126 1.5,-1.2172 -3.75,-5.59908 -3.5,0 -1.25,-1.70407 -2.5,0 -2.25,-4.62534 -3,0 -1.25,1.94751 2.5,0.73031 0.25,1.70407 -3.25,0 -2.25,1.70407 -8,-2.67782 0.5,3.40814 -0.75,1.94751 0.25,2.43438 3.25,1.2172 0.75,2.92126 -2.25,5.84253 0.5,4.38189 -6.25,0.24344 c 0,0 -1,1.46063 -2.5,1.70407 -1.5,0.24344 -1.75,-2.67783 -1.75,-2.67783 l -2.75,-0.73031 0,5.11221 1,1.94751 2.5,2.43438 -11.25,-0.24344 -2.5,0.24344 -2.25,1.94751 2,2.67783 -2.25,5.11221 c 0,0 -2.25,0.24343 -3.75,0.24343 -1.5,0 -2,1.94751 -2,1.94751 l -4.25,-0.97375 -2.25,-1.46063 -0.5,-4.3819 -5.25,-0.24344 -3.25,-0.48687 -2,1.94751 1.5,1.70407 0,2.43438 -1.5,0.73032 0.5,2.6778 -6.5,-0.2434 -1,-5.84254 -3,-0.73032 c 0,0 -3.5,-1.70407 -3.75,-3.1647 -0.25,-1.46063 -0.75,-3.40814 -0.75,-3.40814 l -2.78027,-0.47797 1.25,-2.67782 0.16482,-3.53384 -1.13395,-1.8307 -6,0 c 0,0 -1.75,0 -3,-1.70407 -1.25,-1.70407 -4.2503,-0.73032 -4.2503,-0.73032 l -0.2503,3.895 2.75,0 c 0,0 0.5,1.70407 2,2.67783 1.5,0.97375 3.25,1.9475 3.25,1.9475 l 0,1.94751 5,-0.24344 3,0.73032 c 0,0 3.75,0.48688 5.5,0.73032 1.75,0.24343 4.25,0.48687 4.25,0.48687 l 1.75,-1.94751 2,0 2.5,0.97376 c 0,0 2,-1.70407 2.5,-2.92126 0.5,-1.2172 0.75,-3.40814 0.75,-3.40814 l -1,-3.16471 -3.25,-3.40814 -2.75,0.73032 -3.62871,-1.06521 4.12931,-5.75105 2.52409,-0.60721 4.47531,4.74565 4.75,-2.67782 3.25,-0.24344 2,-1.70407 3.5,0.73031 3.75,-0.97375 4,-0.24344 -1.75,-3.65158 0,-2.43438 1.5,-0.48688 0.5,-4.86877 -1,-2.19095 -4.7497,-1.21718 -1.2497,-3.40813 -0.25,-2.67783 -2.5,-1.70407 4.25,0 2.5,0.48688 2,-3.89502 -2.75,-2.67782 -2.5,1.21719 -3,0 -1.25,-2.92126 3.25,-3.1647 3,0 6,-6.32941 4,-1.21719\" id=\"kt-bl\" class=\" reactive tooltip-trigger map-area\"/><desc class=\"value\">BL: 143547</desc><desc class=\"x auto\">0</desc><desc class=\"y auto\">0</desc></g>\n",
       "    <g class=\"zkt-bs canton map-element color-0 serie-0 series\" style=\"fill-opacity: 0.362918\"><path d=\"m 738.11859,927.30616 -3.5,2.67782 -1,1.21719 0,2.19095 0,3.40814 -4.5,3.40814 -2,4.86877 -2.25,0.24344 -0.25,-3.1647 -1.75,-2.19095 1.25,-2.92126 -1.75,-1.94751 -2.5,-0.24344 -4.25,0.24344 0,-2.92126 2,-1.94751 -1.9997,-2.67781 1.7504,-4.62532 2.5,-0.97375 4.375,0.24344 0.375,-5.35565 4.25,0.73032 0.75,4.13845 5.5,-0.73031 5.5,-7.05972 5.25,0.97375 5.5,-2.92126 3.75,-0.73032 -3.25,3.1647 -4,2.92127 2.25,3.1647 c 0,0 0.75,1.70407 0.5,3.1647 -0.25,1.46063 -2.75,2.67782 -2.75,2.67782 l -3.75,-0.24343 -1.75,1.9475 -3.9366,-0.24962 0.1563,0.18139\" id=\"kt-bs\" class=\" reactive tooltip-trigger map-area\"/><desc class=\"value\">BS: 91813</desc><desc class=\"x auto\">0</desc><desc class=\"y auto\">0</desc></g>\n",
       "    <g class=\"zkt-lu canton map-element color-0 serie-0 series\" style=\"fill-opacity: 0.485799\"><path d=\"m 854.15321,1238.113 -2,1.7041 -3,-0.2435 c 0,0 -2.5,-0.9737 -4.5,-0.4868 -2,0.4868 -3.75,2.1909 -3.75,2.1909 l -2.25,0 -2,3.1647 -6,0.9738 -2,-3.4082 -3,-1.9475 1.25,-2.4344 -1.75,-3.4081 -6.5,-4.6253 -8.5,-5.1123 -6.75,-2.9212 -1.75,-4.6253 0.25,-5.5991 -0.75,-2.6779 -2.25,0 -0.49999,-5.1122 0.99999,-1.4606 3.25,-0.9738 3.25,-8.0334 -3.5,-2.6779 c 0,0 1.5,-4.6253 2.75,-5.3556 1.25,-0.7303 4,-1.7041 4,-1.7041 l 2.5,0.9738 3.75,-0.9738 1,-5.5991 3.25,-0.9737 -0.25,-5.3557 3.5,-1.2172 -0.25,-4.6253 2,-1.2172 -0.5,-6.0859 1.75,-2.9213 -1.25,-1.7041 -4.25,1.2172 -3,-2.4344 -4,1.2172 -2,0 -1.5,-1.704 0.5,-1.2172 0.5,-3.6516 -1.75,-0.9738 0,-3.1647 -2.5,-0.4869 -0.5,-3.6515 -2.5,-0.2435 -1.25,-3.1647 c 0,0 -0.75,-1.4606 0,-2.6778 0.75,-1.2172 1.5,-5.8425 1.5,-5.8425 l 1.25,-7.5466 -1.5,-3.895 0,-4.1385 -1.25,-2.4344 0.25,-3.4081 4.25,-2.4344 1,-4.6253 c 0,0 -0.5,-1.9475 -1.5,-3.1647 -1,-1.2172 -2.5,-2.6779 -2.5,-4.8688 0,-2.191 0,-2.4344 0.75,-3.4081 0.75,-0.9738 1.75,-1.4607 1,-3.4082 -0.75,-1.9475 -1.25,-3.4081 -2.25,-3.895 -1,-0.4869 -2.75,-1.4606 -2.75,-1.4606 l -1.5,-4.6254 -3.24999,-7.3031 -2.25,-2.191 0,-4.8687 m 60.49999,178.9273 0.5,-3.6516 2.25,-1.2172 -1.5,-4.1384 -2,-3.895 c 0,0 -1,-1.2172 -2,-3.1647 -1,-1.9475 0,-4.6254 0,-4.6254 l 3.5,-2.1909 0.25,-3.4082 2.75,-0.7303 1,-9.0072 -1,-2.4344 0.75,-3.4081 3.75,-0.7303 0.75,-3.4082 2.25,-1.7041 3.75,1.2172 c 0,0 -1,1.9475 -0.75,3.4082 0.25,1.4606 1.5,3.1647 1.5,3.1647 0,0 4,-9.4941 6,-11.1982 2,-1.7041 8.5,-6.5728 8.5,-6.5728 l 1,-2.9213 -4,-2.9213 c 0,0 -0.5,-2.9212 1.5,-4.1384 2,-1.2172 8.00001,-4.1385 8.00001,-4.1385 l 3.75,1.4607 7.5,0.2434 1.125,-2.6778 -3.625,-1.9475 1.75,-5.1122 4.25,0 0.5,2.1909 3.25,-0.7303 3.25,-3.895 3,0.7303 3.75,0.9737 2.75,-1.4606 5,-0.9737 3,1.9475 9.75,-10.2245 4,0.2435 0.75,9.2506 4.25,-0.7303 7.5,-0.2434 0.75,-6.086 8.5,2.191 0.5,4.4874 3.5,-0.8359 7,-1.4606 2.25,-1.7041 c 0,0 0.75,-1.4606 0.75,-2.6778 0,-1.2172 -0.25,-3.1647 -0.25,-3.1647 l -3,0 -4,-4.8688 -3.75,-2.4343 -1,-2.4344 -2.25,-0.2435 -5.25,-3.6515 0.25,-1.9476 -4.25,-1.2171 -9.75,1.9475 -1.5,-4.1385 5,-4.6253 0.25,-4.6254 3.25,-1.9475 0,-2.4344 2.25,-0.7303 1.75,-0.2434 1.25,-2.191 4,-0.4868 -1.99999,-7.3032 -4.5,3.4082 -3.75,0 -1.75,-0.9738 1.5,-4.3819 -2.00001,-1.4606 -9.75,-0.9738 -2.75,-1.9475 -2.75,-6.0859 -4,-5.5991 -0.25,-5.8426 -2,-1.9475 -0.5,-7.0597 -1.75,-1.7041 -1,-7.0597 -1,-6.0859 -4.75,-4.1385 -0.75,-3.895 1,-2.9213 -4,-2.9212 -3.5,-0.9738 -2.75,-1.4606 -2.75,0.4869 -2.5,2.1909 -0.25,2.4344 -2.5,0.2434 -4,8.7638 -3,2.191 -0.75,7.79 -7.75001,1.7041 -0.5,-1.9475 -3,-0.9738 -1.5,-3.6516 5.75,-0.7303 -0.5,-1.9475 1.25,-1.9475 -3.25,-1.4606 -3.75,1.9475 c 0,0 -3.25,0.7303 -4.5,0.7303 -1.25,0 -1.75,0.2434 -3,1.7041 -1.25,1.4606 -3,-0.4869 -3,-0.4869 0,0 -0.75,-0.2435 -2.5,-0.2435 -1.75,0 -1.25,-1.4606 -1.25,-1.4606 l 0,-2.6778 -4,-2.6778 c 0,0 -1,0.2434 -2,0.4868 -1,0.2435 -2.75,1.9475 -2.75,1.9475 l -4.5,0.4869 1.25,3.6516 c 0,0 -4.25,0.7303 -5.75,0.9738 -1.5,0.2434 -3,1.4606 -3,1.4606 l -3.75,-1.4606 0.25,-5.3557 -3.5,-4.8688 0,-2.6778 -2.5,-1.9475 -2.5,2.1909 -2.75,0.2435 -1.5,-1.2172 -3.5,0.4869 -1.75,1.704 3.5,7.0598 -6.75,8.0334 -4.75,-0.9737 c 0,0 -0.25,-0.9738 -1.5,-1.9475 -1.25,-0.9738 -3.5,-0.7303 -5,-0.4869 -1.5,0.2434 -8.75,2.4344 -8.75,2.4344 0,0 -2.24999,1.704 -3.24999,1.9475 -1,0.2434 -2.75,-0.2435 -4,-1.4606\" id=\"kt-lu\" class=\" reactive tooltip-trigger map-area\"/><desc class=\"value\">LU: 255097</desc><desc class=\"x auto\">0</desc><desc class=\"y auto\">0</desc></g>\n",
       "    <g class=\"zkt-ow canton map-element color-0 serie-0 series\" style=\"fill-opacity: 0.312445\"><path d=\"m 902.16525,1167.9935 -7.5,-0.2434 -3.75,-1.4607 c 0,0 -6.00001,2.9213 -8.00001,4.1385 -2,1.2172 -1.5,4.1385 -1.5,4.1385 l 4,2.9212 -1,2.9213 c 0,0 -6.5,4.8688 -8.5,6.5728 -2,1.7041 -6,11.1982 -6,11.1982 0,0 -1.25,-1.7041 -1.5,-3.1647 -0.25,-1.4606 0.75,-3.4081 0.75,-3.4081 l -3.75,-1.2172 -2.25,1.704 -0.75,3.4082 -3.75,0.7303 -0.75,3.4081 1,2.4344 -1,9.0072 -2.75,0.7304 -0.25,3.4081 -3.5,2.1909 c 0,0 -1,2.6779 0,4.6254 1,1.9475 2,3.1647 2,3.1647 l 2,3.895 1.5,4.1385 -2.25,1.2171 -0.5,3.6516 1.25,2.191 2.75,-1.4607 2,1.9476 3.25,-0.7304 4.25,5.5991 c 0,0 4.75,0.4869 6.25,2.191 1.5,1.704 4.75,5.3556 4.75,5.3556 l 5.75,-4.3819 3.25,0.2435 3.25001,-1.7041 5.5,0.2434 1,1.7041 4.25,1.2172 4,-2.6778 4.25,1.704 2.75,4.1385 5.25,0.2434 9.5,-7.5466 4,-2.9212 6,0 2.25,-2.4344 1.75,-0.2434 -3,-3.6516 -3.75,-1.4607 -1.25,-3.4081 -5.25,-5.1122 -0.5,-1.9475 3.75,-1.2172 0,-2.9213 -1.5,-0.7303 -0.25,-3.4081 0.25,-3.6516 1.25,-3.4081 -1.5,-3.1647 -0.25,-2.9213 1.25,-1.7041 0.25,-2.1909 2,-0.9738 0,-2.9212 c 0,0 -2.25,-1.9476 -1,-2.9213 1.25,-0.9738 2.25,-3.6516 2.25,-3.6516 0,0 -2.75,-1.2172 -1.5,-2.6778 1.25,-1.4606 1.25,-2.191 1.25,-2.191 l -1.25,-1.4606 -4.75,2.191 -4,0.2434 -4.5,-4.1385 1.75,-3.6515 3.25,-2.6779 -2.5,-5.8425 2.75,-1.7041 -2.25,-4.1384 -4,0.9737 -5,-0.9737 -3.75,-0.2435 -3,2.4344 -3.375,-0.2434 z m 50.16242,76.9533 4,0.7303 -2,-5.5991 -2.25,-0.4869 -3.5,-3.1647 -3.75,-3.4081 0,-3.1647 -2,-0.2434 -1.25,-1.4607 -0.5,-2.6778 -2,-3.4081 -1.75,-4.3819 -0.25,-3.1647 -1.25,-0.4869 0.25,-2.4344 1.5,-1.2172 0.5,-3.6516 2.75,-0.4868 2.5,0.2434 0.75,2.9213 -2.5,2.6778 -0.4668,4.1612 2.9668,-2.2137 2,-0.4869 2.5,-3.1647 2.25,-0.2434 0.25,-2.191 2.25,0 1.5,3.4082 -0.5,3.6515 4,0.7304 4.25,-1.4607 5.25,-0.4869 4,-0.7303 1.75,0.9738 3,0.2434 1.75,2.4344 -0.25,2.6778 -2.75,0.9738 -2.75,2.9213 0,3.895 -1.5,2.6778 c 0,0 0.5,2.6778 0.5,3.6516 0,0.9737 -1.75,0.9737 -1.75,0.9737 l -2.5,0 0,3.4082 3.75,0.4868 0.25,2.9213 2.5,2.6778 1.5,1.9475 -2,2.4344 -3.25,1.2172 c 0,0 -1.25,-0.2434 -3.5,-0.9737 -2.25,-0.7303 -2.5,2.1909 -2.5,2.1909 l -2.5,0 0,-2.9212 -2.5,-0.4869 -3,0.9737 -2.5,-0.7303 -3,1.9475 -3,0 0.5,-2.1909 z\" id=\"kt-ow\" class=\" reactive tooltip-trigger map-area\"/><desc class=\"value\">OW: 24745</desc><desc class=\"x auto\">0</desc><desc class=\"y auto\">0</desc></g>\n",
       "    <g class=\"zkt-nw canton map-element color-0 serie-0 series\" style=\"fill-opacity: 0.311054\"><path id=\"kt-nw\" d=\"m 940.0121,1146.7143 -9.75,10.2187 -3,-1.9375 -5,0.9688 -2.75,1.4687 -3.75,-0.9687 -3,-0.75 -3.25,3.9062 -3.25,0.7188 -0.5,-2.1875 -4.25,0 -1.75,5.125 3,1.9375 4,0.25 3,-2.4375 3.75,0.25 5,0.9687 4,-0.9687 2.25,4.125 -2.75,1.7187 2.5,5.8438 -3.25,2.6562 -1.75,3.6563 4.5,4.1562 4,-0.25 4.75,-2.1875 1.25,1.4688 c 0,0 0,0.7268 -1.25,2.1875 -1.25,1.4606 1.5,2.6562 1.5,2.6562 0,0 -1,2.6825 -2.25,3.6563 -1.25,0.9737 1,2.9375 1,2.9375 l 0,2.9062 -2,0.9688 -0.25,2.1875 -1.25,1.7187 0.25,2.9063 1.5,3.1875 -1.25,3.4062 -0.25,3.6563 0.25,3.4062 1.5,0.7188 0,2.9375 -3.75,1.2187 0.5,1.9375 5.25,5.0938 1.25,3.4062 3.75,1.4688 3,3.6562 1,0.25 2,3.6563 1.5,0.25 1.35484,2.4062 5.46774,-2.4949 3.42851,0.4655 -1.48827,-5.2053 -2.44024,-0.5155 -3.82258,-3.1563 -3.75,-3.4375 0,-3.1562 -2,-0.25 -1.25,-1.4375 -0.5,-2.6875 -2,-3.4063 -1.75,-4.375 -0.25,-3.1875 -1.25,-0.4687 0.25,-2.4375 1.5,-1.2188 0.5,-3.6562 2.75,-0.4688 2.5,0.2188 0.75,2.9375 -2.5,2.6875 -0.46875,4.1562 2.96875,-2.2187 2,-0.5 2.5,-3.1563 2.25,-0.25 0.25,-2.1875 2.25,0 1.5,3.4063 -0.5,3.6562 4,0.7188 4.25,-1.4375 5.25,-0.5 0.5,-3.4375 0.75,-2.9063 -1.5,-2.1875 3.375,-2.875 -1.875,-4.1875 -3.75,-1.4687 1.5,-2.9063 5.25,-1.4687 0.25,-3.9063 3,-0.25 1.75,1.9688 3.5,-1.4688 2,-2.4375 3.5,0.25 3.75,-3.6562 -1,-2.6875 4.25,-0.4688 -0.75,-4.375 0.25,-4.875 4.5,-6.5937 -1.5,-6.8125 c -2.25,0.2434 -8.5,3.4062 -8.5,3.4062 l -11,2.1875 c 0,0 -3.5,1.2419 -7.5,-0.2187 -4,-1.4606 -2.25,-6.3438 -2.25,-6.3438 l -0.5,-4.625 -8.5,-2.1875 -0.75,6.0938 -7.5,0.25 -4.25,0.7187 -0.75,-9.25 z\" class=\" reactive tooltip-trigger map-area\"/><desc class=\"value\">NW: 22896</desc><desc class=\"x auto\">0</desc><desc class=\"y auto\">0</desc></g>\n",
       "    <g class=\"zkt-sh canton map-element color-0 serie-0 series\" style=\"fill-opacity: 0.331915\"><path d=\"m 986.14443,918.07809 -1.1274,3.0018 1.7588,2.0552 3.0752,6.0774 1.416,-1.1268 0.25,-2.9213 0.5,-1.7041 2.5,-2.9212 2.4523,-4.7663 -5.9393,-1.2081 z m 94.05727,-27.07061 -3.5,0.1217 -0.7735,0.8834 -2.6015,2.0968 -2.9002,-2.62526 0.086,-1.39644 -1.6776,-2.02581 -3.1564,-2.76999 -4.2212,-1.2814 -1.4573,0.53642 -3.7901,-0.88061 -0.176,-4.20961 1.263,-3.832 1.7588,-1.0279 -2.4624,-4.1104 -5.8892,-0.6852 -0.7036,-3.3368 4.834,-4.7958 2.4624,-0.3426 -2.1108,-2.9942 2.8144,-3.7681 3.7783,5.1381 -1.3159,2.3094 2.3716,2.3978 0.7036,4.1108 4.2212,-1.3703 2.7231,2.6517 5.9805,0 0.7036,4.4532 -5.6284,0.6852 1.7588,2.6516 -1.0557,2.7404 3.8701,1.0277 2.7232,7.4475 z m -62.6551,-17.49049 -2.875,-0.852 -4.375,-0.1218 -2.125,1.8258 -0.875,4.1385 -2,1.9475 -3.2728,5.2834 -0.3847,-0.043 -7.99097,1.6889 -1.0552,-2.6515 -9.4072,3.6792 0.7036,6.0774 c 0,0 -4.4819,-1.7129 -6.5928,-1.3703 -2.1108,0.3426 -4.8339,1.3703 -4.8339,1.3703 l -3.1661,-1.0277 0.7036,3.4255 -5.1855,-2.0555 0,-4.0219 -3.8696,0.3428 -3.7788,-3.0832 -2.8145,-2.0552 -2.814,0.6852 -1.4072,-4.022 3.5176,-1.0277 1.0557,-2.7404 -2.1109,-3.6796 -3.166,-1.7126 3.5181,-4.3643 5.5371,-1.028 4.5732,-4.4532 0.3521,-2.994 -0.7036,-3.0832 2.4624,-5.0497 2.3715,-3.4255 4.2212,-4.3645 6.2412,-2.0552 2.4624,1.7129 3.0752,-2.3981 5.2764,-1.3703 4.834,1.0278 2.8144,-0.6852 -0.7036,-3.6791 -2.8139,-1.7129 1.4072,-5.392 3.4263,2.3088 7.03567,-0.3423 2.7236,2.3978 -0.352,4.7071 1.7593,3.4255 -1.4073,3.4255 2.1104,1.2816 0,3.4255 6.5928,-3.7681 1.0556,-3.6794 -1.4072,-4.1106 0.3515,-4.022 2.4629,-2.398 1.7588,3.7683 4.4824,2.9943 0.7032,3.768 0.2578,4.4537 4.2246,1.9661 5.2768,-2.7404 5.8892,6.1659 -4.6626,1.859 -3.689,2.5055 0,3.7683 2.4624,3.3366 4.1304,1.0277 -2.5743,8.4091 -4.3705,-3.702 -1.4073,-3.6794 -4.4819,1.0277 -5.5376,-0.6851 -0.7036,2.6516 2.084,3.7681 -1.25,3.895 z\" id=\"kt-sh\" class=\" reactive tooltip-trigger map-area\"/><desc class=\"value\">SH: 50616</desc><desc class=\"x auto\">0</desc><desc class=\"y auto\">0</desc></g>\n",
       "    <g class=\"zkt-ag canton map-element color-0 serie-0 series\" style=\"fill-opacity: 0.551551\"><path d=\"m 789.65633,1047.8675 1.6533,4.908 c 0,0 -0.75,1.9475 -0.5,3.1647 0.25,1.2172 1.75,2.191 3,3.4082 1.25,1.2172 3,1.704 4,1.4606 1,-0.2434 3.25,-1.9475 3.25,-1.9475 0,0 7.25,-2.191 8.75,-2.4344 1.5,-0.2434 3.75,-0.4869 5,0.4869 1.25,0.9737 1.5,1.9475 1.5,1.9475 l 4.75,0.9737 6.75,-8.0334 -3.5,-7.0598 1.75,-1.704 3.5,-0.4869 1.5,1.2172 2.75,-0.2434 2.5,-2.191 2.5,1.9475 0,2.6778 3.5,4.8688 -0.25,5.3557 3.75,1.4606 c 0,0 1.5,-1.2172 3,-1.4606 1.5,-0.2435 5.75,-0.9738 5.75,-0.9738 l -1.25,-3.6516 4.5,-0.4868 c 0,0 1.75,-1.7041 2.75,-1.9476 1,-0.2434 2,-0.4868 2,-0.4868 l 4,2.6778 0,2.6778 c 0,0 -0.5,1.4606 1.25,1.4606 1.75,0 2.5,0.2435 2.5,0.2435 0,0 1.75,1.9475 3,0.4869 1.25,-1.4607 1.75,-1.7041 3,-1.7041 1.25,0 4.5,-0.7303 4.5,-0.7303 l 3.75,-1.9475 3.25,1.4606 -1.25,1.9475 0.5,1.9475 -5.75,0.7303 1.5,3.6516 3,0.9738 0.5,1.9475 7.75,-1.7041 0.75,-7.79 3,-2.191 4,-8.7638 2.5,-0.2434 0.25,-2.4344 2.5,-2.1909 2.75,-0.4869 2.75,1.4606 3.5,0.9738 4,2.9212 -1,2.9213 0.75,3.895 4.75,4.1385 1,6.0859 1,7.0598 1.75,1.704 0.5,7.0597 2,1.9475 0.25,5.8426 4,5.5991 2.75,6.0859 2.75,1.9475 9.75,0.9738 10e-5,0 1.25,-3.1647 c 0,0 1.5,-6.3294 1.5,-7.79 0,-1.4607 0,-2.191 -0.75,-3.4082 -0.75,-1.2172 -2.25,-3.1647 -2.25,-4.1384 0,-0.9738 -0.5,-2.191 0,-3.1647 0.5,-0.9738 1,-2.4344 0.75,-3.8951 -0.25,-1.4606 -1.75,-8.0334 -1.75,-8.0334 l -1.5,-3.895 0.25,-2.5561 2.25,-4.1385 0,-1.8258 c 0,0 -0.75,-2.1909 -0.75,-3.4081 0,-1.2172 -1,-3.1647 -1,-3.1647 l -0.5,-5.1122 -3.75,-3.6516 4,0.7303 1.75,-1.9475 2.75,0.2434 1.5,-2.4344 2.25,-0.7303 0.25,-3.4081 c 0,0 1.25,-2.191 2.25,-2.9213 0.5,-0.3651 3.521,-2.7028 3.9261,-6.5994 -1.0881,0.6619 -2.9261,1.8524 -3.9261,1.9741 -2,0.2434 -4.5,0.9737 -5.5,1.2172 -1,0.2434 -3,0 -2,-1.9475 1,-1.9475 1.5,-2.6779 0,-4.1385 -1.5,-1.4606 -2.25,-1.7041 -1.75,-3.6516 0.5,-1.9475 0.75,-3.895 0.75,-3.895 l -0.5,-3.6516 -3.25,-3.895 -0.25,-6.32941 -2.75,-0.4869 -1,-1.704 -3.75,0 0,-2.191 3.5,-0.4869 0.75,-3.6515 1,-1.7041 1.25,-2.4344 -4.25,-1.4606 2.25,-3.1647 -0.75,-3.1647 1.5,-2.191 -1,-3.4081 -3,-0.4869 -1.25,-3.895 2.25,-1.2172 -0.5,-3.6516 -2.75,0.2435 -0.75,-5.5991 1,-1.9475 -1.25,-2.6779 1.5,-2.6778 4,0 0.5,-3.1647 1.25,-2.9212 2.75,1.704 0.75,-3.1647 1.75,-0.4869 0,-3.1647 2.25,-1.9475 1.75,-0.7303 -0.75,-2.9212 0.75,-2.9213 1.25,-2.6778 1.6132,-3.1761 1.0039,0.017 -0.7519,0.061 -0.252,-0.078 -3.6191,-1.1459 -0.8223,-0.4146 -3.0381,-1.7279 -3.0532,0.297 -3.2295,3.3049 -2.2124,0.4448 -4.6723,-0.3506 -4.8418,-1.2564 -0.7559,-0.4215 -0.6919,-0.3745 -0.7388,-0.4084 -3.7529,-4.7271 -3.0405,-1.7853 -0.1026,-0.3034 0.4043,-3.5256 -2.3335,-3.0325 -3.5254,-1.5883 -4.3154,0.3887 -3.1763,-2.8457 -3.1328,0.3286 c -0.4609,0.4474 -0.9868,1.1142 -1.6167,1.3294 l -0.7173,0.2292 c -0.562,0.1728 -1.2338,0.3727 -1.9394,0.599 -1.2759,-1.4368 -0.7109,-2.863 -3.0396,-3.9297 -5.2929,-2.4258 -7.8554,2.3022 -10.4223,5.427 -5.5034,6.6988 -9.9331,3.6737 -15.6387,9.2197 l -0.7982,0.5483 -4.4761,0.5411 -2.7085,2.7235 -2.1553,6.4387 -0.5576,0.1189 -2.7695,-1.2823 -2.9312,-1.3939 -1.9346,0.4743 -1.4155,0.3369 -2.4624,3.3202 -0.9575,0.3385 -0.25,0.089 -3.3311,0.7674 -3.2168,1.1261 -0.9755,0 -2.564,-1.8831 -2.7358,-0.8453 -3.2247,0.4288 -4.1411,0.053 -4.2924,0.043 -1.7129,1.5974 -1.0108,2.3908 -0.9414,0.1593 -2.5347,-0.8042 -1.9848,-1.3178 -0.3838,-0.7797 -0.3643,-2.5918 -0.1606,-1.1252 -0.3438,-2.4546 -0.1489,-1.0403 -2.0771,-4.1756 -1.4995,-1.1941 -0.9703,-0.2948 -2.5727,-0.8033 -3.3784,-0.3233 -9.8169,2.0371 -2.7593,-1.2345 -2.6318,-0.056 -3.9062,1.9756 -0.354,2.354 -0.8765,2.2461 -2.2485,2.727 -1.3184,1.5945 -1.0019,0.7023 -1.7085,0.5634 -1.9546,0.6091 -3.8863,1.1912 -1.3481,0.3036 -0.398,0.089 -11.604,2.6196 -1.6235,0.936 2.475,1.1408 2.1045,3.8544 4.25,0.7303 1,2.6778 5,-0.2434 7.75,2.6778 0.5,5.1122 1.5,2.4344 -1.5,1.4607 -0.25,1.704 6,-2.1909 1.9999,-3.6516 2.25,-0.9738 2.5,-3.1647 -0.75,-6.0859 6,-0.7303 3.25,5.5991 2.75,-0.4869 0.75,3.1647 1.75,2.4344 2.75,0.9737 0.5,3.4082 2,2.1909 -0.5,2.6778 6.5,0.4869 2.25,0.9738 3,-1.2172 -1,8.0334 2.25,0.2435 2,2.4344 0,-10e-5 0,0 3.25,-2.1909 3,1.9475 -1,2.6778 2.25,2.191 0,2.6778 1.5,1.9475 0,2.9213 -1.25,1.4606 -2.75,-1.2172 -3.5,0.4869 0,0 4.75,4.1385 2.5,0.2434 3.75,1.7041 1.25,2.1909 0.75,4.3819 4.9287,0.3628 -0.4287,9.86161 -4.75,4.3819 1.25,2.4344 c 0,0 -0.75,1.2172 -1.75,1.9475 -1,0.7303 -0.75,1.7041 -0.5,3.1647 0.25,1.4607 -0.5,1.9475 -2.25,2.191 -1.75,0.2434 -2.25,1.9475 -2.25,1.9475 l -2.25,0 -0.5,2.4344 -7.5,1.9475 -1.25,-3.1647 1,-2.6779 -7.75,-0.7303 -3.4819,-4.0455 -0.3267,1.691 -0.5644,1.1036 -1.0713,2.0797 -0.3203,0.6159 -0.2471,2.1727 -0.3916,3.3938 -1.6235,1.5677 -3.1504,0.2417 -3.7661,0.2946 -0.8443,0.7864 c -2.0117,3.0428 10e-4,10e-4 -2.0122,3.0428 l -1.2295,3.1749 -2.5034,6.4423 -5.1206,5.3946 z\" id=\"kt-ag\" class=\" reactive tooltip-trigger map-area\"/><desc class=\"value\">AG: 342468</desc><desc class=\"x auto\">0</desc><desc class=\"y auto\">0</desc></g>\n",
       "    <g class=\"zkt-zg canton map-element color-0 serie-0 series\" style=\"fill-opacity: 0.351997\"><path d=\"m 950.11003,1055.1577 c 3.6012,3.9751 2.8459,5.8224 2.8459,5.8224 l 1.25,3.895 5.5,-0.4869 1.75,2.4344 3.75,1.2172 3.5,2.6778 1.75,0.2435 2.75,-1.2172 2.75,0 2.25,-1.2172 0.75,-1.9475 2.75,-0.2435 2.5,1.2172 1.25,-1.9475 5.5,0.2434 7.5,1.9476 0,2.9212 3.74997,-0.7303 1.25,1.7041 -0.25,1.704 3.5,0 1.5,5.5991 2.5,3.895 -1.5,2.4344 3.75,0.7303 1.75,1.2172 2,-1.2172 3,0.9738 -0.25,2.9213 3.5,1.2172 2.5,-1.7041 3.5,-0.7303 -4e-4,0 2.5,5.3556 c 0,0 -1,1.2172 -2.75,1.7041 -1.75,0.4869 -2,2.4344 -2,2.4344 l 0,4.1384 -4.25,6.3294 -2.75,0.4869 -0.5,1.9475 c 0,0 -1.5,0.4869 -2.75,1.7041 -1.25,1.2172 -1.25,4.8688 -1.25,4.8688 l -4.5,0 -4.75,-0.7303 -1.5,1.9475 -3,0.4868 -0.7499,1.9475 -3.25007,0.7304 -3.5,0.9737 -0.75,-5.1122 -4.75,-0.2434 -2,1.2172 -5.75,-0.4869 -7.25,-3.895 -4.25,-1.7041 -0.792,-2.132 -5.458,-0.7893 -2,-7.3031 -4.5,3.4081 -3.75,0 -1.75,-0.9737 1.5,-4.3819 -2,-1.4607 1.25,-3.1647 c 0,0 1.5,-6.3294 1.5,-7.79 0,-1.4606 0,-2.1909 -0.75,-3.4081 -0.75,-1.2172 -2.25,-3.1647 -2.25,-4.1385 0,-0.9737 -0.5,-2.1909 0,-3.1647 0.5,-0.9737 1,-2.4344 0.75,-3.895 -0.25,-1.4606 -1.7561,-7.8084 -1.7561,-7.8084 0,0 -3.3337,-6.9309 0.9106,-10.6728 z\" id=\"kt-zg\" class=\" reactive tooltip-trigger map-area\"/><desc class=\"value\">ZG: 77301</desc><desc class=\"x auto\">0</desc><desc class=\"y auto\">0</desc></g>\n",
       "    <g class=\"zkt-sz canton map-element color-0 serie-0 series\" style=\"fill-opacity: 0.355735\"><path d=\"m 966.42553,1155.814 3.5,-0.698 7,-1.4606 2.2501,-1.7041 c 0,0 0.75,-1.4606 0.75,-2.6778 0,-1.2172 -0.25,-3.1647 -0.25,-3.1647 l -3.0001,0 -4,-4.8688 -3.75,-2.4344 -1,-2.4343 -2.25,-0.2435 -5.25,-3.6516 0.25,-1.9475 -4.25,-1.2172 -9.75,1.9476 -1.5,-4.1385 5,-4.6253 0.25,-4.6254 3.25,-1.9475 0,-2.4344 2.25,-0.7303 1.75,-0.2434 1.25,-2.191 4,-0.4868 -4e-4,0 5.4581,0.7893 0.7919,2.1319 4.25,1.7041 7.2501,3.895 5.75,0.4869 2,-1.2172 4.75,0.2434 0.75,5.1123 3.5,-0.9738 3.25007,-0.7303 0.75,-1.9475 3,-0.4869 1.5,-1.9475 4.75,0.7303 4.5,0 c 0,0 0,-3.6516 1.25,-4.8688 1.25,-1.2172 2.75,-1.704 2.75,-1.704 l 0.5,-1.9475 2.75,-0.4869 4.25,-6.3294 0,-4.1385 c 0,0 0.25,-1.9475 2,-2.4344 1.75,-0.4868 2.75,-1.704 2.75,-1.704 l -2.5,-5.3557 -0.5,-2.1909 -2.25,-1.4607 -0.5,-3.895 1.25,-2.6778 3.75,-2.6778 4.499,-4.6449 5.251,-6.3099 14.75,-0.9737 9.5,5.5991 7,0 21.25,-2.9213 12.5,0.4869 -0.5,6.5728 -3.75,0.7303 1.75,8.7638 6.25,-2.1909 5.25,3.6516 4e-4,-10e-5 -4.25,6.3294 -2.25,2.9213 -1,3.6516 -1.75,2.9212 -0.75,6.086 2,1.2172 -0.5,5.3556 -2.75,0.9738 -2.25,2.6778 0,2.4344 5.5,1.9475 -3,3.1647 0,3.1647 -4,4.8688 -1.5,3.895 -1.5,1.7041 -5.75,2.6778 -1.5,-1.7041 -3.25,1.2172 0.25,4.1385 -1.75,2.9212 4.75,1.9475 1.5,5.8426 2.25,0.4868 3.25,4.3819 0.5,2.191 -2,1.4606 3.5,5.1122 2,0.2435 1,2.6778 4,1.2172 -2.75,2.6778 -1.25,4.8688 1.5,3.6516 0,1.9475 c 0,0 -0.75,0.4868 -2.5,0.7303 -1.75,0.2434 -4.75,1.9475 -4.75,1.9475 l -3.5,1.4606 -4.5,2.9213 -5.5,2.4344 -2.75,3.4081 -3.75,0 -2,4.1385 -2.25,-2.4344 0.5,-9.2507 -4.25,1.9475 -1.5,-4.6253 -0.25,-5.5991 -3.5,-2.4344 -4,0.4869 -1.75,3.1647 -4.5,-0.7303 -1.5,-3.4082 -5.5,2.191 -3.75,1.2172 -5,5.1122 -3.25,0.9738 c 0,0 -1.25,-0.7304 -2.25,-2.4344 -1,-1.7041 0.75,-3.8951 0.75,-3.8951 l -2.25,-5.8425 -3,0.9738 c 0,0 -3,0.2434 -4.5,0.2434 -1.5,0 -4.75,-1.4606 -4.75,-1.4606 l -4.25,-0.7303 -2.75,-1.2172 -3.9048,0.202 -3.5952,0.041 c 0,0 0,-10.2244 -0.5,-15.0931 -0.5,-4.8688 -5.50007,-3.4082 -7.00007,-3.1648 -1.5,0.2435 -7.75,3.4082 -7.75,3.4082 l -11.0001,2.1909 c 0,0 -3.5,1.2172 -7.5,-0.2434 -4,-1.4606 -2.25,-6.3294 -2.25,-6.3294 z\" id=\"kt-sz\" class=\" reactive tooltip-trigger map-area\"/><desc class=\"value\">SZ: 82269</desc><desc class=\"x auto\">0</desc><desc class=\"y auto\">0</desc></g>\n",
       "    <g class=\"zkt-gl canton map-element color-0 serie-0 series\" style=\"fill-opacity: 0.313650\"><path d=\"m 1080.8491,1225.1913 -2.5,-5.5991 6.25,-3.1647 3.25,-4.3819 3.75,-0.2434 3.25,-1.4606 2,-2.191 4.5,-2.4344 0.5,-4.6253 -0.75,-4.6253 -3,-1.7041 -2.75,-6.5729 c 0,0 3,-1.7041 4.75,-1.9475 1.75,-0.2435 2.5,-0.7304 2.5,-0.7304 l 0,-1.9475 -1.5,-3.6515 1.25,-4.8688 2.75,-2.6778 -4,-1.2172 -1,-2.6779 -2,-0.2434 -3.5,-5.1122 2,-1.4606 -0.3113,-3.0126 -1.9686,-2.5038 c -1.1947,-1.9204 -3.657,-1.9265 -3.657,-1.9265 l -1.6885,-5.585 -4.2329,-2.1723 1.0893,-3.0125 0.2489,-3.5728 3.3301,-1.3319 1.0893,1.1892 5.8511,-2.1723 1.5,-1.704 1.5,-3.895 4,-4.8688 0,-3.1647 3,-3.1647 -5.5,-1.9475 0,-2.4344 2.25,-2.6778 2.75,-0.9738 0.5,-5.3556 -2,-1.2172 0.75,-6.086 1.75,-2.9213 1,-3.6515 2.25,-2.9213 4.2498,-6.3294 5.5926,5.9329 c 0,0 4.8339,7.79 6.2412,8.4752 1.4072,0.6851 5.6284,3.0829 5.6284,3.0829 l 5.186,-0.3423 3.7892,-1.6152 5.9697,0.93 17.7588,2.994 -0.3515,6.8515 0,7.79 1.6674,6.077 -0.3515,2.9944 -2.7232,4.7956 -3.166,2.9945 -3.4267,0.3423 -5.629,3.7686 c 0,0 4.313,3.6791 5.9805,4.3643 1.668,0.6851 6.5928,0.6851 6.5928,0.6851 l 4.834,-3.3368 c 0,0 3.9609,0.9386 5.2768,1.2814 1.3159,0.3423 2.3716,2.3977 2.3716,2.3977 0,0 2.8145,1.3703 2.8145,2.7406 0,1.3703 0.7031,6.0774 0.7031,6.0774 l 2.3716,3.4253 -2.0196,1.9665 0.3516,4.796 0.038,2.8134 -0.75,3.1647 1.75,1.4606 -0.75,2.1909 -2.25,0 0,3.6516 0.75,3.1647 3,1.4607 -0.25,4.3818 -0.5,3.1648 -2.75,3.4081 -3,0.2435 -2.25,4.6253 -3.75,4.3819 -4.5,2.6778 -9,-0.7303 0,2.9213 c 0,0 -1.25,0.4869 -2.75,1.2172 -1.5,0.7303 -0.5,2.9212 -0.5,2.9212 l -8.75,4.1385 -2.25,-0.4869 -1,-3.6516 -1.7501,-3.1647 -5.25,-2.1909 -4,-0.2435 -1,2.6779 -3.5,0.7303 0.75,6.5728 -1.75,0.7303 -1.75,2.4344 0.5,3.895 -2.5,0.4869 -2.25,5.8425 -3,1.4607 -11.5,2.6778 -6.25,2.4344 -2.5,1.9475 -4.25,-0.4869 -0.25,-4.3819 -4,-1.704 -6.75,-0.7304 c 0,0 1.0363,-3.2708 1.5,-4.6253 z\" id=\"kt-gl\" class=\" reactive tooltip-trigger map-area\"/><desc class=\"value\">GL: 26346</desc><desc class=\"x auto\">0</desc><desc class=\"y auto\">0</desc></g>\n",
       "    <g class=\"zkt-gr canton map-element color-0 serie-0 series\" style=\"fill-opacity: 0.391824\"><path d=\"m 1151.61,1487.3593 -3,-3.4082 -4.5,-8.0335 -8.5,-4.3819 -1.75,-8.0334 -2,-0.4869 1.5,-10.2244 -4,-5.1122 -2.75,-5.3557 0,-4.3819 2.25,-0.7303 1,-2.9213 2.25,-2.1909 -0.75,-3.4081 -2,-1.7041 1.25,-7.79 5.5,-2.6779 0.25,-1.9475 1.5,-0.9737 0,-7.5466 -2.25,-5.8426 2,-3.1647 -1,-3.6515 4,-2.191 -4.25,-8.5203 0.25,-5.5991 1.25,-4.6254 -3.5,-7.5465 -9.5,0 -0.25,-3.8951 -2.25,-0.9737 -0.25,-3.895 -4.5,-3.4082 0.75,-4.6253 -2,-4.6253 1.75,-3.4082 -0.75,-4.1384 2.5,-8.0335 2.25,-1.9475 0,-2.6778 2.5,0 0,-3.1647 -3.5,-0.9738 -0.25,-2.6778 -5,-3.1647 -1.5,-2.191 -3.75,-0.2434 -5.75,3.4081 -1.75,0.2435 -1.25,-2.6779 2.25,-3.1647 -3,-5.1122 -2.25,0 0,2.6779 c 0,0 -1,1.4606 -2,2.1909 -1,0.7303 -5,-1.7041 -5,-1.7041 l -2.4521,0.447 -2.0479,2.7177 -0.25,4.8688 2.5,2.191 0,2.9212 -3,3.4082 c 0,0 -1,0.4868 -3.5,0.7303 -2.5,0.2434 -3.75,3.1647 -3.75,3.1647 0,0 -2.5,0.2434 -5.25,0.4868 -2.75,0.2435 -3.5,3.8951 -3.5,3.8951 l -3.75,-0.2435 -1.5,-3.895 -7.75,4.1385 -13,-6.3294 -2.5,1.4606 -4.25,-1.7041 -3.5,1.9475 -5.25,-2.4344 -3.75,0.2435 -1.25,-8.7638 0.25,-7.0597 c 0,0 -2,0 -3,-0.7303 -1,-0.7304 -2.25,-2.4344 -2.25,-2.4344 l -0.25,-2.191 -2,-1.2172 0.25,-2.4343 2.5,-0.9738 c 0,0 -1.25,-1.9475 -0.5,-3.4081 0.75,-1.4607 2.25,-1.9476 2.25,-1.9476 l 2.75,-3.4081 -0.75,-3.4081 0.25,-7.7901 3,0 1.25,-1.4606 0.25,-2.1909 3.25,-0.7304 1,1.9475 2.25,-0.2434 0.75,-3.1647 3,0 4.5,-3.6516 1.75,-1.9475 c 0,0 -2.75,-3.4081 -1.25,-5.3556 1.5,-1.9475 4,-3.4082 4,-3.4082 l 1.75,-0.4868 5,6.8162 6.75,-2.9212 0.25,-4.3819 2,-6.3294 1.75,-1.4607 2.5,0 -2,-9.0072 2.25,-2.6778 4,0.7303 -0.5,-2.9213 2.5,-0.4868 c 0,0 0.5,-1.7041 2,-1.7041 1.5,0 3,-2.1909 3,-2.1909 l 0.75,-1.9476 6.75,0.7304 4,1.704 0.25,4.3819 4.25,0.4869 2.5,-1.9475 6.25,-2.4344 11.5,-2.6778 3,-1.4607 2.25,-5.8425 2.5,-0.4869 -0.5,-3.895 1.75,-2.4344 1.75,-0.7303 -0.75,-6.5728 3.5,-0.7303 1,-2.6779 4,0.2435 5.25,2.1909 1.75,3.1647 1,3.6516 2.25,0.4869 8.75,-4.1385 c 0,0 -1,-2.1909 0.5,-2.9212 1.5,-0.7303 2.75,-1.2172 2.75,-1.2172 l 0,-2.9213 9,0.7303 4.5,-2.6778 3.75,-4.3819 2.25,-4.6253 3,-0.2435 2.75,-3.4081 1e-4,0 2.5,1.9475 0.25,1.7041 1.5,1.704 3.5,-1.9475 9.25,0.7304 2,1.9475 4.25,-0.4869 4.25,1.2172 c 0,0 6.75,0.4869 9,0.4869 2.25,0 4.25,1.9475 4.25,1.9475 0,0 4.75,0.7303 5.75,1.2172 1,0.4868 4,2.1909 4,2.1909 l 3.9999,4.3819 2,-0.9738 0,-3.895 3.5,0.2435 c 0,0 0.75,-0.9738 0.75,-2.6779 0,-1.704 0,-3.6515 0,-3.6515 l 1,-2.191 3.5,-1.7041 c 0,0 -2.75,-0.9737 -2.25,-3.4081 0.5,-2.4344 2,-4.1384 2,-4.1384 l 0.25,-3.1648 2.5,-1.4606 1.75,-4.3819 3.5,-1.2172 2.5,-6.8162 4.75,-2.4344 -3.25,-5.3557 -3.25,-3.4081 -2.5,-5.3557 -0.75,-2.4344 -6.25,-11.4416 2.9681,-2.4186 7.1717,-1.0261 6.2412,-2.3978 2.4624,2.3978 1.0556,2.9945 3.1661,0.3423 4.1298,-2.3088 7.2969,-2.0555 4.9248,3.6792 3.4268,0 4.2217,-2.6517 7.2964,-1.3698 2.371,2.7401 4.5738,0.9391 3.4262,2.3977 6.3326,0.6852 1.6674,2.3977 4.5738,0.6852 5.8886,-1.3703 2.8145,3.3368 4.1304,2.7406 3.518,1.028 3.4268,3.3363 5.6284,-1.6237 2.3716,-2.3983 3.8696,1.028 -1.4072,2.994 0,2.7406 4.5732,2.7406 0.2608,4.3643 -5.5376,9.1603 3.166,12.4971 9.4072,5.1384 6.9448,2.994 6.2408,0.3428 3.7788,-1.6242 2.1108,5.05 5.6284,2.0549 3.6304,0.5687 3.25,1.9475 7.25,7.5466 -0.5,4.6253 10.25,1.7041 0.25,3.4081 2.75,1.4607 0,1.9475 5,-0.2435 2.25,-1.9475 7.5,-1.4606 0.5,2.1909 7.25,-3.1647 3.5,-4.8687 3.5,0 7.25,-0.2435 0.5,-9.0072 -1.75,-3.1647 2.5,-6.086 1.75,-8.0334 9.25,1.704 6,2.4344 2.25,-1.9475 3.25,0.4869 -0.25,-3.6516 -1.5,-2.1909 1.25,-4.3819 3,-1.4607 0.5,-3.4081 1,-1.7041 1,-3.1647 4,-6.8163 6,0 3.25,-3.6515 3.25,1.9475 0.5,1.9475 6,5.1122 0.5,3.6516 3.25,2.4343 6.5,1.2172 6.75,4.8688 2,3.1647 -1,7.0597 -2,3.4082 -2,5.5991 -1.5,5.599 2,5.3557 1,5.3556 -1.75,1.4607 -2.75,3.4081 -2.25,6.3294 -1.5,7.7901 -2.5,3.895 -3.75,-0.2435 -1,5.8426 4.5,5.3556 0.25,5.8425 c 0,0 -3,3.1647 -5.5,4.3819 -2.5,1.2172 -5.25,3.6516 -5.25,3.6516 l 0,3.4081 c 0,0 1.5,1.7041 3,4.1385 1.5,2.4344 0,5.5991 0,5.5991 l -2.25,-0.2434 -2,3.4081 -4.25,5.1122 c 0,0 0.75,2.1909 2,4.3819 1.25,2.1909 1,8.0335 1,8.0335 0,0 1,2.1909 1.5,3.895 0.5,1.7041 1.25,4.1384 1.25,4.1384 l 3.25,1.4607 1.5,-2.191 9.9331,-0.6138 5.0669,4.5088 3.75,6.086 -0.5,9.7375 -1,3.6516 -2.25,5.3557 0.5,3.4081 -1.25,4.1385 -4.5,3.4081 -9.75,-6.086 -5.75,2.4344 -8,-4.3819 -4.25,0 -2.5,5.8426 -4.25,-4.1385 -7.25,0.7303 -0.75,-4.8687 -1.75,-2.6779 -7.25,-3.6515 -3.75,3.1647 -2,-6.8163 4.75,-8.7638 -4.75,-5.5991 -0.75,-5.3557 -6.5,2.9213 -1.75,3.4082 -8.5,-2.6779 -4.5,4.1385 -6.75,1.7041 -2.75,2.4343 -7.5,-1.9475 -1.75,3.1647 0.25,7.3032 -1.25,2.6778 -4.75,0.4869 -0.5,3.1647 2,2.1909 -2.75,1.7041 -2.75,5.1122 -4.75,2.4344 -0.5,3.4081 2,1.4607 0.25,5.8425 -2.25,2.4344 0,14.1194 2.5,4.6254 -3,3.1647 -0.5,4.8687 4,1.7041 3.25,5.3556 2.75,0 1.5,1.9476 7.5,0.2434 1.25,-1.7041 4,-1.2172 3.5,0.2435 1.5,2.9212 1,3.6516 3.25,-0.7303 c 0,0 0.5,4.3819 0.5,6.086 0,1.704 -0.25,3.895 -0.25,3.895 l -4.25,-0.9738 -5.75,3.895 0,7.0598 -5.25,3.6515 -1,7.7901 2.5,4.3819 1.5,4.6253 5.25,3.895 1.75,3.4082 2.75,0.4868 -0.25,3.6516 2.5,0.9738 0.25,4.3819 3.25,1.9475 0.5,3.895 -10,10.2244 -4.25,1.2172 c 0,0 -1.75,-0.2434 -6.75,-1.7041 -5,-1.4606 -7.75,3.895 -7.75,3.895 l -4.5,-3.6515 2,-3.1647 c 0,0 0.5,-3.895 0.75,-6.8163 0.25,-2.9213 -2.75,-5.3557 -2.75,-5.3557 l -8.75,-5.1122 -7.25,-2.4344 c 0,0 0.75,-3.895 1.25,-5.8425 0.5,-1.9475 -2,-6.0859 -2,-6.0859 l -3.5,-2.191 3.75,-7.5466 -0.25,-5.3556 -2.75,-0.4869 -4.25,-2.6778 -3,-4.1385 -0.5,-2.9213 c 0,0 -4,0.4869 -5.75,0.9738 -1.75,0.4869 -2.75,3.1647 -2.75,3.1647 l -6,-4.8688 -6.5,2.9213 -0.5,2.6778 -3.75,1.4606 -6.5,-0.2434 -3.25,1.4606 -3,3.1647 -4.25,2.9213 -5,0.9738 -4,2.9212 -4,-1.4606 -1,-2.4344 -3,-2.1909 -3,0 -3.25,3.895 0,2.6778 -2,3.4081 0,2.4344 2.5,1.9475 -2.5,4.6254 -1,4.3819 -2.5,0.7303 -4.5,-1.9475 -2.5,-2.6779 -10,5.8426 -6,0 -3,-2.9213 -6.75,-0.2434 -4,-1.9475 -3,-1.9476 -3.25,0.7304 -6.25,-6.8163 -2.5,-5.3557 -3.25,-10.4678 -2.5,-2.4344 -8.5,-3.895 2.25,-3.895 -2,-10.2245 -2.25,-2.9212 1.75,-15.5801 1.25,-2.6778 -1,-7.3032 0.75,-5.8425 -0.75,-3.895 -6.75,2.9212 -4,3.4082 -0.25,6.3294 -3.5,3.6516 -5,-2.6779 -1,-3.1647 -4.5,-4.3819 1.25,-1.704 0,-3.1647 -3.5,-1.7041 -2.25,1.2172 -11,0 -9.75,4.1385 -1.5,3.6515 -1,11.4416 -2,2.6779 -4.75,0.7303 0,7.0597 3.5,4.6253 5.25,4.6254 -0.75,5.5991 1.75,4.1384 -2,5.1122 1,5.8425 4.75,4.3819 -1.25,5.3557 -0.25,6.086 -2.5,2.6778 0,5.3556 -2.5,3.1647 -1,2.4344 -2.5,1.7041 0,3.6516 -2.75,1.704 -1.5,12.9023 -3,0.2434 -3,1.7041 -0.5,3.4081 -1.5,1.9475 -4.25,2.9213 -3.25,12.6588 -1.25,1.9475 -6.7503,0.4869 z\" id=\"kt-gr\" class=\" reactive tooltip-trigger map-area\"/><desc class=\"value\">GR: 130223</desc><desc class=\"x auto\">0</desc><desc class=\"y auto\">0</desc></g>\n",
       "    <g class=\"zkt-ti canton map-element color-0 serie-0 series\" style=\"fill-opacity: 0.457033\"><path d=\"m 1154.5419,1492.0151 -2.75,0.9737 -4.75,4.3819 -2.5,4.8688 -5.25,2.1909 -2.75,2.6779 -5,2.4343 -0.25,2.6779 4.5,11.685 -3.25,3.895 0,3.4082 -3.5,1.4606 -4.5,-0.7303 -8.25,5.3556 -1.75,3.8951 -2,3.6515 3.25,5.1122 2.5,7.3032 -0.75,4.6253 -3.25,0.7304 -0.25,2.1909 -3.75,0.7303 -1.5,4.3819 6.25,5.1122 -0.5,5.5991 2.75,2.191 -1,2.6778 6.25,1.2172 1.25,2.4344 2.5,0 5.25,5.599 2.5,5.1123 -4,5.8425 -3.5,0.9737 -2.75,7.5466 0,3.895 -2.75,3.4082 -1.75,5.3556 -1.2344,2.6779 -2.5156,-0.7304 -3,-2.1909 0,-2.6778 -2.5,-2.4344 -4.75,1.7041 -3,-3.4082 -5.5,0.7303 -1.75,2.9213 -5.25,0.2434 1,-3.895 2.5,-3.6516 4.5,-5.599 -2.5,-3.4082 -0.75,-5.1122 -1.25,-2.6778 0,-3.6516 -3.5,-5.5991 c 0,0 -4.75,-6.086 -6,-8.5203 -1.25,-2.4344 -0.75,-6.5729 -0.75,-6.5729 l -4.25,0 -4.5,-6.0859 -3.75,-4.3819 -3.5,-3.4082 -11.5,-2.4344 0.75,-3.4081 4,-6.5728 c 0,0 1.25,0 2.5,-0.4869 1.25,-0.4869 2.75,-1.4607 3,-2.6778 0.25,-1.2172 2.25,-7.5466 2.25,-7.5466 l 3,0.2434 2,-4.8688 0.5,-3.6516 -0.5,-2.9212 -4.75,-3.1647 -8,-7.3032 -2.75,2.191 -3,0.2434 -5,-2.4344 -3,-0.9737 -5.75,-9.981 -8.25,10.9547 -6.5,-1.2172 -2,-3.4081 -4.5,0 -3.75,-4.6253 -8.75,0 -1,-3.4082 -3.25,-3.4081 -0.25,-6.8163 -2.25,-0.4869 -2.49993,-3.6516 -4,-6.0859 -3.75,-3.1647 -3.5268,-4.9491 -2.7232,-7.4663 -5,-0.9737 -3.25,-1.9476 -4.5,-1.4606 -4,-0.7303 -1.25,-3.895 -2.25,-1.7041 -3.74998,-1.9475 1.5,-2.4344 2.24998,-1.2172 -1.49998,-4.6253 c 0,0 -2.5,-2.4344 -4,-4.8688 -1.5,-2.4344 -0.5,-5.8425 -0.5,-5.8425 l 1.75,0 0.25,-4.3819 6.99998,-7.79 -1.5,-8.7638 2.25,-1.9475 -1.5,-12.4154 1.75,-1.4606 0.25,-2.191 -2,-2.1909 1,-2.191 0.5,-2.1909 -2.5,-2.6778 -0.25,-6.086 1.75,-0.4869 c 0,0 0.25,-2.9212 -0.5,-4.8688 -0.75,-1.9474 -2.99998,-2.4342 -2.99998,-2.4342 l 0,-2.4344 -1.75,-1.4607 -2,-0.4868 -7.25,1.704 -6.5,3.1647 -2.2506,0 1.25,-4.6253 1.75,-0.7303 -1.25,-3.6516 1.75,-2.4344 0,-4.1385 3.75,0.7304 10.5,-1.7041 0.75,-2.6778 7.24998,-8.7638 c 0,0 1.5,-2.9213 4,-3.1647 2.5,-0.2434 5,-0.7303 5,-0.7303 l 3.75,-1.7041 -1.25,-4.3819 0,-3.6516 2.25,-8.5203 2,-1.4606 2.75,-0.7304 2.5,1.7041 6.75,-0.2434 2.25,2.9212 4.99993,0.7304 3.25,-1.9476 4.25,0.9738 0.5,4.3819 3.25,0.4869 7.75,-6.086 6.25,-0.2434 5.25,2.4344 3.5,-1.9476 4.25,1.7041 2.5,-1.4606 13,6.3294 7.75,-4.1385 1.5,3.895 3.75,0.2435 c 0,0 0.75,-3.6516 3.5,-3.895 2.75,-0.2435 5.25,-0.4869 5.25,-0.4869 0,0 1.25,-2.9213 3.75,-3.1647 2.5,-0.2434 3.5,-0.7303 3.5,-0.7303 l 3,-3.4082 0,-2.9212 -2.5,-2.191 0.25,-4.8687 2.0479,-2.7178 2.4521,-0.4469 c 0,0 4,2.4343 5,1.704 1,-0.7303 2,-2.1909 2,-2.1909 l 0,-2.6778 2.25,0 3,5.1122 -2.25,3.1647 1.25,2.6778 1.75,-0.2435 5.75,-3.4081 3.75,0.2434 1.5,2.191 5,3.1647 0.25,2.6778 3.5,0.9738 0,3.1647 -2.5,0 0,2.6778 -2.25,1.9475 -2.5,8.0335 0.75,4.1384 -1.75,3.4082 2,4.6253 -0.75,4.6253 4.5,3.4082 0.25,3.895 2.25,0.9737 0.25,3.8951 9.5,0 3.5,7.5465 -1.25,4.6253 -0.25,5.5991 4.25,8.5203 -4,2.191 1,3.6515 -2,3.1647 2.25,5.8426 0,7.5466 -1.5,0.9737 -0.25,1.9475 -5.5,2.6779 -1.25,7.79 2,1.7041 0.75,3.4081 -2.25,2.1909 -1,2.9213 -2.25,0.7303 0,4.3819 2.75,5.3557 4,5.1122 -1.5,10.2244 2,0.4869 1.75,8.0334 8.5,4.3819 4.5,8.0335 3,3.4082 4.0003,0.7303 z\" id=\"kt-ti\" class=\" reactive tooltip-trigger map-area\"/><desc class=\"value\">TI: 216873</desc><desc class=\"x auto\">0</desc><desc class=\"y auto\">0</desc></g>\n",
       "    <g class=\"zkt-ur canton map-element color-0 serie-0 series\" style=\"fill-opacity: 0.307576\"><path d=\"m 972.4515,1343.1297 c 2.5,-0.2434 5,-0.7303 5,-0.7303 l 3.75,-1.7041 -1.25,-4.3819 0,-3.6516 2.25,-8.5203 2,-1.4606 2.75,-0.7304 2.5,1.7041 6.75,-0.2434 2.25,2.9212 5,0.7303 3.25,-1.9475 4.25,0.9738 0.5,4.3819 3.25,0.4869 8.119,-5.717 2.2855,-0.8764 -1.4045,-8.2564 0.25,-7.0597 c 0,0 -2,0 -3,-0.7303 -1,-0.7303 -2.25,-2.4344 -2.25,-2.4344 l -0.25,-2.191 -2,-1.2171 0.25,-2.4344 2.5,-0.9738 c 0,0 -1.25,-1.9475 -0.5,-3.4081 0.75,-1.4607 2.25,-1.9475 2.25,-1.9475 l 2.75,-3.4082 -0.75,-3.4081 0.25,-7.79 3,0 1.25,-1.4607 0.25,-2.1909 3.25,-0.7303 1,1.9475 2.25,-0.2435 0.75,-3.1647 3,0 4.5,-3.6516 1.75,-1.9475 c 0,0 -2.75,-3.4081 -1.25,-5.3556 1.5,-1.9475 4,-3.4082 4,-3.4082 l 1.75,-0.4868 5,6.8163 6.75,-2.9213 0.25,-4.3819 2,-6.3294 1.75,-1.4606 2.5,0 -2,-9.0073 2.25,-2.6778 4,0.7303 -0.5,-2.9212 2.5,-0.4869 c 0,0 0.5,-1.7041 2,-1.7041 1.5,0 3,-2.1909 3,-2.1909 l 2.25,-6.5729 -2.5,-5.5991 6.25,-3.1647 3.25,-4.3819 3.75,-0.2434 3.25,-1.4606 2,-2.191 4.5,-2.4344 0.5,-4.6253 -0.75,-4.6253 -3,-1.7041 -2.75,-6.5728 -3.5,1.4606 -4.5,2.9212 -5.5,2.4344 -2.75,3.4082 -3.75,0 -2,4.1384 -2.25,-2.4344 0.5,-9.2506 -4.25,1.9475 -1.5,-4.6254 -0.25,-5.5991 -3.5,-2.4343 -4,0.4868 -1.75,3.1647 -4.5,-0.7303 -1.5,-3.4081 -5.5,2.1909 -3.75,1.2172 -5,5.1122 -3.25,0.9738 c 0,0 -1.25,-0.7303 -2.25,-2.4344 -1,-1.7041 0.75,-3.895 0.75,-3.895 l -2.25,-5.8425 -3,0.9737 c 0,0 -3,0.2434 -4.5,0.2434 -1.5,0 -4.75,-1.4606 -4.75,-1.4606 l -4.25,-0.7303 -2.75,-1.2172 -3.9048,0.2021 -3.5952,0.041 c 0,0 0,-10.2244 -0.5,-15.0932 -0.5,-4.8688 -5.3193,-3.1647 -5.3193,-3.1647 l -0.1807,0 0.75,6.8163 -4.5,6.5728 -0.25,4.8688 0.75,4.3819 -4.25,0.4869 1,2.6778 -3.75,3.6516 -3.5,-0.2435 -2,2.4344 -3.5,1.4606 -1.75,-1.9475 -3,0.2435 -0.25,3.895 -5.25,1.4606 -1.5,2.9213 3.75,1.4606 1.8579,4.1779 -3.3579,2.8818 1.5,2.191 -0.75,2.9212 -0.5,3.4082 4,-0.7303 1.75,0.9737 3,0.2435 1.75,2.4343 -0.25,2.6779 -2.75,0.9737 -2.75,2.9213 0,3.895 -1.5,2.6778 c 0,0 0.5,2.6778 0.5,3.6516 0,0.9738 -1.75,0.9738 -1.75,0.9738 l -2.5,0 0,3.4081 3.75,0.4869 0.25,2.9212 2.5,2.6779 1.5,1.9475 -2,2.4344 -3.25,1.2171 c 0,0 -1.25,-0.2434 -3.5,-0.9737 -2.25,-0.7303 -2.5,2.1909 -2.5,2.1909 l -2.2029,0 -0.047,3.1647 -2,1.2172 1,2.9213 -0.75,3.1647 1.5,2.9213 -0.25,5.8425 2.75,2.9213 -0.25,8.5203 -9.25,0.2434 -6.25,-2.6778 -0.25,7.79 3,2.9213 0.25,4.8688 2.75,1.7041 0.25,13.3891 -2.75,5.8425 -1.5,7.0597 3.75,6.086 2.25,10.2244 7.25,3.4081 3.25,0.2435 2.25,3.895 c 0,0 1.5,-2.9213 4,-3.1647 z\" id=\"kt-ur\" class=\" reactive tooltip-trigger map-area\"/><desc class=\"value\">UR: 18275</desc><desc class=\"x auto\">0</desc><desc class=\"y auto\">0</desc></g>\n",
       "    <g class=\"zkt-tg canton map-element color-0 serie-0 series\" style=\"fill-opacity: 0.422156\"><path d=\"m 1230.6628,951.62687 -2.6626,3.72602 -2.4629,-0.34234 -2.4624,2.65143 0.7036,3.76831 -2.4624,2.65167 -1.6679,-2.99448 -2.4625,-2.39778 -3.518,1.02772 0,-2.74035 2.4624,-1.37029 -0.3516,-2.65167 -4.4819,0.34234 -5.2769,1.02795 -0.352,-2.74058 2.4624,-0.34258 2.8144,-1.37029 -0.7031,-3.33658 -3.1665,-1.3703 -0.3516,-3.42572 -2.7231,1.02772 -1.7588,-1.71288 -2.4629,0.68516 0,4.11087 -4.1303,-2.39801 -4.5733,2.0552 0.3521,2.05544 -4.834,2.3091 5.5371,1.37029 3.5181,-0.68514 2.0195,-2.05521 2.8144,1.37006 -1.5283,2.77363 2.2319,1.67982 -1.354,3.41766 -3.1284,5.39986 -3.8691,-0.34234 -2.4629,-2.05544 -4.4819,3.67916 -4.834,-0.68491 -2.814,-2.3091 -5.186,-0.68515 -1.7588,2.05544 -3.5181,-1.7131 1.0557,-2.39778 -5.5376,-2.05544 -2.4624,-1.02748 -0.7041,-2.99424 -2.4624,0 -0.9644,5.73459 -3.5176,1.71287 -3.8696,0 -3.0747,2.39777 -3.8701,-2.39777 -1.668,1.37029 -2.4619,0 -2.4629,-4.79603 -4.1303,0.34281 -3.1661,2.05521 -3.4267,-2.74035 -3.8697,2.0552 -2.4624,-1.02772 -4.1303,4.45322 2.4624,1.37029 -0.7036,2.65167 4.8339,1.02772 0.7037,3.7683 2.4624,1.96653 4.4824,1.37006 0,2.74035 -4.4824,1.02795 -2.1104,2.65167 -3.8057,-2.47099 -1.5,1.70407 -3.75,0 -1.75,2.19095 -2,0.48688 1,3.40814 -1.25,3.65157 -2.75,0.24344 -1,1.70407 0.5,3.65158 -2,2.43439 -0.25,2.43437 -2.75,0 -4.0158,3.72456 0.2659,-3.72456 -4,-2.43437 -2.25,-2.43439 -3.75,-0.73031 -0.25,-2.19095 2,-3.1647 0.75,-3.40814 -2,-3.65158 5.25,-0.24344 0,-1.94751 -5,-0.48689 -1.5,-2.43437 1,-1.94751 -0.25,-1.94751 -2,-1.21719 -1.75,-4.86877 -2.75,-2.19095 0.25,-2.92126 3.25,-0.97375 -1.25,-4.13846 1.75,-4.13845 0,-9.25067 -5.5,-0.48688 -2.25,-1.70407 -7,0 -2.25,-4.86877 -1.75,-4.62534 2.75,-0.73031 2.5,-1.70407 -3.75,-4.3819 -7.5,0.73032 -1.25,-4.13846 -11.25,-4.62533 -4,0 0.75,-3.40814 -2.75,-1.9475 2,-6.08597 3.75,0.97376 7.25,3.65157 0.25,2.43438 3.5,0.97376 0.25,-5.11221 c 0,0 2.75,-0.73032 2.75,-3.1647 0,-2.43438 0.5,-2.92127 0.5,-2.92127 l 3,-2.92125 0.5,-1.70407 -1.25,-3.1647 -4.5,-1.46064 -0.5,-5.35565 -4,0 -1,3.89502 -2.25,2.43438 -3.25,0 -2.5,2.67783 -3.25,0.97376 -4.5,-0.97376 -2.75,0.48687 -3.5,-0.48687 -1.25,-1.70407 -3.75,-0.97376 -2,-3.65158 -0.5,-4.86877 -3,-1.94751 1.375,-6.08596 -1.6251,0.48688 c 10e-5,0 4.0001,-1.15444 5.7588,-2.8673 1.7588,-1.71286 3.4268,-1.3703 4.834,0 1.4073,1.37005 3.4359,-0.0542 3.4359,-0.0542 l 3.1569,-0.28819 1.9844,-0.26412 5.084,1.29754 3.8955,1.00395 4.4858,3.31495 2.0662,0.58165 -0.176,4.56183 4.1066,0.98781 2.7231,-1.58228 4.2212,1.28139 2.5235,3.40291 2.3105,1.39287 -1.668,1.71287 4.4825,2.30886 2.6015,-2.09681 0.7735,-0.88341 3.5,-0.12172 -2.5622,-1.66081 c 0,0 4.1303,3.93305 6.9443,3.6794 2.8145,-0.25391 11.8696,-3.33683 11.8696,-3.33683 l 9.7593,-5.04946 10.0195,-6.16631 5.2769,0 4.834,2.05544 11.5176,1.02772 7.2968,4.02196 3.9346,1.59472 2.3291,0.58981 2.7915,2.26868 3.4268,2.74035 4.2212,-1.37029 c 0,0 65.0067,-4.68131 70.1791,53.07732 z\" id=\"kt-tg\" class=\" reactive tooltip-trigger map-area\"/><desc class=\"value\">TG: 170528</desc><desc class=\"x auto\">0</desc><desc class=\"y auto\">0</desc></g>\n",
       "    <g class=\"zkt-sg canton map-element color-0 serie-0 series\" style=\"fill-opacity: 0.492915\"><path id=\"kt-sg\" d=\"m 1202.3438,940.875 -2.4688,0.6875 0,4.125 -4.125,-2.40625 -4.5938,2.0625 0.375,2.0625 -4.8437,2.28125 5.5313,1.375 3.5312,-0.6875 2,-2.03125 2.8125,1.34375 -1.5313,2.78125 2.25,1.6875 -1.3437,3.40625 -3.1563,5.40625 -3.8437,-0.34375 -2.4687,-2.0625 -4.5,3.6875 -4.8126,-0.6875 -2.8124,-2.3125 -5.1876,-0.6875 -1.7812,2.0625 -3.5,-1.71875 1.0625,-2.375 -5.5625,-2.0625 -2.4375,-1.03125 -0.7187,-3 -2.4688,0 -0.9688,5.75 -3.5,1.71875 -3.875,0 -3.0624,2.375 -3.875,-2.375 -1.6876,1.34375 -2.4374,0 -2.4688,-4.78125 -4.125,0.34375 -3.1875,2.0625 -3.4063,-2.75 -3.875,2.0625 -2.4687,-1.03125 -4.125,4.4375 2.4687,1.375 -0.7187,2.65625 4.8437,1.03125 0.6876,3.75 2.4687,1.96875 4.5,1.375 0,2.75 -4.5,1.03125 -2.0937,2.65625 -3.8126,-2.46875 -1.5,1.6875 -3.75,0 -1.75,2.1875 -2,0.5 1,3.40625 -1.25,3.65625 -2.75,0.25 -1,1.6875 0.5,3.65625 -2,2.4375 -0.25,2.4375 -2.75,0 -2.75,3.4062 -1.25,-0.5 3,2.1876 2,7.3124 2.5,0 1.75,2.9376 -1,3.1562 2.25,0.7188 -0.75,4.1562 2.5,2.9062 -3.75,5.5938 -4,0.5 -1.5,2.1875 -0.75,2.9063 -3.75,1.4687 1,3.4063 2.5,0.5 -3.5,7.7812 -5.75,1.7188 -7.25,0.9687 -3.25,0.25 -1.25,2.6563 -4.75,0.9687 -1.5,-3.1563 -2.25,1.9376 -4.5,-2.1876 -4.75,1.4688 -4.0937,2.4375 -1.1563,6.3437 9.5,5.5938 7,0 21.25,-2.9375 12.5,0.5 -0.5,6.5625 -3.75,0.7188 1.75,8.7812 6.25,-2.1875 5.25,3.6563 5.5938,5.9374 c 0,0 4.8428,7.7837 6.25,8.4688 1.4072,0.6852 5.625,3.0625 5.625,3.0625 l 5.1875,-0.3437 3.7813,-1.5938 5.9687,0.9062 17.75,3 -0.3437,6.875 0,7.7813 1.6562,6.0625 -0.3438,3 -2.7187,4.8125 -3.1563,2.9687 -3.4374,0.3438 -5.625,3.7812 c 0,0 4.3012,3.69 5.9687,4.375 1.668,0.6851 6.5938,0.6876 6.5937,0.6876 l 4.8438,-3.3438 c 0,0 3.9653,0.9384 5.2812,1.2812 1.316,0.3424 2.375,2.375 2.375,2.375 0,0 2.8126,1.3797 2.8126,2.75 0,1.3704 0.6874,6.0938 0.6874,6.0938 l 2.375,3.4062 -2.0312,1.9688 0.375,4.8125 0.031,2.8125 -0.75,3.1562 1.75,1.4688 -0.75,2.1875 -2.25,0 0,3.6563 0.75,3.1562 3,1.4688 -0.25,4.375 -0.5,3.1562 2.5,1.9375 0.25,1.7187 1.5,1.7188 3.5,-1.9688 9.25,0.75 2,1.9376 4.25,-0.5 4.25,1.2187 c 0,0 6.75,0.5 9,0.5 2.25,0 4.25,1.9375 4.25,1.9375 0,0 4.75,0.7318 5.75,1.2188 1,0.4869 4,2.1874 4,2.1874 l 4,4.375 2,-0.9687 0,-3.875 3.5,0.2187 c 0,0 0.75,-0.9521 0.75,-2.6562 l 0,-3.6562 1,-2.1876 3.5,-1.7187 c 0,0 -2.75,-0.9719 -2.25,-3.4063 0.5,-2.4344 2,-4.125 2,-4.125 l 0.25,-3.1562 2.5,-1.4688 1.75,-4.375 3.5,-1.2187 2.5,-6.8437 4.75,-2.4063 -3.25,-5.375 -3.25,-3.4063 -2.5,-5.3437 -0.75,-2.4375 -6.25,-11.4375 2.969,-2.4375 -1.5625,-3.0625 -0.4063,-0.7187 -0.5624,-1.0938 0.1874,-0.5 1.625,-1.75 6.4688,-4.6875 3.1875,-3.1875 0.8437,-2.5938 0.2813,-0.8124 0.031,-0.5938 0.031,-0.2812 0.1875,-2.5626 -2.3437,-9.5312 -1.1563,-4.5625 -0.5,-1.1875 -3.875,-9.1875 -0.1875,-0.5 -0.094,-0.2813 -0.062,-0.4374 -0.5938,-3.5 0.062,-4.6876 4.2187,-15.5312 7.3126,-16.2812 3.1874,-3.625 0.4688,-0.063 3.375,-8.5937 1.1562,-1.5625 0.1876,-0.25 4.5937,-3.125 2.6563,-4.0938 0.5937,-3.5 2.2187,-5.25 5.0938,-8.5 0.6875,-1.1874 0.5625,-0.6876 0.25,-0.3124 c 1.6143,-0.023 3.6539,-0.2919 4.5625,-0.4688 1.7588,-0.3425 3.4366,-1.0959 4.8437,-3.0625 1.4074,-1.9665 2.1105,-4.81475 0,-6.78125 -0.7988,-0.7436 -1.4731,-1.1886 -2.1562,-1.5625 l 0.125,-0.65625 0.9688,-4.90625 -1.2813,-7.59375 -0.1563,-0.9375 0.4688,-2.71875 1.125,-2.0625 0.2188,-0.40625 0.7812,-0.9375 -0.8438,-1.625 -2.8124,-3.4375 -0.6563,-0.78125 -2.5,-0.15625 -2.75,-0.625 -4,-3.90625 -2.8125,-0.25 -1.5,1.46875 -1,-1.0625 -1.8125,-3.875 -2.9063,-3.28125 c -8.6509,-4.33086 -19.0994,-7.93137 -28.0139,-1.56662 l -3.741,5.1883 -3.9786,-2.10691 c 0.7561,-5.91947 -0.066,-6.78778 -0.066,-6.78778 0,0 -2.9002,-0.7839 -1.5707,-5.1036 l -4.5362,6.37661 -2.0312,3.09375 -2.4688,-0.34375 -2.4688,2.65625 0.7188,3.75 -2.4688,2.65625 -1.6562,-3 -2.4688,-2.375 -3.5312,1.03125 0,-2.75 2.4688,-1.375 -0.3438,-2.65625 -4.5,0.34375 -5.25,1.03125 -0.375,-2.75 2.4688,-0.34375 2.8124,-1.375 -0.6874,-3.3125 -3.1876,-1.375 -0.3437,-3.4375 -2.7187,1.03125 z m 58.4374,24.75 2.75,0 0,2.40625 3.8438,-0.6875 4.8438,1.375 4.5624,1.375 3.4376,2.625 5.5312,2.0625 -0.5938,3.4375 -2.125,0.34375 -3.875,3 -3.4062,1.6875 1.0312,2.75 3.0938,1.28125 -3.0938,1.71875 -3.5,1.03125 -4.5,4.34375 -4.5624,1.71875 -2.4688,-1.96875 -3.7812,1.28125 -4.2188,0 -2.375,2.40625 -1.0312,2.0625 1.75,4 -2.4688,2.0625 0.7188,4.0313 0.3437,5.125 0.3437,8.8437 -2.4687,4 1.0625,2.75 -2.0938,2.6563 -1.4062,7.5312 -3.4375,5.0625 -4.5625,3.6563 -2.0312,2.75 -4.9376,2.0624 c 0,0 -3.0615,0.3452 -4.4687,0.6876 -1.4072,0.3427 -2.4687,4 -2.4687,4 l -3.7813,0 -1.75,2.0624 -6.25,-5.0312 -3.875,0 -2.0937,-1.7188 -4.8438,1.375 -3.875,-2.75 0.375,-2.4062 -4.5,0 -2.0938,-1.9688 -3.0937,-1.7187 -3.5,1.9687 -2.7187,-1.5 -3.5313,1.25 -5.9063,-2.375 -3.5,-3.0937 5.5313,-6.0937 -2.0313,-2.7188 0.375,-3.3438 -1.7812,-5.75 5.9062,-3.4062 -2.4687,-4.7188 -5.1875,1.2813 -1.0625,-3.6875 1.7813,-3.0625 -3.5313,1.0313 -0.6875,-3.6876 5.625,-0.3437 2.375,-3.0937 0,-2.375 -0.7188,-3.68755 3.5313,0 0,-3.09375 5.5313,-2.0625 5.9687,-0.59375 8,2.65625 6.25,-2.65625 1.75,0.9375 4.125,-1.625 3.5313,0 2.7187,-2.71875 4.9375,0.6875 0,2.03125 4.8125,0 2.4687,-1.6875 4.125,-0.6875 0.375,-4.375 0.6876,-5.46875 2.125,-1.71875 2.4374,2.75 3.7813,-1.71875 1.0625,-2.65625 4.125,0 6.3438,-3.78125 5.5312,-1.03125 0.3438,-5.375 z\" class=\" reactive tooltip-trigger map-area\"/><desc class=\"value\">SG: 264552</desc><desc class=\"x auto\">0</desc><desc class=\"y auto\">0</desc></g>\n",
       "    <g class=\"zkt-ar canton map-element color-0 serie-0 series\" style=\"fill-opacity: 0.320548\"><path d=\"m 1268.809,994.3045 4.4824,-4.3645 -0.7036,-4.3645 -2.4624,-0.3423 1.0552,-3.0832 -2.3716,-0.3426 -2.814,-2.3977 2.814,-2.6517 1.3164,2.3091 1.7588,0.3426 3.166,0 4.1304,-0.3426 5.9805,-0.9388 0.6123,-3.4258 -5.5376,-2.0554 -3.4268,-2.6517 -4.5732,-1.3703 -4.8335,-1.37 -3.8697,0.6851 0,-2.398 -2.7236,0 -2.814,1.7129 -0.352,5.392 -5.5371,1.0277 -6.3325,3.7683 -4.1304,0 -1.0552,2.6517 -3.7788,1.7126 -2.4619,-2.7403 -2.1113,1.7126 -0.7032,5.4809 -0.352,4.3646 -4.1304,0.6851 -2.4624,1.7129 -4.834,0 0,-2.0555 -4.9248,-0.6851 -2.7231,2.7406 -3.5181,0 -4.1304,1.6239 -1.7588,-0.9388 -6.2412,2.6515 -8,-2.6515 -5.9804,0.5962 -5.5371,2.0553 0,3.0831 -3.5181,0 0.7036,3.6792 0,2.398 -2.3716,3.0831 -5.6284,0.3424 0.7036,3.6794 3.5181,-1.0278 -1.7593,3.0832 1.0552,3.6794 5.186,-1.2814 2.4624,4.7069 -5.8891,3.4255 1.7587,5.7348 -0.352,3.3368 2.02,2.7404 -5.5376,6.0772 3.5176,3.0831 5.8896,2.3978 3.5469,-1.2629 2.6944,1.5168 3.5175,-1.9665 3.0752,1.7126 2.1104,1.9668 4.4824,0 -0.352,2.3977 3.8696,2.7404 4.834,-1.3701 0.352,-2.398 -1.668,-1.7126 -0.352,-5.0497 -5.2764,-7.1048 0,-5.3921 2.1104,-1.7128 -1.4073,-3.7681 -2.4624,-2.3091 2.8145,-2.398 3.5181,-0.3426 1.3159,-5.0494 3.166,-0.6852 -0.3521,-3.7683 3.1665,-0.6851 2.3711,-2.3091 -0.3515,-2.3978 -2.0196,-7.1049 2.0196,-1.3703 2.8139,-0.3426 0.7041,3.6794 3.1661,1.0275 2.0195,-1.6237 1.7588,1.6237 1.7588,2.7406 3.166,0 3.0752,-0.3426 1.4072,5.7348 2.8145,0 1.6674,2.0553 2.1109,0 1.4072,1.7128 3.5176,-0.3426 2.02,-1.3702 3.8696,1.7128 -0.3515,-5.1384 -0.7041,-4.0219 2.4629,-2.0555 -1.7588,-4.022 1.0552,-2.0552 2.3471,-2.1892 -0.6363,-3.8129 4.1304,-0.3426 2.8145,-1.3703 -3.166,-1.3703 0.3515,-4.3643 3.8696,0 0,-3.4257 2.0196,0.3425 2.1108,2.0555 0.7036,3.0831 3.4268,1.9666 -0.2608,2.7403 -2.1108,1.1497 -2.1103,-1.4923 -2.94,1.0278 2.3851,4.1114 z\" id=\"kt-ar\" class=\" reactive tooltip-trigger map-area\"/><desc class=\"value\">AR: 35512</desc><desc class=\"x auto\">0</desc><desc class=\"y auto\">0</desc></g>\n",
       "    <g class=\"zkt-ai canton map-element color-0 serie-0 series\" style=\"fill-opacity: 0.300000\"><path d=\"m 1262.0944,991.55062 2.94,-1.02772 2.1103,1.49225 2.1108,-1.14968 0.2608,-2.74035 -3.4268,-1.96653 -0.7036,-3.08316 -2.1108,-2.05544 -2.0196,-0.34256 0,3.42572 -3.8696,0 -0.3515,4.36431 3.166,1.37029 -2.8145,1.37029 -4.1304,0.34258 0.6123,4.02171 4.2218,-2e-5 3.7783,-1.28138 2.4624,1.96653 z m 10.5879,-5.73484 -2.4624,-0.34233 1.0552,-3.08316 -2.3716,-0.34258 -2.814,-2.39777 2.814,-2.65167 1.3164,2.3091 1.7588,0.34258 3.166,0 4.1304,-0.34258 3.8696,-0.59647 -3.8696,2.99425 -3.4268,1.71286 1.0552,2.74058 3.0752,1.28138 -3.0752,1.71263 -3.5176,1.02772 z m -25.7588,27.73462 -2.02,1.3703 -3.5176,0.3426 -1.4072,-1.7129 -2.1109,0 -1.6674,-2.0552 -2.8145,0 -1.4072,-5.7348 -3.0752,0.3426 -3.166,0 -1.7588,-2.7406 -1.7588,-1.6237 -2.0195,1.6237 -3.166,-1.0275 -0.7041,-3.6794 -2.814,0.34258 -2.0195,1.37032 2.0195,7.1049 0.3516,2.3977 -2.3711,2.3091 -3.1665,0.6852 0.352,3.7683 -3.166,0.6851 -1.3159,5.0495 -3.5181,0.3426 -2.8144,2.398 2.4624,2.3091 1.4072,3.768 -2.1103,1.7129 0,5.392 5.2763,7.1049 0.3521,5.0497 1.668,1.7126 -0.3521,2.398 2.1109,1.7129 3.8696,0 6.2412,5.0494 1.7588,-2.0554 3.7783,0 c 0,0 1.0557,-3.6792 2.4629,-4.022 1.4073,-0.3423 4.482,-0.6849 4.482,-0.6849 l 4.9252,-2.0554 2.0195,-2.7404 4.5733,-3.6794 3.4267,-5.0496 1.4073,-7.5362 2.1103,-2.6517 -1.0552,-2.7405 2.4624,-4.022 -0.3516,-8.8175 z\" id=\"kt-ai\" class=\" reactive tooltip-trigger map-area\"/><desc class=\"value\">AI: 8208</desc><desc class=\"x auto\">0</desc><desc class=\"y auto\">0</desc></g> \n",
       "  </g>\n",
       "  <g id=\"rivers\" transform=\"translate(-265.0,-825.0) matrix(0.53050535,0,0,0.53379421,130.8741,392.31231)\">\n",
       "    <polygon id=\"polygon105-0\" style=\"fill:#0978ab;stroke:#0978ab;stroke-width:1.01338696;\" points=\"934.01685,96.46899 938.71997,95.33643 939.07153,94.29346 938.26978,91.7627 938.77368,89.31055 936.85669,86.2417 932.04614,82.86328 930.78638,80.43457 929.35864,79.05957 929.67163,76.23145 928.80103,70.5957 927.9231,68.54443 921.08911,62.19922 918.48511,62.0625 916.60669,61.26025 912.34595,57.7793 906.61108,54.80029 902.83911,52.01758 897.71509,48.22681 894.08081,43.97656 894.69946,42.4541 890.23999,38.8916 889.74341,37.58594 889.98804,36.16553 890.81274,35.58057 891.24048,34.0686 897.23413,35.61499 901.63306,40.79297 904.47339,42.79712 907.55786,43.66699 910.60474,46.52026 913.07153,47.98633 913.33813,48.14648 918.09595,53.03711 924.47192,55.43091 928.62573,57.83594 928.70923,57.88159 930.59595,59.33643 935.1311,62.83008 939.62134,64.14648 941.14819,65.80762 941.19409,65.76221 941.19409,65.76221 941.22485,65.79663 944.073,69.53076 944.21021,75.09741 948.79956,80.82275 951.34985,83.10352 955.48853,86.07031 960.15405,88.02856 967.14087,93.83594 970.03491,94.63672 972.76099,96.51611 973.35669,96.6875 974.20435,97.51196 975.53296,98.8064 976.84595,98.49658 981.62622,97.375 983.11548,97.53564 984.3064,96.66406 986.8186,97.08887 989.11694,96.00049 991.98804,95.75977 995.43188,96.26294 998.37183,99.4939 1003.7854,101.37207 1005.5725,102.5625 1009.1003,102.97461 1015.1174,102.48242 1016.8962,103.75488 1018.9734,105.24292 1021.2488,107.83203 1021.5466,108.65625 1022.9055,112.4248 1024.4026,114.55469 1025.3801,115.95312 1025.9675,118.14111 1027.3655,123.36328 1029.2283,123.79883 1033.092,127.69336 1036.0779,128.76953 1039.8577,127.56616 1042.637,127.89966 1043.2781,127.23438 1044.7371,127.83057 1045.0501,127.95605 1045.8513,129.42236 1048.1121,133.55762 1050.0823,135.03467 1052.113,134.8064 1054.9153,136.36353 1058.1145,139.5127 1061.8411,140.77246 1065.6438,140.89844 1067.698,142.09082 1067.4612,144.73633 1068.7747,145.93799 1071.0579,143.83203 1073.2874,143.94531 1076.4641,144.15137 1077.655,145.42383 1079.2815,148.88281 1081.1599,150.7373 1084.9089,153.69263 1085.8635,155.66357 1085.5427,158.87085 1083.5349,160.78369 1075.9524,160.80566 1071.6838,159.83203 1071.2332,160.96606 1072.2869,163.21069 1071.554,163.31445 1069.7668,161.65332 1068.301,162.52319 1067.9807,165.82324 1065.72,168.68604 1063.7576,167.67773 1061.5354,167.33496 1060.2532,168.11328 1058.6721,167.75781 1056.0305,164.32275 1058.3821,161.17212 1057.718,160.42798 1056.5188,160.26758 1052.0364,163.72656 1052.0598,164.9519 1050.0364,165.54785 1048.9519,167.0708 1047.0198,167.86182 1043.698,168.1936 1038.3835,165.74316 1037.3455,164.35742 1036.551,161.53857 1035.3523,161.74463 1035.1003,162.97021 1036.2532,165.39844 1035.5124,165.51343 1034.0769,164.104 1033.3518,163.38379 1032.0227,166.88818 1029.8391,169.00684 1027.0901,170.27783 1017.4841,171.10205 1013.2004,169.57959 1012.0627,167.99854 1005.8855,164.06934 1002.1516,160.63403 1001.5559,160.09619 999.05103,159.58008 1000.3264,158.51538 1000.571,156.91089 1000.3342,156.54443 999.71558,155.60547 996.61548,153.70361 995.12622,152.77734 989.56763,147.70288 987.69653,146.70557 985.3147,143.36182 984.89478,140.72705 985.73462,136.19214 984.56616,133.67236 970.41675,125.47095 963.46021,119.06738 956.37427,114.17725 951.04419,112.21899 947.47876,110.03101 943.55347,108.79468 939.30835,105.30127 934.07739,103.53613 931.80981,101.61255 930.23657,98.29053 929.96216,97.6958 927.71704,96.35596 926.29663,95.50806 924.80005,95.17627 920.37915,96.67529 918.05005,96.06958 913.03296,96.00049 906.60376,94.72949 903.67163,92.35742 902.27417,92.00342 900.62476,93.17065 892.41626,91.29248 891.69849,92.34619 885.38354,92.2207 880.67212,93.07935 878.75562,94.4541 873.97534,96.26294 872.89136,97.42065 871.35669,99.05811 868.58423,99.50464 867.21802,100.47852 863.5144,100.94873 855.70288,103.86816 852.28931,104.42969 850.2356,104.01758 847.47876,101.54346 843.66138,100.98193 841.20239,98.9668 837.62866,97.3623 834.62036,93.89258 833.71118,92.84961 827.73267,91.06299 829.38208,90.51367 833.10083,90.89136 834.18481,91.47656 835.26929,92.06006 837.75854,95.19824 841.92017,98.19922 844.92114,99.25342 848.16626,99.35547 849.92993,99.92969 849.93774,99.92969 850.60181,100.14648 856.42847,99.52832 859.35278,97.84375 861.8728,98.25586 866.82056,95.78174 869.27173,93.45679 871.39478,93.02271 872.37964,91.77393 872.99829,91.39624 880.61108,86.58447 881.51245,85.53076 881.82544,83.26416 878.76294,79.28931 873.49438,76.67676 868.85962,73.21777 865.12573,72.26758 863.57544,69.9541 864.36938,68.33838 868.34009,67.10229 874.31177,68.37305 877.21313,69.89722 881.84009,72.33691 883.45923,73.80273 883.69604,72.19849 877.72485,67.25146 877.32007,66.03735 877.93872,64.51318 880.00024,65.31543 883.03931,68.16699 887.75024,70.87109 892.81323,72.92041 896.95972,75.37109 901.12134,78.47607 905.35132,79.50635 906.06909,79.67773 909.59692,83.7439 910.37573,86.03857 909.27612,86.4397 902.51099,86.44775 900.40356,83.4812 898.81519,83.04541 896.52466,80.45654 895.32544,80.77734 894.08862,79.48438 892.21021,78.68213 891.83569,82.55322 893.37817,84.86719 897.78442,86.83643 903.10669,88.13086 907.63403,88.01611 911.08618,87.94849 914.91919,93.03369 916.81274,94.16748 918.98901,94.44312 924.47925,94.22461 926.61743,94.18994 926.91528,94.17871 927.3811,94.44312 929.54175,95.63379 \" transform=\"matrix(1,0,0,0.9737543,234.57523,793.33971)\"/>\n",
       "\t\t<polyline transform=\"matrix(1,0,0,0.9737543,234.44155,793.86372)\" style=\"fill:none;stroke:#0978ab;stroke-width:1.01338696;\" points=\"801.1062,541.36963 803.1145,534.70508 799.28149,514.44287 803.80933,509.97559      809.75024,507.07812 812.67456,503.88184 815.05688,503.11426 816.82837,502.5415 818.82935,502.46143 823.20435,502.27881      832.57397,501.36182 833.84888,500.02197 837.05591,496.6665 839.32397,494.29443 842.70679,490.90527 851.59497,485.2124      859.51294,484.53613 864.04126,483.09375 869.35571,480.32227 871.43286,479.84082 873.89917,479.26855 878.81665,476.01562      880.72583,474.75586 892.48462,471.89111 896.37134,470.94141 899.60913,470.1499 914.26245,463.96533 918.63013,463.39307      932.04614,463.00439 935.48999,461.60596 937.58228,461.36523 938.16284,461.28467 941.31616,460.81641 947.47876,458.51318      951.22778,458.90332 955.34351,454.66455 961.94849,451.51562 962.81128,448.85889 966.44604,447.93066 968.01929,448.74414      969.37817,448.34277 970.9436,449.06494 973.11206,447.79248 973.99048,445.89209 974.41772,445.91406 976.91479,446.01807      982.58081,442.55908 983.14575,442.21436 985.05444,441.61865 988.2312,441.6875 991.91138,441.76807 997.53198,439.02002      1001.76196,435.73242 1009.43579,435.39893 1012.52075,434.11719 1020.06519,426.43164 1020.7981,425.76807      1024.29517,422.58252 1026.31128,419.13477 1029.09106,414.38135 1033.9856,406.00879 1034.46655,402.42383      1034.17651,401.01611 1033.67261,398.57666 1032.58032,396.23877 1032.14526,395.30029 1029.427,391.57666 1029.86206,384.38379      1030.13696,379.77979 1026.4563,373.53857 1021.92847,369.10547 1021.6687,367.99365 1021.36353,366.65381 1020.88208,364.58057      1020.81372,364.44336 1012.23853,347.29688 1011.8645,346.54004 1011.36011,345.54443 1011.19214,345.2124 1010.88696,344.59473      1011.01685,344.21533 1011.37524,343.16162 1011.4978,342.79492 1013.56714,340.49414 1020.08813,335.66016      1022.79907,332.87598 1023.47876,330.73535 1023.66919,330.13916 1023.69214,329.80713 1023.7229,329.46289      1023.89087,327.20752 1021.60767,317.73486 1020.51587,313.2334 1020.073,312.20312 1016.15552,302.66162 1015.95728,302.07788      1015.80444,301.63135 1015.69751,300.9895 1015.07886,297.20972 1015.16284,291.9292 1019.46948,275.55029 1026.99097,258.3689      1030.28931,254.5437 1030.96118,253.77612 1033.96265,245.89551 1035.26831,244.07568 1035.6731,243.51416 1040.22388,240.33057      1042.41528,236.88257 1042.96509,233.49121 1045.35522,227.70752 1050.49438,218.8645 1051.27319,217.52588 1051.91431,216.7002      1052.0979,216.45947 1056.78638,210.36572 1058.92407,205.44092 1059.0769,204.66235 1059.0769,204.65137 1059.08472,204.6167      1060.03149,199.77197 1058.81714,192.37305 1058.59595,191.03271 1059.18384,187.53931 1060.46704,185.1106      1060.79517,184.49268 1062.78784,182.01807 1063.17017,180.84961 1063.3147,180.40283 1063.53638,174.12695      1063.73462,168.31958 1063.75757,167.67773 \" id=\"polyline11-9\"/>\n",
       "\t\t<path id=\"polyline13-4\" d=\"m 1523.832,1181.4094 -1.1167,4.9073 -0.9141,1.7849 -3.0566,7.1534 -1.7315,5.5054 -0.9008,1.8286 -8.4454,8.7676 -2.9628,7.0041 -1.8096,2.0293 -4.1006,1.9518 -4.0161,1.0384 -2.3672,1.0246 -6.353,5.2763 -4.4595,2.4201 -3.6426,1.0479 -7.7197,4.8293 -3.7339,1.6846 -14.3022,3.6135 -5.4522,2.9898 -9.7812,0.088 -2.2676,0.023 -2.3677,0.8468 -8.3994,-0.1897 -4.543,2.1533 -3.2759,0.311 -4.3447,3.8151 -1.6264,9.1903 -0.3287,3.402 3.1841,7.3165 -0.2441,1.0707 -0.2749,1.2267 -0.1529,0.3005 -1.6264,3.2008 -2.6113,3.0573 -0.7334,1.996 -1.2979,3.5346 -1.3516,1.5842 -2.1456,1.2833 -1.2905,0.7689 -3.4209,3.4357 -0.7558,2.5318 -0.733,2.443 -2.5961,3.7909 -4.7573,4.719 -1.9927,1.9727 -14.6231,9.4579 -5.3071,4.9306 -1.8779,2.0417 -6.4985,10.9176 -5.7344,5.7774 -1.0537,2.5761 -1.1836,2.9013 -1.7636,4.3377 -0.9245,2.2755 -0.7176,0.4688 -3.0314,3.8033 -1.9775,1.8733 -5.0171,4.7514\" style=\"fill:none;stroke:#0978ab;stroke-width:1;\"/>\n",
       "\t\t<polyline transform=\"matrix(1,0,0,0.9737543,234.44155,793.86372)\" style=\"fill:none;stroke:#0978ab;stroke-width:1.01338696;\" points=\"991.91138,441.76807 992.30884,443.24658 992.3396,443.35986 993.59155,448.04541      992.30103,452.5 993.32446,458.23828 1002.61743,486.43799 1003.03735,489.25488 1002.99927,492.26904 1002.43384,494.67383      1002.15161,495.87549 1003.88501,500.54883 1004.04517,504.41992 1003.16724,511.31543 996.95142,529.34473 996.1189,533.70801      996.3479,536.14746 996.19556,536.69824 995.49292,539.25098 994.98169,541.0835 993.7063,545.63086 991.18628,547.37207      987.59741,547.47607 980.82446,547.68213 975.04419,549.87012 969.69897,553.53516 966.96509,555.41309 965.69019,555.97461      964.07886,556.69678 960.90259,556.94824 953.32007,559.93701 951.51001,560.23584 941.27075,561.89502 929.4729,565.05664      928.6106,565.28662 925.73169,566.67236 914.45337,574.86084 \" id=\"polyline21-5\"/>\n",
       "\t\t<path d=\"m 944.26702,1324.5108 c 0,0 -0.5157,2.9213 -0.7657,4.1385 -0.25,1.2172 -0.5,2.1909 -2.5,4.1384 -2,1.9475 -1.5,3.895 -1.5,5.5991 0,1.7041 -0.75,2.4344 -1.25,3.6516 -0.5,1.2172 -6.75,9.0072 -8.5,10.7113 -1.75,1.704 -10.5,8.0335 -13,9.0072 -2.5,0.9738 -9.2802,5.9666 -9.2802,5.9666 l -18.2652,16.986 -1.1069,1.0266 -4.4287,3.2793 -10.5073,11.0203 -3.459,2.3312 -4.6118,1.7274 -1.833,0.6923 -2.8331,1.6175 -4.7265,2.6988 -6.1392,5.3304 -2.1303,1.8624 -2.4971,3.5812 -3.5274,2.8775 -4.4824,1.7279 -3.1382,1.2162 -0.5117,0.2007 -6.4829,3.5474 -9.5068,2.8442 -9.5064,0 -2.7104,0 -7.2393,-1.6617 -8.0102,-0.8825 -10.125,0.6695 -6.0093,-0.7812 -4.9561,0.8487 -6.5742,-1.3052 -2.9931,-0.067 -4.1163,1.2714 -1.7177,0.1565 -13.9278,-2.1858 -5.1391,-0.8025 -0.8706,0.2448 -2.5352,0.7246 -14.2099,7.1159 -0.4126,1.9299 -0.42,1.9622 -2.2905,1.5729 -2.1919,0.5025 -8.3076,1.8734 -3.459,1.7967 -1.9473,3.267 -0.5878,0.9818 -1.4815,1.4378 -1.9853,0.1793 -1.3438,-0.3229 -0.01,0 -1.2065,-0.3019 -2.9702,0.4013 -3.0542,2.9441 -1.6421,1.5833 -2.5806,1.0265 -1.5732,-0.1778 -5.4366,-0.6143 -2.146,0.5468 -2.9013,2.0635 -5.4829,7.1386 -1.3589,1.1706 -0.5577,0.4793 -7.3149,2.432 -1.8022,0.089 -2.0767,0.1792 -3.6577,3.1999 -3.772,0.6372 -4.1006,1.4715 -2.5122,2.3194 -6.2612,3.5916 -2.4746,0.5359 -0.939,0.2011 -0.3511,0.078 -0.7255,0.2111 -6.1468,1.7616 -1.031,1.2495 -0.9468,2.8999 -0.084,0.2677 -1.2448,0.9376 -0.3282,0.2449 -3.5813,0.8025 -10.7741,7.4962 -3.6194,1.9176 -7.80225,4.3253 -7,2.4344 -7,-4.6253 c 0,0 -1.5,-4.3819 -2,-6.086 -0.5,-1.7041 -0.25,-4.8688 1.25,-7.3032 1.5,-2.4344 -0.22632,-7.5632 -0.22632,-7.5632 l -6.77368,-8.0168 -2.5,-9.0073 -5.25,-9.4941 -4,-4.8687 -5.25,-8.2769 -3.75,-4.1385 -2,-11.9285 -3,-6.086 -6.5,0 -4.5,-6.8162 c 0,0 0.75,-0.9738 1.5,-2.6779 0.75,-1.704 -1,-5.3556 -1,-5.3556 l -6.08887,-6.4302\" style=\"fill:none;stroke:#0978ab;stroke-width:1;\" id=\"path27-4\"/>\n",
       "\t\t<path id=\"polyline31-2\" d=\"m 330.0685,1471.3038 -2.59692,2.1915 -5.58276,0.1835 -1.59424,-0.7807 -2.06934,0.3019 -3.60425,3.3468 -0.78637,0.1883 -0.28247,0.057 -0.84766,-0.4917 -0.16797,-1.3707 0.83252,-4.2826 -0.92407,-1.0046 -0.62622,0.6476 -1.45069,1.7278 -1.031,0.1455 -1.21411,0.1778 -0.47339,0.4916 -2.33643,2.4416 -1.90918,-0.077 -1.16821,-0.6371 -2.48169,-1.3494 -2.10742,-0.4227 -1.1836,1.3599 -0.1145,2.2974 -0.12988,2.6883 -0.69482,2.0631 -1.42798,0.2786 -1.4812,-0.5573 -1.5044,2.2086 -1.67212,-0.4579 -0.25976,-0.066 -0.62622,-0.5696 -0.32813,-0.3 -0.45068,0.2448 -0.68726,0.378 -1.38208,2.578 -1.62646,-0.7935 -2.70288,5.678 -2.38257,5.2643 -0.20606,2.6878 -1.51953,1.852 -2.97803,1.5609\" style=\"fill:none;stroke:#0978ab;stroke-width:1;\"/>\n",
       "\t\t<polyline transform=\"matrix(1,0,0,0.9737543,234.44155,793.86372)\" style=\"fill:none;stroke:#0978ab;stroke-width:1.01338696;\" points=\"312.4397,781.23047 312.21118,781.51123 311.02759,784.75293 309.64551,788.53271      308.94312,790.45654 304.82739,794.92334 303.35352,798.01611 300.37549,801.70459 295.87036,807.28223 292.58691,814.45312      292.19751,815.31201 290.88403,816.80029 289.12793,818.78223 286.65405,819.75537 284.56177,820.58008 280.97266,823.36377      280.56812,823.53564 279.88086,823.83252 277.71216,824.76074 272.91675,824.646 271.58081,824.61279 269.38916,823.87988      267.19775,817.854 265.54077,815.2085 259.27173,810.62793 257.1106,810.6499 255.7439,811.82959 255.47656,812.05908      252.84985,817.21387 252.15503,817.78613 249.55884,819.93994 246.9397,818.56494 244.65649,817.37256 238.34912,815.54004      235.30249,814.00635 231.1333,806.40137 229.89648,799.86133 228.56006,796.61914 228.5144,793.43555 228.48364,791.52295      227.46802,789.40283 225.45239,785.1543 225.24609,784.71826 224.37573,777.41064 224.16187,775.62354 224.13892,775.43018      224.07788,775.2915 220.87842,768.14404 221.74878,765.95801 221.84058,765.72803 221.27563,763.58594 221.1228,763.44922      218.81665,761.45605 211.94434,757.67627 211.50928,757.19482 206.96582,752.20068 204.53003,750.63281 202.25464,750.28809      196.17627,749.69189 195.22192,749.80664 191.77808,750.21875 187.43311,751.78857 184.08105,749.99072 181.18701,749.87598      180.56079,749.62451 179.33911,749.13232 177.01782,749.02832 173.8186,748.87891 166.08325,749.52051 165.44946,748.94824      164.21997,747.8374 163.51758,747.20703 163.21216,746.66895 162.5249,745.46533 160.93677,744.52637 157.56177,744.50439      156.68335,744.49365 154.06445,742.84326 153.10229,741.45752 151.42236,739.02881 144.90894,729.02979 144.01562,725.96094      142.10669,724.08154 139.20508,723.979 137.80762,723.30273 136.13525,720.85205 132.7373,718.30859 130.27856,717.98926      128.2627,719.14551 126.63623,719.14551 122.19214,714.1167 118.49634,707.82959 117.02271,707.34863 114.56396,707.62354      113.4187,707.74951 111.65479,708.77979 110.70801,709.32861 107.37866,709.71875 105.99658,709.32861 104.75195,708.29834      104.19434,707.84082 100.20093,707.70215 99.33032,706.71777 99.48315,704.52979 98.45996,704.02637 96.55078,707.07324      95.44385,706.76318 94.75659,705.65283 92.85522,702.57129 92.31299,702.05713 89.02197,698.93018 87.88428,698.35742      87.44727,698.13818 \" id=\"polyline33-2\"/>\n",
       "\t\t<polyline transform=\"matrix(1,0,0,0.9737543,234.44155,793.86372)\" style=\"fill:none;stroke:#0978ab;stroke-width:1.01338696;\" points=\"151.80981,494.94971 161.55981,487.94971 167.25952,485.30371 169.81714,483.32178      170.78711,482.57812 172.94043,480.91699 175.64331,480.10352 178.11743,480.09277 179.11011,480.09277 181.72144,481.11182      184.62329,482.24609 188.42578,481.6499 190.65552,482.37158 192.7019,481.74268 193.98462,481.3418 197.67285,483.67725      200.86475,483.59717 202.86523,481.6958 203.95728,478.23682 213.47925,473.0708 215.77759,471.82373 221.8252,466.86426      227.19312,459.30469 227.89575,458.31836 229.49927,456.06299 \" id=\"polyline35-3\"/>\n",
       "\t\t<polyline transform=\"matrix(1,0,0,0.9737543,234.44155,793.86372)\" style=\"fill:none;stroke:#0978ab;stroke-width:1.01338696;\" points=\"400.10034,379.27637 399.02368,379.79053 395.78589,385.90771 395.27466,386.88184      393.86157,389.56201 396.12183,392.95166 396.25952,394.07471 396.41235,395.39111 395.93091,396.77686 393.89966,402.67529      394.12915,403.71826 394.47241,405.28809 393.51782,408.44824 391.33423,408.82715 388.68457,411.0376 387.37134,414.39404      385.85938,415.41309 385.36304,418.64258 384.7522,419.23877 383.06445,418.81396 380.95703,418.28857 380.01782,419.83496      380.17041,421.15137 381.02588,421.86084 378.89526,423.38477 378.79614,425.27393 375.93262,424.56445 375.42847,425.7207      376.18457,428.13818 375.72656,430.14209 374.75659,431.03564 370.10645,431.3457 369.56421,432.12402 369.41919,432.33008      369.21313,435.91504 370.03003,437.771 371.69482,438.06836 371.91602,438.79053 372.22925,439.8335 373.17603,439.84424      373.69531,439.85498 374.63452,441.34473 374.68042,441.4126 375.97095,441.54004 377.58203,442.78711 376.88696,443.66943      375.33691,443.646 374.82544,444.61963 375.58911,445.47852 375.79517,445.70801 375.57373,445.9375 374.48193,447.08301      374.36743,448.50342 375.12329,449.56787 376.32202,451.24023 373.84814,451.26367 373.25244,452.2373 375.20728,452.90088      374.52002,453.96582 375.31421,455.35205 373.9856,456.25781 372.97754,458.19287 371.54956,456.94531 369.90015,456.93262      368.61743,458.78857 366.30371,458.13574 365.05908,460.4043 363.85278,462.32764 363.677,462.60303 363.8374,463.03711      364.40234,464.55029 363.98242,465.42041 363.79175,465.37451 362.32544,465.03027 362.2644,467.67725 360.59961,467.37842      360.11865,468.71875 361.05005,469.1543 360.98169,469.71582 358.3396,469.8418 357.01855,468.86816 356.52222,470.02441      357.31616,471.41016 359.45435,472.15576 360.72192,473.88428 360.79834,475.58008 359.82861,476.28955 359.88208,477.51611      360.46997,477.43604 361.06567,477.35547 361.40918,478.94775 360.92041,480.19678 360.01953,480.52832 361.47803,482.42871      360.44702,483.896 361.52368,485.45312 359.74463,486.39209 \" id=\"polyline37-9\"/>\n",
       "\t\t<path d=\"m 643.25132,1418.2347 0.75,-6.5729 c 0,0 -2.25,-4.6253 -3.5,-6.086 -1.25,-1.4606 -1.25,-3.4081 -1.25,-4.6253 0,-1.2172 0.75,-5.5991 0.25,-7.79 -0.5,-2.191 -1.3784,-6.5757 -1.3784,-6.5757 l -0.603,-3.3806 2.1074,-3.5793 -0.8018,-1.6175 0.2979,-1.483 0.8169,-2.4215 0.9468,-2.8105 1.3974,-1.3494 -1.5654,-4.3377 -0.5571,-0.9709 -1.7105,-2.9773 -2.749,-1.1155 -0.3057,-0.1227 -0.2749,0.011 -3.0849,0.1455 -2.6724,1.1259 -2.2832,-0.1669 -2.8862,-1.4278 -10.0337,3.2227 -3.2527,2.443 -2.9858,0.2344 -2.3899,1.4825 -8.4837,1.25 -1.4736,0.2239 -0.1526,0.021 -8.09422,-0.078 -0.63354,0.7032 -0.71021,0.7917 -0.47363,0.5239 -1.0918,-0.044 -1.7334,-1.5947 -1.21387,-1.1149 -0.61865,-0.156 -2.69556,-0.6928 -1.6416,-2.1305 -1.47388,-0.3904 -0.0762,-0.1227 -0.71777,-1.2143 0.38184,-1.4844 3.0542,-2.6312 0.35107,-1.4611 0.25977,-1.0494 -0.0991,-0.5007 -0.37427,-1.8628 0.6416,-1.7859 0.43506,-0.3889 2.70312,-2.4216 1.38965,-6.0883 0.1145,-0.513 0.7561,-1.3618 -0.34351,-1.9746 -0.16064,-0.9019 0.71777,-2.2423 5.19238,-7.5956 0.16064,-0.8026 0.27466,-1.4273 -0.87793,-3.2689 0.80933,-2.0521 1.7334,-1.9285 0.29761,-1.3831 -1.45825,-1.9637 -0.25195,-0.7136 -0.5957,-1.7169 0.19849,-0.9942 0.61865,-2.9988\" style=\"fill:none;stroke:#0978ab;stroke-width:1;\" id=\"path39-6\"/>\n",
       "\t\t<polyline transform=\"matrix(1,0,0,0.9737543,234.44155,793.86372)\" style=\"fill:none;stroke:#0978ab;stroke-width:1.01338696;\" points=\"504.16968,472.4292 504.04761,472.09717 503.55884,470.75732 501.88647,469.71582      500.16089,468.63867 497.46509,466.95557 497.28198,466.66943 496.02954,464.71094 495.70923,464.20605 493.84595,456.29102      493.83813,456.25781 491.79175,453.14209 490.28735,452.16797 488.54663,451.97314 487.16431,451.8252 486.49243,451.01221      486.49243,450.64551 486.54614,443.35986 482.62866,432.49072 481.30005,426.88916 478.07007,421.74756 478.41382,418.99805      477.57397,416.38672 474.06128,408.89502 468.98364,403.93555 465.37183,400.40869 462.40161,399.5957 459.48462,399.99658      457.00269,398.48389 456.06372,397.91113 454.88013,397.18896 454.17749,397.07568 452.57397,396.81152 451.32153,395.44922      451.46704,394.2915 451.55835,393.56982 451.65015,392.81445 451.73413,392.13818 451.8562,392.11621 452.28394,392.02344      452.77271,391.91016 454.9104,391.4292 454.88013,390.7417 454.85718,390.11084 453.41382,389.64209 452.06274,389.19531      452.04712,389.12646 451.63501,387.70557 451.9021,386.4458 452.03198,385.83887 452.40601,384.06445 452.70386,382.65527      453.2229,381.78369 455.84985,381.10889 456.71265,379.83789 456.31567,379.10498 454.3606,378.3374 452.88696,374.92383      452.52808,374.0874 450.97778,376.50488 451.11548,377.53516 452.59692,377.85596 452.70386,378.14209 452.90259,378.69141      452.66577,378.74951 450.63452,379.26367 449.802,381.18896 448.62622,381.521 447.00757,380.27197 445.04517,380.9707      444.93042,381.01758 444.0979,380.77686 443.03687,381.76172 441.15845,380.71875 438.17261,381.69238 \" id=\"polyline45-5\"/>\n",
       "\t\t<path d=\"m 739.95502,1266.5192 -2.1534,3.2793 -0.084,0.1226 0.3208,2.2086 0.4429,3.0896 -0.206,3.8598 0.015,2.5761 -0.252,0.3675 -2.8481,4.1722 -2.4053,1.3817 -17.7456,3.0235 -6.1851,0.3566 -0.031,0.021 -2.1914,1.3617 -3.1152,-0.3352 -2.4439,0.5696 -3.9629,-1.1273 -2.749,0.659 -2.3979,0.5801 -5.3067,-0.4137 -5.6045,3.2688 -2.6572,3.8813 -9.0332,7.2832 -0.1226,0.099 -0.084,0.1897 -0.3359,0.7479 -0.015,1.7502 -1.2754,4.0942 2.3062,6.8805 -0.9776,2.7215 -0.9697,2.6988 -0.061,2.6669 0.1299,0.4226 1.1377,3.5703 -0.2212,3.2227 0.1601,0.5359 0.2139,0.7136 1.3286,4.4604 -1.0918,5.9338 1.9317,2.8547 2.5429,1.9085 7.147,7.5053 0,4.3162 2.5659,4.5736 2.3057,3.022 3.4746,4.5398 0.229,1.0921 c 0,0 1.8208,3.7624 3.5708,4.7361 1.75,0.9738 4.5,1.9475 4.5,1.9475 0,0 1.5,1.2172 1.5,2.191 0,0.9737 -0.5,1.4606 -1.5,1.9475 -1,0.4869 -1.25,2.4344 -1.25,2.4344 l 1,3.4081\" style=\"fill:none;stroke:#0978ab;stroke-width:1;\" id=\"path47-7\"/>\n",
       "\t\t<polyline transform=\"matrix(1,0,0,0.9737543,234.44155,793.86372)\" style=\"fill:none;stroke:#0978ab;stroke-width:1.01338696;\" points=\"570.60962,655.63477 572.54126,658.95557 572.60229,659.17383 572.80103,659.87207      573.3811,661.93262 573.28198,662.84961 573.25122,663.13623 573.20581,663.52588 572.02954,674.54443 571.25854,677.70654      570.1438,682.26465 568.00562,685.74561 565.55444,687.6582 560.00317,691.99951 556.60522,695.62988 556.58228,695.67725      555.02466,698.75684 554.55103,699.68506 553.57397,701.59766 547.86206,715.61768 547.34302,721.22949 547.19019,722.89062      546.96118,725.36475 544.86108,734.32129 543.37231,749.66992 543.10522,752.43066 541.18872,759.0166 538.78345,764.39893      535.83569,769.07227 535.54565,769.53174 529.74976,775.90967 527.61206,776.65527 522.99194,776.09375 519.80786,777.64014      517.5481,777.45752 \" id=\"polyline49-4\"/>\n",
       "\t\t<path d=\"m 612.14592,1129.5707 0.3052,0.6352 1.008,0.045 1.3743,0.8254 6.5669,3.9592 2.291,0.1669 0.8398,0.055 9.522,-0.7136 4.7725,0.435 1.3134,0.1227 -0.1069,0.6799 -0.6797,4.2274 -1.0156,1.25 -1.0688,1.3156 -3.566,2.276 -0.5268,2.5975 -0.049,0.9352 -0.25,1.2172 c 0,0 -0.5,1.0955 -2.125,2.0693 -1.625,0.9737 -0.125,3.0429 -0.125,3.0429 l 2,2.3127 1.7246,2.0345 0.5649,2.2742 -0.076,0.3908 -0.2978,1.4611 0.1142,0.6357 2.1841,1.4611 1,-0.044 2.2222,-1.6617 0.4126,0.3338 1.9624,1.5837\" style=\"fill:none;stroke:#0978ab;stroke-width:1;\" id=\"path59-3\"/>\n",
       "\t\t<polyline transform=\"matrix(0.99999273,0,0,0.97691754,234.44544,792.85013)\" style=\"fill:none;stroke:#0978ab;stroke-width:1.01174867;\" points=\"668.43481,117.44971 667.47095,120.54614 667.50122,120.92358 667.57739,121.72583      667.86011,124.81836 667.92114,125.5166 669.98267,129.125 671.68579,130.3501 672.41089,130.86621 673.49536,131.64478      674.73999,135.56128 674.427,137.17676 673.13647,138.39111 673.07544,138.44775 671.27319,139.02051 670.14331,139.38672      668.18091,141.72412 668.37183,142.41162 668.38696,142.45728 668.8147,144.04907 667.71509,147.10669 668.66968,150.65698      669.26489,155.69678 669.82251,160.41699 671.94556,162.98242 669.59351,167.30029 667.10376,167.6665 663.6145,168.44531      660.27759,168.18262 658.22388,173.24438 657.86499,173.37012 652.55786,175.2373 650.39673,177.0022 649.99243,178.71973      650.66431,184.72217 650.09888,192.56787 648.44214,195.54565 646.10571,197.50391 642.54712,198.85498 638.31665,198.86621      631.36841,198.87866 625.18481,199.82471 621.80981,200.44971 618.75366,202.71509 616.70728,204.25049 616.38647,204.49097      616.23413,204.60571 615.20337,204.64038 613.18726,204.70801 610.6521,206.12842 610.11011,206.66626 606.72729,210.03394      605.21509,211.5127 602.6189,216.40283 601.27515,217.59351 598.3811,216.78027 598.28979,216.78027 597.36548,216.83838      596.54126,216.9187 595.56372,217.99463 594.92212,220.65137 594.02905,221.44238 592.54712,221.30566 590.27173,219.69019      586.15601,220.78955 584.17114,219.55176 583.95679,218.91162 582.92603,215.81934 582.17017,215.38354 581.51343,215.60059      581.26147,215.69189 580.02466,217.25049 579.57397,218.95728 579.29907,220.01123 579.48999,222.67871 579.51294,222.96509      579.53589,223.21826 579.65796,224.81006 579.58179,225.2334 579.52808,225.51953 579.16919,227.54712 578.89429,229.08228      578.42114,230.03223 577.35181,232.16357 576.91675,233.02246 576.64185,235.50757 576.30591,238.49658 575.40503,239.38989      572.77026,239.59766 568.5022,239.94043 567.17358,241.21143 565.21851,244.24707 564.9895,244.60254 563.70679,248.00342      561.30103,254.36108 556.69702,259.34277 554.40601,259.72168 552.60425,258.3689 550.76392,258.34692 544.44897,264.34766      542.28052,265.4707 536.9812,266.71973 535.19409,268.10547 534.40015,269.49121 533.46851,271.10669 532.59058,272.0332      530.81909,273.94751 528.44409,274.6001 521.15942,272.06763 510.45386,271.15234 509.9729,271.10669 507.33862,271.46045      505.84937,271.65576 502.13843,273.31665 501.0769,273.37329 494.052,273.75244 489.96704,275.24023 486.69116,278.49316      483.67505,279.18066 483.40747,279.43384 479.9563,282.74341 479.46753,282.83447 478.67358,282.98389 477.39819,283.22461      477.09302,283.44165 476.24536,284.04883 473.55005,285.93945 469.8772,286.17871 466.48657,284.44995 463.92114,284.74731      461.20239,287.87427 453.39087,290.48535 450.84839,293.41895 447.72534,293.55566 446.36597,296.16675 444.21265,298.2981      442.47925,300.01587 436.63794,303.3833 434.23999,307.44946 432.72827,308.65137 428.23853,308.81152 425.14624,310.24463      418.96899,311.25146 415.24976,312.92334 407.88892,319.01709 407.14038,319.28125 407.10229,319.29248 404.71997,320.10547      402.32251,319.93408 399.09204,318.12354 398.96997,318.05615 398.66479,317.88281 397.51929,317.24268 396.63354,316.75049      396.5647,316.71582 394.34302,316.44043 \" id=\"polyline61-9\"/>\n",
       "\t\t<polyline transform=\"matrix(1,0,0,0.9737543,234.44155,793.86372)\" style=\"fill:none;stroke:#0978ab;stroke-width:1.01338696;\" points=\"486.69116,278.49316 487.53101,280.56641 488.22583,282.29663 488.74536,284.64502      489.47046,287.89795 488.56177,290.48535 485.04175,294.49463 484.99585,294.66626 483.61401,299.93555 482.00269,301.13721      480.79614,302.97144 479.70435,307.82715 480.04028,312.20312 480.30005,315.63818 478.1311,318.74316 477.59692,321.30859      478.3147,325.43164 480.51392,327.50439 482.52173,328.24854 485.49243,329.34961 485.55347,329.37158 489.34839,332.13232      489.50122,332.39502 490.73071,334.52588 492.70825,336.39307 493.69312,337.32129 494.07495,337.68799 499.45825,341.42188      500.23706,342.82959 500.90161,344.0332 501.34448,344.8335 503.15405,346.35791 503.94849,347.83496 504.08569,348.44189      505.17017,353.25342 508.0105,357.6626 508.78149,360.84619 510.9353,364.23779 512.63794,365.58838 517.03638,365.31348      518.43335,365.81836 519.36499,368.61182 520.98364,369.95215 524.0686,370.74316 524.50415,370.85791 525.82495,370.91455      528.81812,371.05127 529.97876,372.42627 530.59741,373.56055 535.40796,382.39062 535.698,383.83496 535.9729,385.19678      535.91187,386.41113 535.82056,388.4165 535.82056,388.7832 535.88159,396.00928 535.93481,403.12207 536.91235,404.7832      540.09644,406.44434 541.24976,410.26953 542.74634,411.04834 544.28101,410.61426 545.80054,411.87402 546.40356,415.72168      547.29712,417.56689 552.14575,422.28564 552.37476,423.49951 551.60376,424.94189 552.19165,425.96143 553.12329,426.29346      551.78687,429.6499 551.96265,430.21143 552.77173,432.80029 553.97095,436.63672 557.10913,439.69482 558.81226,441.35547      562.74438,443.75 564.60767,443.89941 568.98315,444.26562 572.06763,446.21143 577.26782,445.73193 580.00903,448.18262      583.10962,448.05664 584.49927,448.57227 587.55347,452.04248 590.95923,452.66064 591.92896,453.43896 591.95923,453.4624      592.08911,453.56494 592.98267,455.60498 590.59253,460.32373 591.58521,462.45361 589.85181,467.51709 587.9812,468.90283      585.34692,469.29102 583.22388,468.6167 582.41431,468.9375 581.56714,470.8501 579.94067,471.28418 579.61987,472.52197      580.96362,474.17041 \" id=\"polyline63-4\"/>\n",
       "\t\t<path d=\"m 901.54532,957.12972 -0.2134,1.7509 0.3438,0.5698 0.5346,0.8701 1.5196,1.0475 0.099,0.2448 0.6567,1.6622 0.3589,0.9034 -0.565,0.8364 -1.4658,2.1643 1.0537,0.9818 3.4361,0.2342 0.1831,0.011 1.7031,1.3263 1.1909,2.4325 -0.03,0.5573 -0.084,1.472 -1.4892,2.3419 -0.2671,2.1306 -0.023,0.1671 2.6953,0.4683 1.0996,2.5319 0.069,0.045 2.5732,1.5177 2.6802,2.6652 4.1236,7.3044 0.7177,0.5025 1.9239,1.3385 0.9243,5.38698 1.8784,1.037 1.0688,-1.2272 1.2979,0.1457 0.5581,2.9225 0.5723,0.6247 1.2832,-0.3247 0.664,0.4474 -0.4121,1.5714 1.4278,1.4169 0.5268,2.0079 -1.4277,1.3266 0.7788,1.2604 1.0845,1.6175 -1.3824,0.6923 -0.5878,1.7611 0.4047,1.0817 1.5347,1.7845 1.7866,0.9599 3.4287,0.5347 0.3282,1.5502 -0.7559,2.1306 1.1148,3.3128 2.8637,8.4992 1.8399,2.8766 3.6958,3.0004 0.2749,5.6887 1.2446,1.6049 -0.1299,0.9374 -0.091,0.6357 1.0078,2.8107 -0.313,1.2943 -0.3359,1.3938 -2.0161,3.2686 -0.084,3.1231 1.3974,3.2669 1.711,7.5618 -0.2827,3.3787 -0.3135,3.8047 0.5347,2.3635 0.069,0.09 1.5654,2.152 0.832,3.1 -0.229,1.2835 -0.9394,5.174 -0.2979,0.781 -1.229,3.2244 -2.2602,3.647 -0.9698,1.5714 -0.01,0.012 -0.023,0.022 -1.229,1.1274 -3.3984,0.2558 -2.5576,0.2006 -2.0005,0.804 -3.0396,4.0482 -0.1293,0.1773 -2.688,2.0084 -3.8716,5.2643 -6.8267,4.6282 -2.7636,2.6655 c 0,0 -1.2237,3.0819 0.5263,5.5163 1.75,2.4344 3.25,2.4344 3.25,2.4344 l 3.2945,0.2591\" style=\"fill:none;stroke:#0978ab;stroke-width:1;\" id=\"path65-4\"/>\n",
       "\t\t<polyline transform=\"matrix(1,0,0,0.9737543,234.44155,793.86372)\" style=\"fill:none;stroke:#0978ab;stroke-width:1.01338696;\" points=\"671.94556,162.98242 672.91479,164.17334 674.40405,163.91064 675.48853,163.71558      677.39722,165.59375 678.1687,166.3501 679.3064,166.66943 679.38257,166.69312 679.40552,166.72754 680.4519,168.26294      680.70386,170.41626 682.76538,168.99609 684.41479,167.84912 685.36938,168.28491 687.698,169.33887 689.72925,169.17822      690.49292,169.90039 690.63794,171.50317 690.43921,172.36182 690.18774,173.45044 689.82837,175.02026 689.94312,175.34131      691.45483,179.66992 692.9895,179.75 694.70044,179.854 695.73853,180.57422 697.39575,183.19775 700.50317,188.1228      700.80884,188.604 702.67993,189.3938 703.36694,189.2915 706.63501,188.79932 708.04028,189.40625 709.88062,191.9939      712.3772,192.18896 715.56909,193.59839 717.01196,195.53467 718.38696,204.06641 719.7229,205.33862 721.57837,205.65967      723.94604,201.5354 725.17505,200.71118 725.87769,200.64209 728.6189,200.35547 746.33423,205.73975 747.8689,206.46021      750.39624,207.66357 751.57983,208.2251 751.85474,208.48779 752.96216,209.55273 753.09937,209.69116 753.2063,210.11426      753.41235,210.93848 753.6189,211.78613 754.14575,213.89404 753.83228,216.18555 753.77124,216.64355 754.35962,217.93799 \" id=\"polyline67-0\"/>\n",
       "\t\t<path d=\"m 967.00132,1332.5443 c 0,0 5.25,-3.6516 6.25,-4.3819 1,-0.7303 2,-3.1647 2.25,-4.6254 0.25,-1.4606 0.5,-5.1122 0.75,-6.3294 0.25,-1.2171 2,-2.6778 3,-3.6515 1,-0.9738 15.5,-9.0073 15.5,-9.0073 l 4.9615,-4.0894 1.11468,-2.3313 0.068,-0.4241 0.01,-0.066 1.1836,-7.7301 1.0386,-6.8144 -0.5269,-2.2746 -0.3208,-1.3618 -0.1987,-0.8363 0.8935,-3.702 1.8555,-4.0833 1.0615,-2.3298 7.4907,-10.6067 1.6646,-2.354 2.4209,-3.4234 1.374,-1.9403 1.4282,-2.0189 1.107,-2.9669 0.2905,-2.1643 0.313,-2.3526 -1.2525,-8.0644 -0.099,-0.6247 -1.3671,-2.9884 -3.4053,-7.4286 -1.1221,-3.547 -1.2988,-4.1033 -2.3135,-10.3956 -1.1455,-3.022 -1.313,-3.48 -1.1074,-2.9455\" style=\"fill:none;stroke:#0978ab;stroke-width:1;\" id=\"path69-6\"/>\n",
       "\t\t<polyline transform=\"matrix(1.0107682,0,0,0.97371529,223.91827,793.87174)\" style=\"fill:none;stroke:#0978ab;stroke-width:1.00799465;\" points=\"768.54712,123.70605 772.80786,124.21094 781.77954,126.86768 783.33765,126.35352      783.52856,123.3396 787.12476,119.36621 788.53003,119.70947 792.27173,122.29834 793.6311,123.2373 795.15015,123.44336      797.07446,123.70605 799.3728,122.9856 801.54907,121.32471 802.51147,121.41602 803.03833,121.47412 804.49683,124.06152      806.82544,124.47363 807.6272,125.98682 807.9021,126.51367 809.03247,127.24683 813.698,125.03516 815.63745,124.79468      828.29028,129.92554 836.86499,131.86182 845.20337,131.82715 849.46411,131.81641 852.96118,130.97949 855.64185,128.84961      857.4895,127.97998 857.97827,127.73926 863.74341,128.90625 864.21704,128.99902 869.36353,127.17773 871.677,127.11938      881.96997,129.09033 882.56567,129.20508 889.59839,132.61841 889.78931,132.65308 893.69116,133.37354 901.30444,137.6582      905.33618,139.9248 905.35132,139.9375 911.98706,143.68262 917.99634,143.0752 921.40942,146.86621 923.66968,148.41235      927.28931,152.94873 929.15991,153.85303 931.26001,153.94434 933.42114,154.03711 935.38306,155.03271 935.41382,155.07861      936.33765,156.32739 937.29224,161.87061 938.99536,163.62256 943.7063,165.73047 944.22583,165.95996 944.08032,166.17725      943.14917,167.58643 938.27759,169.00684 935.78052,173.19873 932.94751,174.77979 930.22925,177.09326 929.0686,179.0061      927.32739,179.79565 926.01392,179.5332 923.51733,179.02808 920.87524,180.68896 917.83618,181.04468 915.04126,180.16211      912.78833,178.70898 910.74976,178.57031 908.81812,179.68262 908.01636,180.14014 901.54858,180.47217 900.83081,181.04468      899.823,181.83447 898.83813,185.77441 898.79956,185.92383 898.47144,187.24048 898.50952,187.45898 899.11304,191.08936      901.41919,194.61768 901.84644,197.14844 899.91431,201.70679 901.12134,205.63599 900.89185,207.72021 900.88403,211.48877      902.3811,220.41211 901.86157,221.92383 902.93823,224.53516 902.36597,227.75317 902.57935,234.95728 902.64819,237.20337      902.73999,240.2959 902.81616,243.10205 905.26733,249.08057 906.2522,251.4856 907.40552,254.30273 908.10034,255.23096      909.63501,257.29321 910.73462,258.74805 913.26978,261.14209 923.70044,265.99756 926.82349,268.84937 929.43481,271.24365      930.12964,272.99561 930.99243,275.16016 934.12329,277.28052 934.63501,277.62354 936.29956,278.05908 937.62085,279.63989      938.65161,281.82617 939.55249,283.73901 940.21704,284.39331 940.96509,285.12622 941.58374,286.63794 942.03394,287.7373      942.39282,288.05811 945.21802,290.58911 945.79858,290.73877 950.58618,291.98584 953.427,291.64307 957.61108,289.29468      958.29858,289.42041 962.1394,290.14258 964.60571,289.14502 965.58325,288.27539 965.69019,288.18408 966.11011,286.29346      965.70532,284.59937 966.94995,282.50269 966.71313,279.77661 967.67554,277.21118 976.94556,271.18701 \" id=\"polyline71-0\"/>\n",
       "\t\t<polyline transform=\"matrix(1,0,0,0.9737543,234.44155,793.86372)\" style=\"fill:none;stroke:#0978ab;stroke-width:1.01338696;\" points=\"990.39233,257.24756 993.49243,255.58643 996.12671,253.28369 998.79175,248.1416      999.29565,245.49609 998.46313,240.70801 997.59302,238.46338 996.3938,236.86987 995.41675,235.57715 993.96606,234.44287      989.79663,231.1665 988.65112,229.20825 989.52173,226.27637 989.13989,225.62354 988.11646,225.35913 985.91772,225.96631      984.15356,225.53076 980.3894,221.73975 977.70923,212.1875 975.55542,210.90527 973.79175,205.47559 972.23413,204.77734      971.04272,204.23926 970.58472,204.0332 970.05786,203.80371 969.78296,203.67773 968.72144,201.34033 968.82104,201.09961      969.68384,198.96997 977.93823,191.35352 978.82397,189.6582 979.27417,188.78809 980.37378,183.58813 979.51099,182.1897      980.94653,179.71533 978.79321,173.90967 977.2356,174.50439 975.89185,171.99561 975.08228,173.14209 974.05884,173.06201      973.01294,171.38989 969.00415,169.96948 967.70581,168.27393 967.2937,167.73584 966.82788,163.03906 964.07886,164.21875      962.49829,163.7832 961.78052,165.021 959.54321,164.03638 957.0769,161.06982 954.80884,163.47485 952.37329,161.82471      949.96802,162.06543 944.90552,165.05566 944.49292,165.29639 944.22583,165.95996 \" id=\"polyline73-2\"/>\n",
       "\t\t<polyline transform=\"matrix(1,0,0,0.9737543,234.44155,793.86372)\" style=\"fill:none;stroke:#0978ab;stroke-width:1.01338696;\" points=\"359.16431,277.81836 361.08081,277.4519 362.67676,276.14648 366.10522,276.63867      368.92285,273.77441 369.77051,273.62646 376.97119,272.354 380.49878,268.98779 385.66846,269.021 387.74536,268.1748      390.23462,268.24219 392.27319,269.30713 395.05298,270.75122 398.30591,269.37646 405.16284,270.09839 405.71265,270.06372      408.69067,269.8689 414.40991,269.50244 414.98999,269.46777 418.89966,270.32812 423.48901,269.83398 424.82544,268.73462      424.9397,267.22314 424.38208,265.71143 424.06909,264.85254 423.58032,263.51245 423.82495,262.80151 424.48169,260.92334      425.64233,259.94971 425.71118,259.89307 426.26099,259.43555 429.33032,258.07178 430.6897,254.95557 430.84204,254.60181      433.36206,252.68921 433.60669,252.50488 434.53784,248.31299 434.6604,244.56812 434.69849,243.50317 435.11841,242.24316      435.7981,240.18115 436.16431,239.09277 435.6145,237.04297 432.82007,232.26611 432.39233,230.50269 431.70532,227.69653      431.27759,224.31787 431.49927,222.18652 431.92651,218.06396 429.45239,216.3916 429.86499,214.39893 431.10181,208.40771      431.2854,207.5376 434.59888,207.20581 436.11108,205.91138 439.47876,204.71899 448.34399,205.26953 448.37427,205.26953      450.48169,202.72607 452.13892,202.46338 455.89575,203.31128 456.33862,203.41357 460.50024,203.51733 461.85132,202.80615      468.63989,194.97314 469.15894,194.10156 470.36548,192.06299 472.50366,190.00098 474.60376,189.33716 475.03882,188.75366      474.55005,188.11182 474.74097,187.16187 474.85571,186.6001 475.51196,186.89746 477.49731,187.80176 479.35278,187.91699      479.9563,187.41357 480.39917,187.04688 481.49878,186.12988 484.64478,186.2793 486.36304,187.448 487.1189,187.9624      493.43384,186.38159 494.31177,185.21436 494.28882,182.29346 496.7478,179.17749 496.28198,174.57349 497.198,172.08838      496.55688,169.9458 496.59497,168.76611 496.63306,167.30029 498.51929,165.81055 498.6106,164.37939 498.74048,162.21484      499.38208,161.16113 499.802,160.47363 500.20679,159.81006 500.21411,159.79736 500.10767,157.16406 500.8479,155.33008      500.96997,155.03271 501.11548,154.67725 500.84058,153.86426 499.85571,150.95557 499.74097,148.12598 500.48169,144.27881      500.58081,143.7627 500.15308,142.36426 499.74829,142.03247 498.71753,141.19727 \" id=\"polyline75-2\"/>\n",
       "\t\t<polyline transform=\"matrix(1,0,0,0.9737543,234.44155,793.86372)\" style=\"fill:none;stroke:#0978ab;stroke-width:1.01338696;\" points=\"405.71313,350.43506 405.8269,349.0835 405.94946,347.77832 409.18677,343.2417      410.18726,341.83398 411.12671,337.0459 411.23315,336.5083 413.77612,330.60938 417.24243,322.55615 420.26685,318.16895      423.60376,314.62988 425.13062,310.24463 \" id=\"polyline77-8\"/>\n",
       "\t\t<path d=\"m 1077.1556,1492.5067 0.9698,-1.037 6.1777,-0.7921 0.1221,-0.012 4.3984,-1.7721 0.9692,-0.3908 7.1475,0.3785 3.001,-2.8324 3.123,-1.83 2.1534,-0.602 3.146,0.2677 1.1074,0.089 6.0093,-6.2338 0.519,-0.5359 2.2602,-3.7253 0.8628,-0.8805 2.8252,-2.8443 1.1685,-1.1715 1.5732,-2.8889 -1.5044,-2.7325 -1.9169,-3.5242 -3.375,-4.6947 -0.1221,-5.1983 -0.046,-1.8733 -8.2695,-19.8198 -0.9009,-7.2385 -0.8477,-1.3941 -1.7944,-2.9436 c 0,0 -7.6611,-3.8822 -9.1611,-4.3691 -1.5,-0.4868 -3.25,-1.2172 -4,-3.6515 -0.75,-2.4344 -2.5,-4.6254 -4,-5.8426 -1.5,-1.2172 -5.5,-5.8425 -6.75,-7.79 -1.25,-1.9475 -3.25,-4.6253 -6,-5.3557 -2.75,-0.7303 -5,-1.4606 -5,-5.1122 0,-3.6515 -1.25,-7.79 -2.25,-9.2506 -1,-1.4607 -1.75,-3.895 -4,-4.3819 -2.25,-0.4869 -6.25,-1.9475 -7.75,-3.1647 -1.5,-1.2172 -1.25,-1.2172 -2.5,-3.6516 -1.25,-2.4344 -4,-4.1385 -5.5,-4.3819 -1.5,-0.2434 -2.5,0 -5.25,-0.2434 -2.75,-0.2435 -5,-0.9738 -6.5,-2.6779 -1.5,-1.704 -4.5,-4.6253 -4.5,-4.6253 0,0 -5.5,-5.1122 -8.5,-5.3556 -3,-0.2435 -15,-1.9476 -17.25,-1.4607 -2.25,0.4869 -7.49998,0.9738 -10.49998,0.9738 -3,0 -6.25,0.2434 -7.5,0.7303 -1.25,0.4869 -10,2.6778 -11.25,3.895 -1.25,1.2172 -4,2.191 -4.25,4.1385 -0.25,1.9475 -1.25,3.895 -3,4.6253 -1.75,0.7303 -4,2.9213 -4,2.9213 l -2.5,1.4606 c 0,0 -3.5,0.4869 -5,0.4869 -1.5,0 -3.5,-0.2435 -3.5,-0.2435\" style=\"fill:none;stroke:#0978ab;stroke-width:1;\" id=\"path85-4\"/>\n",
       "\t\t<line style=\"fill:none;stroke:#0978ab;stroke-width:1;\" x1=\"1327.7808\" y1=\"1379.4243\" x2=\"1320.5649\" y2=\"1382.3798\" id=\"line87-3\"/>\n",
       "\t\t<path d=\"m 1098.5013,1065.0053 4,0.4869 c 0,0 4,0 5.5,0.4868 1.5,0.4869 2.75,8.0335 2.75,8.0335 l 2.5,6.086 3.25,2.6778 6,6.086 c 0,0 1.75,1.9475 2.5,3.6515 0.75,1.7041 2.25,4.1385 3.75,5.1123 1.5,0.9737 4,2.4343 5,2.9212 1,0.4869 2.25,0.4869 3.5,0.2435 1.25,-0.2435 3.5,-0.7304 3.5,-0.7304 l 3.5,-0.9737\" style=\"fill:none;stroke:#0978ab;stroke-width:1;\" id=\"path93-1\"/>\n",
       "\t\t<polyline transform=\"matrix(1,0,0,0.9737543,234.94406,792.33173)\" style=\"fill:none;stroke:#0978ab;stroke-width:1.01338696;\" points=\"572.76294,497.0332 571.8313,497.42188 568.44849,498.82031 567.42505,499.24316      566.74585,499.52979 563.98169,498.8877 562.66821,500.25146 562.23267,501.17969 560.72095,504.38672 558.87329,506.16113      557.52173,506.49316 \" id=\"polyline41-6\"/>\n",
       "\t\t<polyline transform=\"matrix(1,0,0,0.9737543,234.94406,792.33173)\" style=\"fill:none;stroke:#0978ab;stroke-width:1.01338696;\" points=\"617.87573,474.77783 618.05103,474.83594 620.91479,475.8208 621.11304,475.88965      624.77075,476.22168 625.7561,476.22168 630.25317,476.20898 632.73511,475.95752 641.62329,475.05273 648.51099,478.77588      648.60229,478.84375 654.32202,483.28906 656.12378,484.15869 663.59937,487.76709 664.302,488.46533 667.44751,491.55762      668.97485,493.05859 670.67749,495.66943 673.96899,500.72021 678.29858,504.81006 681.08521,506.60791 685.62134,511.36133      687.62915,514.49902 689.42407,524.91211 691.1189,530.08838 692.34839,533.86865 694.79956,539.34375 697.92261,542.92871      697.96069,544.33643 697.19702,546.05566 \" id=\"polyline43-4\"/>\n",
       "\t\t<path d=\"m 583.7466,1132.6122 -4.91821,5.2016 -4.96069,0.7865 -2.80859,3.2964 c 0,0 0,1.0113 0,1.7972 0,0.7865 -0.23071,4.0443 -0.23071,4.0443 l -0.23071,1.7236 -0.6416,1.9104\" style=\"fill:none;stroke:#0978ab;stroke-width:1;\" id=\"path209-8\"/>\n",
       "\t\t<path d=\"m 1059.9516,881.35018 2.4223,0.36897 -6.6146,-0.59148 -2.8023,-0.54655 -4.5435,-3.3575 -3.4589,-0.8915 -4.6807,-1.19437 -5.0015,0.51303 -2.4052,0.24652 -2.543,-1.216 -1.9468,-0.13337 -7.1548,3.22248 -0.5576,-0.53585 -2.6118,-2.56419 -0.939,-0.91431 -2.5351,-1.0263 -1.2525,-0.0335 -0.4809,-0.0124 -0.8325,-0.0214 -1.2442,-0.0228 -0.8857,0.7365 -0.3819,0.31238 -0.5498,2.45388 -0.4355,1.97413 -0.5191,0.5009 -0.893,0.85941 -0.7564,0.72437 -0.9394,2.58868 0.1225,1.44874 0.023,0.29099 2.0386,4.95198 1.3594,3.30069 -0.6797,2.13056 -1.6338,1.23764 -2.3218,-0.21134 0.7486,-2.76626 -0.2139,-2.18548 -2.8403,2.36474 -0.7486,2.95454 2.3135,9.10114 -0.5727,2.4981 -2.1148,3.82607 -0.1221,1.40453 -0.084,0.98183 -2.71873,2.18572 -2.0235,3.54745 -2.6728,3.469 -0.6182,4.1494 -2.4131,2.7325 -3.6113,-5.95664 -7.2085,-3.89217 -0.855,-0.45787 -0.3213,-0.17758 -3.9091,-0.43505 -2.566,0.75812 -0.7329,0.21159 -3.3066,0.9709 -5.0625,1.26046 -2.7715,0.2558 -2.0923,1.08145 -1.6645,0.1348 -0.6875,-0.21301 -3.8028,-1.20364 -1.038,-0.52396 -2.4517,-1.39384 -1.481,0.14407 -3.1386,3.21177 -3.2222,0.64807 -5.2002,-0.39084 -5.3296,-1.3829 -1.0005,-0.55771 -0.6792,-0.3673 -1.1533,-0.63736 -3.772,-4.7511 -3.3979,-1.99577 -0.5196,-1.53932 0.3589,-3.13379 -1.4506,-1.8857 -2.4512,-1.10403 -4.71096,0.42412 -3.16162,-2.83187 -1.31592,0.13788 c 0,0 -0.875,0.85204 -1.375,1.09547 -0.5,0.24344 -1.875,0.6086 -3.375,1.09548 -1.5,0.48688 -2.625,-0.6086 -3.5,-2.92126 -0.875,-2.31267 -4.375,-1.2172 -5.25,-0.6086 -0.875,0.6086 -3,3.65158 -3.5,4.26017 -0.5,0.6086 -2.125,2.79955 -4,3.89502 -1.875,1.09547 -6,2.43439 -7.625,2.67783 -1.625,0.24343 -4.31348,2.95977 -4.31348,2.95977 l -1.42822,0.98017 -4.24512,0.51303 -1.78711,1.79655 -2.17627,6.502 -1.16797,1.04936 -1.66455,0.14407 -3.44385,-1.59472 -2.20703,-1.04911 -1.1377,0.27886 -0.61084,0.14549 -2.38232,3.21177 -1.61133,0.56961 -0.37402,0.13336 -3.33691,0.76906 -3.47461,1.21601 -2.12988,-0.0107 -2.85645,-2.09681 -1.87793,-0.58054 -2.85596,0.3799 -4.28369,0.0551 -3.39795,0.0338 -0.71777,0.66945 -1.02344,2.41964 -0.98486,0.8701 -2.03125,0.25723 -3.375,-1.07052 -2.75635,-1.8303 -0.80176,-1.62824 -0.4126,-2.93291 -0.16016,-1.1259 -0.34375,-2.45388 -0.0991,-0.69228 -1.70312,-3.42335 -0.771,-0.61383 -0.5498,-0.16712 -2.35938,-0.73674 -2.78711,-0.26649 -10.20946,2.11844 -3.01611,-1.34961 -1.58057,-0.0335 -2.35938,1.19294 -0.22168,1.47347 -1.0918,2.79859 -2.47412,3.00018 -1.51172,1.82912 -1.52734,1.07052 -2.03125,0.66922 -1.96973,0.61431 -0.19873,0.0658 -3.80273,1.16109 -1.43555,0.32308 -0.39697,0.0889 -11.2627,2.54255 -1.24463,0.71391 -4.52051,3.11216 -3.86377,0.70297 -2.52734,-0.72437 -1.96289,-1.75233 -1.83984,-1.6494 -2.44385,-2.18738 -1.65674,-1.48275 -1.1377,-1.01559 -0.51953,-0.88057 -0.48096,-0.81471 -2.01562,-1.67269 -2.0542,1.77373 -1.97021,1.69551 -3.06201,-0.27862 -1.12207,-0.10127 -0.3208,-0.34614 -1.27539,-1.39359 -0.24463,-0.26816 -1.07617,-1.18106 -0.6875,-3.08934 0.23682,-3.15686 0.29004,-3.89335 0.77148,-3.92568 -0.229,-0.71367 -1.16113,-3.63613 -2.99316,-2.89963\" style=\"fill:none;stroke:#0978ab;stroke-width:1;\" id=\"path23-9\"/>\n",
       "    <polygon transform=\"matrix(1,0,0,0.9737543,234.57523,793.33971)\" points=\"408.21704,384.46387 407.24731,383.91504 406.52173,383.50293 407.99585,381.64697 407.99585,381.64697 410.15649,380.604 415.1814,382.26514 417.14331,382.51807 422.51147,383.19287 425.60425,383.58301 427.56665,382.45996 430.40698,382.32324 432.85815,383.91504 434.72876,382.51807 438.17261,381.69238 438.21069,382.54053 432.3772,385.4502 428.91821,383.99512 425.7644,385.1748 422.68726,385.14014 420.80884,385.1167 415.42554,383.66357 413.37134,384.88867 409.99634,383.5249 409.82056,383.45752 409.62231,383.58301 \" style=\"fill:none;stroke:#0978ab;stroke-width:1.01338696;\" id=\"polygon191-3\"/>\n",
       "    <polygon id=\"polygon111-2\" style=\"fill:#0978ab;stroke:#0978ab;stroke-width:1.01338696;\" points=\"818.10376,219.79248 821.15063,219.90723 823.41821,225.40479 822.20435,228.16528 822.20435,228.16528 818.9436,227.12402 818.4856,223.74536 817.23315,221.79785 817.29419,220.47998 \" transform=\"matrix(1,0,0,0.9737543,234.57523,793.33971)\"/>\n",
       "    <polygon id=\"polygon113-0\" style=\"fill:#0978ab;stroke:#0978ab;stroke-width:1.01338696;\" points=\"798.67065,234.55786 798.67065,234.55786 795.9519,236.33203 794.34888,231.7627 792.03491,228.1543 789.08716,225.22217 787.82007,222.80469 786.21606,221.625 784.82642,218.08594 785.22388,215.62427 785.99487,215.3252 786.77368,215.01709 790.13354,216.4248 791.11108,218.37207 793.10376,220.29736 794.56226,222.98877 794.69995,224.53516 794.97485,227.69653 795.55493,228.71582 799.7854,231.61328 800.19751,233.20508 \" transform=\"matrix(1,0,0,0.9737543,234.57523,793.33971)\"/>\n",
       "    <polygon id=\"polygon115-7\" style=\"fill:#0978ab;stroke:#0978ab;stroke-width:1.01338696;\" points=\"668.43286,265.64209 668.43286,265.64209 664.7522,257.22388 663.84351,255.15063 661.82007,244.28174 661.47681,239.48267 662.59106,237.08862 664.11841,238.54346 666.95923,243.53613 670.66235,258.02612 669.40259,264.4751 \" transform=\"matrix(1,0,0,0.9737543,234.57523,793.33971)\"/>\n",
       "    <polygon id=\"polygon117-4\" style=\"fill:#0978ab;stroke:#0978ab;stroke-width:1.01338696;\" points=\"679.00122,281.68945 681.8645,290.45239 681.42163,293.95679 680.14624,294.18506 680.14624,294.18506 678.23755,292.08984 673.68628,282.43335 674.50317,279.29541 677.55786,279.85693 \" transform=\"matrix(1,0,0,0.9737543,234.57523,793.33971)\"/>\n",
       "    <polygon id=\"polygon119-7\" style=\"fill:#0978ab;stroke:#0978ab;stroke-width:1.01338696;\" points=\"949.37231,321.69727 942.13354,322.79688 930.90845,321.81201 925.25806,319.86475 921.38647,319.4873 918.13403,317.86084 912.42993,317.42529 908.49731,314.40186 911.75806,312.06445 914.69751,312.52393 918.58423,313.14209 919.4397,314.52759 923.65454,313.77124 933.88647,315.24976 939.79712,316.71582 944.12622,317.00195 947.05103,316.37158 960.11597,316.85254 963.25415,317.82617 962.99438,318.49023 962.99438,318.49023 962.03247,320.67822 961.83423,320.74707 959.10767,321.67529 951.46411,320.80371 \" transform=\"matrix(1,0,0,0.9737543,234.57523,793.33971)\"/>\n",
       "    <polygon id=\"polygon121-3\" style=\"fill:#0978ab;stroke:#0978ab;stroke-width:1.01338696;\" points=\"650.95435,307.25439 655.948,310.65674 658.01733,314.92871 655.97876,319.89941 655.97876,319.89941 646.97583,314.10303 645.5481,313.1875 639.78296,305.94897 639.78296,298.02295 640.85181,296.94531 644.60864,299.17896 646.38062,302.51196 648.06812,303.57861 \" transform=\"matrix(1,0,0,0.9737543,234.57523,793.33971)\"/>\n",
       "    <polygon id=\"polygon123-0\" style=\"fill:#0978ab;stroke:#0978ab;stroke-width:1.01338696;\" points=\"768.40942,317.42529 769.01294,315.90259 768.53931,312.33984 771.20386,312.16846 773.46411,314.26367 777.17554,315.38672 779.51978,316.92188 782.71118,322.47607 781.3064,324.97363 779.41284,326.25537 779.41284,326.25537 777.71021,324.42334 776.98462,321.60596 771.29614,318.57031 769.26489,318.34229 \" transform=\"matrix(1,0,0,0.9737543,234.57523,793.33971)\"/>\n",
       "    <polygon id=\"polygon125-1\" style=\"fill:#0978ab;stroke:#0978ab;stroke-width:1.01338696;\" points=\"819.79126,321.06787 818.55444,318.73047 814.75903,311.58325 815.65259,307.23096 817.67603,306.97925 819.19556,305.52441 822.34937,306.47583 822.74634,307.59741 822.42554,312.98169 824.15894,319.24658 823.84595,321.42383 825.11353,324.21729 825.36548,326.66943 829.58813,330.23047 830.00024,331.91504 829.69507,334.18164 828.60278,334.4917 828.60278,334.4917 819.96704,323.98877 \" transform=\"matrix(1,0,0,0.9737543,234.57523,793.33971)\"/>\n",
       "    <polygon id=\"polygon127-6\" style=\"fill:#0978ab;stroke:#0978ab;stroke-width:1.01338696;\" points=\"859.67358,332.08643 860.46753,334.32031 859.62769,337.54932 855.77173,341.13428 855.77173,341.13428 855.18335,339.93262 856.29858,336.78174 856.41284,333.76953 855.67212,329.82959 852.91577,326.31396 855.09985,325.51172 858.07739,326.84082 860.177,330.18506 \" transform=\"matrix(1,0,0,0.9737543,234.57523,793.33971)\"/>\n",
       "    <polygon id=\"polygon129-7\" style=\"fill:#0978ab;stroke:#0978ab;stroke-width:1.01338696;\" points=\"732.66577,314.74487 734.32251,311.8584 734.10913,310.73706 732.64282,310.97754 732.07056,310.42725 731.28394,308.56006 732.26099,304.57422 731.00122,299.32837 731.39819,297.47241 731.48218,297.0603 733.92603,295.66357 735.16284,294.11719 736.49927,295.49194 742.63062,297.43774 745.40991,298.32007 747.23511,300.81787 747.23511,300.81787 746.07446,303.49829 745.08179,305.77734 743.4021,314.12671 741.59204,318.23828 741.66089,320.49561 743.34106,324.40088 748.57935,330.65527 748.80835,335.16797 749.81567,338.35156 748.15894,341.31787 747.07495,341.72998 745.83765,340.26416 741.64575,338.21484 740.10327,336.00342 734.1394,330.1626 733.5437,328.66211 733.96411,327.2417 736.01782,325.26025 739.40845,321.9834 739.01099,320.86182 736.09448,321.70996 734.66626,320.24219 733.36841,319.80811 732.78784,318.6958 \" transform=\"matrix(1,0,0,0.9737543,234.57523,793.33971)\"/>\n",
       "    <path id=\"path131-5\" style=\"fill:#0978ab;stroke:#0978ab;stroke-width:1;\" d=\"m 594.19021,1133.1053 4.4668,-2.6883 4.54346,-4.806 1.23682,-3.0007 -0.21362,-0.6248 -4.77246,5.8217 -6.30737,4.5169 -0.25195,0.5577 1.29832,0.2235 z m 34.72803,-31.6304 -4.18457,4.874 -1.51978,5.019 -2.00049,2.3864 -1.4126,5.2196 -2.79468,3.1571 -2.52759,4.8845 -1.93945,-0.1778 -0.76367,1.3156 0.50415,0.8934 -3.79517,3.3891 -3.55835,0.446 -4.82593,2.8884 -5.90991,1.1949 -1.95508,-2.4876 -1.59595,-0.7475 -2.85571,-0.1455 -2.00049,-1.4611 0.48096,-1.4045 7.81909,-3.7695 4.87183,-5.6443 2.10742,-0.9585 0.59546,-0.2682 2.72607,-2.2194 0.63379,-0.5131 0.9165,-0.4578 5.73438,-2.8766 3.29858,-4.0942 2.93237,-2.1625 6.13892,-6.4254 1.13818,-0.6464 3.79492,-2.152 0.23682,0.9588 0.13721,0.5577 0.0767,0.3001 -0.50389,1.1273 z\"/>\n",
       "    <polygon id=\"polygon133-7\" style=\"fill:#0978ab;stroke:#0978ab;stroke-width:1.01338696;\" points=\"772.70044,358.12012 771.37964,356.92969 769.53931,356.60889 765.98901,354.45557 765.66821,352.95459 766.22583,350.01172 768.54712,350.89404 769.43286,353.03516 774.34253,354.48975 776.07544,357.45654 776.07544,357.45654 773.62476,358.37354 \" transform=\"matrix(1,0,0,0.9737543,234.57523,793.33971)\"/>\n",
       "    <polygon id=\"polygon135-8\" style=\"fill:#0978ab;stroke:#0978ab;stroke-width:1.01338696;\" points=\"767.38599,402.96143 767.73755,402.38916 765.72925,399.61768 764.45386,396.54883 767.36304,384.79736 767.98169,382.2998 767.17993,379.77979 767.88989,375.98877 767.48511,374.48828 766.10327,374.24756 763.75903,375.6333 759.20825,376.81299 757.25317,378.94434 742.47778,384.48779 736.85815,383.61768 732.19995,381.13086 730.42065,381.12012 722.70874,379.63184 721.01343,377.99268 719.94458,376.22949 720.3645,374.80908 723.3269,372.82764 730.12329,370.86914 731.48218,369.55225 730.05444,368.39502 720.92212,369.21924 713.91968,368.13232 712.08716,368.60107 710.18579,369.09326 707.87231,368.41846 706.32935,368.84131 704.09204,370.52588 702.29028,374.62549 700.41187,376.104 697.06714,377.53516 692.38647,377.31787 691.50854,375.82861 692.31763,372.50635 690.89771,368.2124 691.56958,366.12646 693.28003,365.12012 696.12085,367.85693 697.67798,367.79883 698.48022,367.11279 698.77808,365.03955 698.36548,363.53906 699.32007,361.8999 698.7395,360.83545 697.96069,359.40381 698.79321,356.82568 697.68579,353.66553 696.99878,352.35986 692.10425,348.46582 692.0813,347.84717 692.07349,347.62891 696.02124,347.4917 696.99878,348.83203 697.16675,349.06006 700.73267,351.39746 701.10669,352.13037 702.19897,354.26025 703.41284,354.98242 705.69604,354.43311 717.18042,343.03564 718.53979,342.25732 719.43286,341.74121 724.29712,335.74072 724.21313,338.94775 721.7312,347.69824 720.09741,351.43213 715.27124,355.54395 714.59155,357.26172 715.63794,358.45361 717.82935,358.20068 719.69995,359.26709 722.46411,356.53955 725.49585,356.82568 729.79468,359.43848 731.54321,359.55322 736.17065,363.93848 737.06421,365.98975 735.41479,369.15137 735.7356,370.74316 740.47729,372.85107 746.24243,372.3916 753.33618,373.68604 755.62671,373.43457 760.03247,370.55908 763.94263,369.41406 765.76733,369.07129 767.17993,370.26172 767.17993,370.26172 769.52417,372.07227 771.34155,374.65967 771.80737,381.42969 773.65503,391.65723 771.99829,397.73975 772.05151,399.61768 774.90747,403.40869 774.70142,405.86084 775.54126,409.51465 774.92261,410.47559 773.11304,411.00244 772.29614,411.40381 770.66187,414.94287 769.82983,414.68018 767.88257,410.68164 \" transform=\"matrix(1,0,0,0.9737543,234.57523,793.33971)\"/>\n",
       "    <polygon id=\"polygon137-8\" style=\"fill:#0978ab;stroke:#0978ab;stroke-width:1.01338696;\" points=\"693.78394,381.03955 695.30347,379.66504 696.16626,379.75781 696.67798,379.81445 697.89966,380.71875 697.80005,380.90283 696.08228,383.98438 692.46313,385.41553 688.15649,388.29102 686.10962,387.51074 686.10962,387.51074 682.6355,387.8208 682.97144,386.67529 685.29272,384.8999 686.87378,382.78076 689.52319,382.49463 \" transform=\"matrix(1,0,0,0.9737543,234.57523,793.33971)\"/>\n",
       "    <polygon id=\"polygon139-9\" style=\"fill:#0978ab;stroke:#0978ab;stroke-width:1.01338696;\" points=\"307.63745,373.83545 310.83691,373.58398 318.88501,367.23877 324.97827,364.09912 326.08545,364.23779 327.20801,365.31348 330.02588,368.00635 332.82056,368.89795 339.41772,368.68115 341.85376,371.67139 342.57935,375.40527 342.24316,375.98877 340.85327,375.77197 340.48682,377.58057 340.87622,378.13135 339.79956,380.54736 336.92847,383.8916 328.17798,388.94385 325.32202,392.48291 318.79346,397.80908 314.45605,402.83594 309.83643,405.90625 308.27881,407.77344 305.93457,408.55225 303.04053,411.02637 301.71191,412.17139 300.82593,414.66748 297.91675,416.98145 291.93042,423.88818 285.36353,429.89062 280.97266,433.61377 277.01758,435.13623 272.08472,438.98535 271.02319,441.58545 267.09839,445.90332 264.34937,448.91553 262.66187,449.9585 259.56177,450.20996 257.4314,449.67188 255.08716,448.56006 252.06323,448.43408 246.76416,450.32471 242.45728,453.76025 239.83838,454.47119 235.74536,456.66992 232.01147,456.96729 229.49927,456.06299 228.59058,454.4126 229.20142,452.21387 230.56836,450.34668 234.08081,447.41504 239.96802,444.45898 243.68677,440.19971 247.31372,437.74756 252.88794,432.15869 254.93457,431.10498 257.71387,428.08008 260.66138,424.86182 262.47876,420.8999 263.87598,419.50146 266.30444,414.94287 269.73267,412.11475 270.26733,410.01807 277.42212,402.84863 279.2395,402.46973 281.59888,400.07568 284.84399,399.06885 285.69946,395.99854 287.37158,394.59033 291.60181,392.96436 291.60181,392.96436 294.37378,389.60742 294.6333,381.86377 296.32104,378.85156 301.12378,377.66113 \" transform=\"matrix(1,0,0,0.9737543,234.57523,793.33971)\"/>\n",
       "    <polygon id=\"polygon141-0\" style=\"fill:#0978ab;stroke:#0978ab;stroke-width:1.01338696;\" points=\"366.03638,392.57422 357.06445,400.84326 354.17017,401.63428 351.91016,404.19971 347.74097,407.23535 343.00659,407.84277 340.64722,406.35303 338.34106,402.12646 338.34106,402.12646 339.97534,399.88184 344.05298,396.9375 348.86353,391.99072 352.75757,390.94775 361.37866,387.04199 363.21899,387.14453 365.51733,389.20654 366.32666,390.86768 \" transform=\"matrix(1,0,0,0.9737543,234.57523,793.33971)\"/>\n",
       "    <polygon id=\"polygon143-7\" style=\"fill:#0978ab;stroke:#0978ab;stroke-width:1.01338696;\" points=\"660.46851,431.95264 657.5896,430.82959 656.91772,429.81055 657.04761,428.29883 658.51392,425.60742 660.55249,423.55615 663.99634,422.4917 667.37915,419.63965 669.29565,416.64941 670.99829,415.65381 670.99829,415.65381 671.63208,418.27588 671.44897,420.92139 670.57837,422.45703 667.01245,425.30859 661.81226,431.2417 \" transform=\"matrix(1,0,0,0.9737543,234.57523,793.33971)\"/>\n",
       "    <polygon id=\"polygon147-8\" style=\"fill:#0978ab;stroke:#0978ab;stroke-width:1.01338696;\" points=\"508.59839,489.5083 506.23901,485.36182 505.51343,485.39502 503.47485,484.62891 503.00903,483.76855 502.5813,482.96826 503.38306,482.37158 503.87183,480.83643 502.78003,476.3584 504.16968,472.4292 504.16968,472.4292 505.93384,475.37402 506.5061,475.62549 507.33081,475.98096 509.17114,478.6377 513.50806,482.04004 517.21948,483.58594 517.48657,483.95264 520.7854,488.44189 528.11597,491.44287 531.21606,493.76807 533.42261,496.51758 534.08716,499.68994 535.51489,501.14502 537.90503,501.61377 540.51636,500.75488 545.11353,501.70654 549.10669,501.07568 553.42114,501.84326 554.78052,504.05322 557.52173,506.49316 555.17749,509.7002 553.54321,509.86084 550.76392,508.64648 544.53296,510.41113 541.21899,511.95752 538.10376,511.51074 533.04858,508.13184 529.52856,506.67676 528.26099,506.91748 526.77954,506.31055 523.64868,503.229 523.17505,500.60693 519.89185,498.29346 519.0061,496.54102 516.60864,494.84521 516.09692,494.48975 513.35571,494.50098 \" transform=\"matrix(1,0,0,0.9737543,234.57523,793.33971)\"/>\n",
       "    <polygon id=\"polygon149-0\" style=\"fill:#0978ab;stroke:#0978ab;stroke-width:1.01338696;\" points=\"606.26147,482.08545 602.38989,483.55127 598.1521,487.58301 590.60767,490.88135 588.82886,492.26904 585.698,496.3457 581.28442,498.02881 577.11548,498.75098 575.78638,497.2959 572.76294,497.0332 572.76294,497.0332 585.22485,488.44189 593.99048,480.94043 598.28979,476.06104 601.91675,472.91064 608.42261,470.97607 610.80493,471.06689 614.302,471.88037 615.04272,472.05176 617.09692,473.39209 617.87573,474.77783 616.82202,475.94629 615.72974,476.43848 611.43091,478.40967 \" transform=\"matrix(1,0,0,0.9737543,234.57523,793.33971)\"/>\n",
       "    <polygon id=\"polygon153-3\" style=\"fill:none;stroke:#0978ab;stroke-width:1.01338696;\" points=\"122.24561,529.93896 121.7417,527.41943 125.70483,521.70459 128.38501,519.09229 140.65576,509.97559 143.34351,509.06006 142.61816,510.7998 135.02051,518.6123 129.94263,523.11279 122.24561,529.93896 \" transform=\"matrix(1,0,0,0.9737543,234.57523,793.33971)\"/>\n",
       "    <polygon id=\"genfersee\" style=\"fill:#0978ab;stroke:#0978ab;stroke-width:1.01338696;\" points=\"201.17773,572.42139 202.82715,572.61621 207.66064,572.82227 212.27271,570.57764 216.54883,570.44092 221.32129,571.21973 224.88721,573.38379 233.12622,574.34668 236.80688,573.29248 238.54028,573.8999 244.58789,575.99512 249.71899,580.24512 251.85718,581.26416 255.24756,581.65479 258.68359,581.28662 263.89136,585.354 267.70923,587.12842 269.8855,587.08252 270.61084,587.07178 273.19189,587.73535 281.57617,589.8999 283.68359,592.05322 283.98901,592.31738 284.82129,593.02686 287.11206,593.47363 290.61694,595.95898 291.44922,596.55518 292.02197,596.71533 293.7478,597.19678 297.40527,599.94629 298.09253,600.46045 298.84058,600.83838 302.65845,602.77441 303.65894,604.56104 304.04858,605.24854 304.37671,605.39795 305.16333,605.76465 306.38501,608.53613 307.88159,613.27832 307.56104,614.29785 306.8584,616.53125 305.41528,618.50049 294.36597,619.16455 290.40308,619.93213 289.90698,620.90576 289.30347,621.59326 288.50952,621.42139 286.46313,620.98584 282.39307,621.38721 275.08545,618.55713 273.22241,618.78711 271.19897,619.05127 262.02051,615.28223 257.56885,615.23682 249.74219,613.19824 240.09009,614.0791 236.9978,614.35449 228.49902,613.49561 224.6123,613.80371 207.43164,617.11475 201.52905,617.06934 198.26855,615.64893 196.15332,616.80518 193.29761,621.21582 193.29761,621.21582 192.83936,619.43994 194.47363,616.00439 194.6416,615.66016 194.229,614.83545 188.91455,617.40137 186.75366,619.40527 185.92896,622.54297 185.16528,625.45312 183.18018,627.35498 177.27759,630.80273 172.01636,632.52051 167.60278,633.14941 166.13672,636.26562 164.16675,636.84912 161.11987,640.80176 157.47754,640.62891 157.17993,640.18213 156.14893,639.51807 152.94946,637.50195 150.70459,631.29492 149.23853,629.4043 146.56592,628.70605 140.8772,629.32422 135.40234,632.0957 130.82837,636.33447 129.0874,640.97314 124.8877,646.98682 123.34521,651.72754 123.10864,652.47314 120.70337,654.98047 118.87061,659.52783 118.78662,659.66602 113.52563,668.16455 112.55566,669.73291 109.2876,671.25732 106.88989,673.76611 105.92017,675.896 105.31689,682.82471 103.22461,687.73877 102.6748,689.0332 102.23218,689.61816 102.22437,689.62939 101.07153,691.12988 98.87988,693.99268 98.24609,694.32422 95.62695,695.69922 95.03906,694.88574 95.2146,694.17627 95.62695,692.48096 95.39038,690.55713 94.61133,684.23389 95.26807,678.24414 96.86401,674.37305 99.20068,672.42578 100.23901,670.0083 101.27759,659.45996 106.76782,650.81201 108.16504,648.17725 111.16602,637.04395 113.97607,632.14307 117.28247,627.98389 119.54272,626.04932 121.79517,622.521 123.53613,621.18115 127.89624,619.61133 130.4541,618.22559 133.37891,611.91455 134.60059,607.68848 137.25,606.30273 139.82349,601.90479 147.11572,594.01318 150.78101,591.25244 154.21704,590.77148 162.0896,591.73242 164.63989,591.87061 180.27075,584.83838 184.73779,579.86768 187.05151,578.97412 189.78516,573.91113 191.81616,572.66211 194.64893,569.47852 195.55005,569.24854 \" transform=\"matrix(1,0,0,0.9737543,234.57523,793.33971)\"/>\n",
       "    <polygon id=\"polygon163-0\" style=\"fill:none;stroke:#0978ab;stroke-width:1.01338696;\" points=\"847.91431,792.06104 849.84644,790.12451 850.6936,787.83447 850.17456,785.21045 850.86157,783.7793 853.98462,782.46289 855.2522,782.62305 855.54224,783.65332 852.29712,790.7207 851.85425,794.69531 852.91577,801.26904 852.03003,805.63379 853.16772,807.86719 856.77173,811.82959 859.65845,808.26709 861.42993,807.0874 863.58325,801.31445 863.8811,800.51367 865.2019,799.16113 865.31665,798.73779 865.39282,798.47559 865.39282,798.46289 865.87378,796.65381 865.91968,796.48242 868.17212,788.14258 867.82886,785.02832 867.4314,784.31738 865.85083,781.5 867.42407,779.47266 868.79077,779.81689 870.24927,780.5376 873.58618,780.92773 877.00708,780.65234 880.7561,779.14062 884.77271,775.71631 886.2312,774.47852 892.92017,771.29492 899.43384,772.17725 904.09155,771.12354 908.45923,768.93555 910.58228,766.81641 911.74243,766.4043 913.49146,767.97266 913.49146,767.97266 913.97241,769.27832 912.06323,772.72607 907.10767,776.80322 902.88501,777.56006 895.12671,776.99854 890.73608,778.04102 885.71216,781.2832 884.33765,782.16357 877.72485,784.21484 872.77661,788.49805 872.45581,789.22021 871.78394,790.74268 869.36353,796.21826 869.27173,797.35205 869.25659,797.54736 869.08081,799.72266 869.08081,799.74609 869.44751,803.37646 869.55444,804.43066 871.36401,808.53125 872.83032,809.53955 874.53296,812.9873 874.74683,814.48633 873.38745,818.01416 872.33374,818.88574 871.38696,816.92773 871.29565,813.25 869.77563,809.80225 868.0271,808.14111 865.56812,807.07617 863.8811,807.96973 859.60474,813.54736 859.29956,813.76611 857.03931,815.31201 855.8938,816.58301 853.80151,818.89697 852.00708,819.31982 851.06763,817.45264 851.25854,814.24707 849.92993,811.72754 849.38013,807.59229 849.6936,802.10547 849.0979,799.67725 847.40259,797.20264 847.34937,797.12256 846.94458,796.51562 847.90649,795.46143 \" transform=\"matrix(1,0,0,0.9737543,234.57523,793.33971)\"/>\n",
       "    <polygon id=\"polygon179-3\" style=\"fill:#0978ab;stroke:#0978ab;stroke-width:1.01338696;\" points=\"809.49829,283.55664 808.44458,281.97559 805.22974,285.65332 802.80884,284.67969 800.2356,281.54004 798.92993,280.83057 796.62427,277.31348 792.79077,275.25293 792.49292,275.01221 789.59106,272.70947 786.78931,268.16211 785.48315,267.45264 783.82642,264.19995 780.51978,264.76123 777.28247,264.29102 776.46509,263.90112 771.12036,261.35913 767.15698,257.53369 766.95093,257.33862 765.97339,255.48267 764.82837,250.79834 759.97974,242.65527 759.48315,241.28052 758.67358,239.04688 755.55835,230.44458 754.22974,229.1626 753.68774,226.44775 752.04565,223.95142 753.43579,218.8645 753.62622,218.15503 754.2063,217.98364 755.23755,219.56445 756.31421,221.55737 756.91724,222.14111 758.97144,224.1228 760.70483,227.95923 762.3313,231.55664 762.59839,234.55786 763.75903,236.41211 764.88159,240.14648 766.98901,242.82666 767.99731,246.229 769.74585,248.771 776.96167,256.10229 781.08521,258.62207 782.2229,258.98877 789.45386,261.30078 791.99683,263.13501 793.84448,264.4624 797.91431,267.39453 802.427,270.64746 803.71802,271.12866 806.35962,272.11328 806.89429,272.30835 809.8645,273.16699 817.96606,273.23633 820.69995,272.21729 822.4563,272.2627 823.97583,270.71655 828.41235,271.55347 828.79419,271.62109 829.29028,273.01953 828.21118,275.37988 830.72632,278.17383 830.72632,278.17383 832.26831,277.94434 834.71216,279.66187 838.95728,280.2124 840.48462,278.66626 841.49243,278.44775 845.95923,280.40601 852.41919,278.79199 855.65698,277.98975 857.19165,276.82129 862.97974,276.38696 864.75122,277.2002 861.17798,281.71289 858.52808,282.44604 855.80981,284.20947 853.61792,284.9187 848.99097,283.91187 845.89087,284.84009 841.7522,285.04614 840.30884,286.30615 839.36938,288.87158 838.36938,289.55884 830.88599,288.43579 829.27515,286.49951 826.49585,285.82471 825.15161,283.87744 826.40405,282.23999 826.55981,281.07471 825.18481,280.19971 823.85327,280.44897 820.82202,283.61328 819.43237,283.28125 816.96606,284.00317 813.62134,282.86914 \" transform=\"matrix(1,0,0,0.9737543,234.57523,793.33971)\"/>\n",
       "    <polygon id=\"polygon181-6\" style=\"fill:#0978ab;stroke:#0978ab;stroke-width:1.01338696;\" points=\"1093.7131,602.17822 1093.3391,601.34326 1093.6829,599.83154 1096.8899,595.82178 1099.051,594.18457 1099.5471,590.78223 1101.8606,587.6333 1102.8611,587.81592 1102.8611,587.81592 1100.7459,592.1792 1100.448,596.89941 1099.7454,598.22705 1098.4705,598.3418 1096.0579,600.82715 \" transform=\"matrix(1,0,0,0.9737543,234.57523,793.33971)\"/>\n",
       "    <polygon id=\"polygon183-7\" style=\"fill:#0978ab;stroke:#0978ab;stroke-width:1.01338696;\" points=\"1085.5124,605.70654 1086.429,606.34814 1086.0925,608.34082 1083.657,609.13037 1080.801,612.56738 1076.0134,613.87305 1074.6541,613.98779 1073.738,613.42627 1073.738,613.42627 1077.9529,609.96729 1079.0374,609.67041 1082.053,605.38525 1084.8479,604.11475 1086.1233,604.37842 \" transform=\"matrix(1,0,0,0.9737543,234.57523,793.33971)\"/>\n",
       "    <path style=\"fill:#0978ab;stroke:#0978ab;stroke-width:1;\" d=\"m 990.2327,1627.8286 1.34375,-0.1331 0.53467,-0.4474 2.61914,-2.2195 1.17578,-12.0678 -0.96191,-5.3975 -1.09229,-3.2688 -3.16846,-3.858 -4.76513,-2.9897 -3.35938,-0.9928 -1.57324,-1.6175 -3.73389,-8.5541 -4.39062,-4.1494 -0.95459,-1.9955 2.09961,-1.8962 3.00879,-0.2682 1.00049,-1.2376 0.40478,0.1331 2.32129,0.7917 3.50488,2.8447 1.54248,0.3124 0.96973,0.6476 1.9624,1.2928 1.87061,2.4201 2.81738,0.7474 0.87842,-0.5786 0.65674,-2.2195 2.77929,-3.4923 3.24508,-2.8442 4.7954,-2.4416 3.5967,-3.235 3.8487,-8.799 5.1767,-6.3475 5.5059,-9.4351 3.1152,-1.4611 4.4746,-1.1378 2.0161,-2.0849 1.2749,-2.6099 -0.7402,-7.3274 -3.6274,-7.1496 -0.2671,-1.8181 -0.2901,-1.93 0.6411,-6.0897 0.8477,-1.7954 5.4673,-11.6099 2.6035,-3.8365 3.0776,-3.1234 5.1773,-2.3421 1.9853,0.1336 5.3985,2.4196 2.3291,-0.7916 0.8471,-2.0526 2.4742,-2.1748 0.023,-0.7916 0.069,-2.4202 0.603,-1.3051 5.4521,-2.1748 2.5201,-0.513 3.7412,4.9534 1.8554,1.6936 -1.1377,1.5961 1.1153,1.2486 2.3515,-0.055 0.3897,1.0027 -17.8301,5.6995 -3.1611,3.2241 -0.2676,0.2667 -5.9404,4.1157 -4.2149,4.3391 -1.0312,0.2558 -1.8399,0.4688 -1.8554,1.4273 -1.0005,3.1462 -2.8638,4.215 -0.1221,2.0312 1.2676,3.5455 1.0996,7.1391 -0.4658,2.676 1.1455,2.354 2.5811,2.0402 0.4502,1.115 0.8095,1.9741 0.2906,4.2169 -1.0923,2.9774 -3.5889,3.6806 -4.6269,2.2428 -1.0386,1.4045 -0.4429,3.7814 -4.3144,3.6135 -6.2002,3.6696 -2.4512,2.4539 -1.8403,4.8289 -2.4893,1.1824 -0.3208,0.3895 -3.4209,4.2164 -3.7339,1.5728 -1.7563,1.5272 -0.7481,2.0417 1.1299,1.8058 -0.2441,1.0156 -0.9624,0.8592 -2.2452,0.2453 -2.7407,4.7741 1.7334,3.8917 -0.4887,1.6727 2.2827,4.3391 1.4052,5.1084 2.6875,2.7768 0.6495,3.837 0.5498,3.6573 -0.4737,2.2194 -0.1601,0.6481 -1.7871,0.513 -2.2525,2.9103 -0.038,0.7812\" id=\"polyline199-2\"/>\n",
       "    <polygon id=\"polygon151-6\" style=\"fill:#0978ab;stroke:#0978ab;stroke-width:1.01338696;\" points=\"361.27954,499.90723 359.76001,500.64014 356.82764,504.27197 357.33179,507.26074 356.56812,508.5332 356.32373,511.18994 356.56812,514.47705 358.73657,523.90381 358.41602,526.93799 359.19482,528.03906 358.69849,530.98193 357.00317,529.83691 355.73584,529.99756 356.04126,526.7666 354.94922,510.97266 355.30811,506.89404 353.94116,506.99805 352.76538,508.60059 352.6355,507.66162 355.34644,499.90723 357.36206,498.01807 357.7439,496.48291 355.98755,496.00146 355.29297,494.71924 355.28516,492.64648 354.50635,491.54688 356.03345,489.11816 357.57593,487.98389 359.74463,486.39209 359.74463,486.39209 359.88965,487.60645 359.06494,489.53027 357.37744,490.56201 357.18652,492.26904 360.27905,497.97217 361.72998,497.28516 362.95923,496.7124 361.59253,499.3125 \" transform=\"matrix(1,0,0,0.9737543,234.60453,792.53506)\"/>\n",
       "  </g>\n",
       "</svg></g><g class=\"titles\"><text x=\"400.0\" y=\"26\" class=\"title plot_title\">La suisse :pers  en 2010</text></g><g transform=\"translate(75, 46)\" class=\"plot overlay\"/><g transform=\"translate(75, 46)\" class=\"plot text-overlay\"/><g transform=\"translate(75, 46)\" class=\"plot tooltip-overlay\"><g transform=\"translate(0 0)\" style=\"opacity: 0\" class=\"tooltip\"><rect rx=\"0\" ry=\"0\" width=\"0\" height=\"0\" class=\"tooltip-box\"/><g class=\"text\"/></g></g><g transform=\"translate(10, 56)\" class=\"legends\"><g id=\"activate-serie-0\" class=\"legend reactive activate-serie\"><rect x=\"0.0\" y=\"1.0\" width=\"12\" height=\"12\" class=\"color-0 reactive\"/><text x=\"17.0\" y=\"11.2\">pers</text></g></g><g transform=\"translate(790, 56)\" class=\"legends\"/></g></svg>\n",
       "    </figure>\n",
       "  </body>\n",
       "</html>\n"
      ],
      "text/plain": [
       "<IPython.core.display.HTML object>"
      ]
     },
     "metadata": {},
     "output_type": "display_data"
    }
   ],
   "source": [
    "display_widgets()"
   ]
  },
  {
   "cell_type": "code",
   "execution_count": null,
   "metadata": {},
   "outputs": [],
   "source": []
  }
 ],
 "metadata": {
  "colab": {
   "name": "modèle_de_rapport.ipynb",
   "provenance": []
  },
  "kernelspec": {
   "display_name": "Python 3",
   "language": "python",
   "name": "python3"
  },
  "language_info": {
   "codemirror_mode": {
    "name": "ipython",
    "version": 3
   },
   "file_extension": ".py",
   "mimetype": "text/x-python",
   "name": "python",
   "nbconvert_exporter": "python",
   "pygments_lexer": "ipython3",
   "version": "3.8.5"
  }
 },
 "nbformat": 4,
 "nbformat_minor": 5
}
